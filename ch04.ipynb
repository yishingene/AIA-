{
 "cells": [
  {
   "cell_type": "markdown",
   "metadata": {},
   "source": [
    "# NumPy Basics: Arrays and Vectorized Computation\n",
    "# NumPy 基礎:陣列和向量化計算\n",
    "\n",
    "## NumPy, short for Numerical Python, is the fundamental package required for high performance scientific computing and data analysis. It is the foundation on which nearly all of the higher-level tools in this book are built.\n",
    "\n",
    "## Here are some of the things it provides:\n",
    "\n",
    "## 1. ndarray, a fast and space-efficient multidimensional array providing vectorized arithmetic operations and sophisticated broadcasting capabilities\n",
    "\n",
    "## 2. Standard mathematical functions for fast operations on entire arrays of data without having to write loops\n",
    "\n",
    "## 3. Tools for reading / writing array data to disk and working with memory-mapped files\n",
    "\n",
    "## 4. Linear algebra, random number generation, and Fourier transform capabilities\n",
    "\n",
    "## 5. Tools for integrating code written in C, C++, and Fortran\n",
    "\n",
    "## Because NumPy provides an easy-to-use C API, it is very easy to pass data to external libraries written in a low-level language and also for external libraries to return data to Python as NumPy arrays. This feature has made Python a language of choice for wrapping legacy C/C++/Fortran codebases and giving them a dynamic and easy-to-use interface.\n",
    "\n",
    "## While NumPy by itself does not provide very much high-level data analytical functionality, having an understanding of NumPy arrays and array-oriented computing will help you use tools like pandas much more effectively. If you’re new to Python and just looking to get your hands dirty working with data using pandas, feel free to give this chapter a skim. For more on advanced NumPy features like broadcasting.\n",
    "\n",
    "## For most data analysis applications, the main areas of functionality I’ll focus on are:\n",
    "\n",
    "## 1. Fast vectorized array operations for data munging and cleaning, subsetting and filtering, transformation, and any other kinds of computations\n",
    "\n",
    "## 2. Common array algorithms like sorting, unique, and set operations\n",
    "\n",
    "## 3. Efficient descriptive statistics and aggregating/summarizing data\n",
    "\n",
    "## 4. Data alignment and relational data manipulations for merging and joining together heterogeneous data sets\n",
    "\n",
    "## 5. Expressing conditional logic as array expressions instead of loops with if-elif-else branches\n",
    "\n",
    "## 6. Group-wise data manipulations (aggregation, transformation, function application). Much more on this in Chapter 5\n",
    "\n",
    "## While NumPy provides the computational foundation for these operations, you will likely want to use pandas as your basis for most kinds of data analysis (especially for structured or tabular data) as it provides a rich, high-level interface making most common data tasks very concise and simple. pandas also provides some more domain-specific functionality like time series manipulation, which is not present in NumPy.\n",
    "\n",
    "## NumPy 在 Python的數值運算中地位崇高的原因之一，就是因為它的設計是有效率地處理大型資料陣列，其中包括:\n",
    "\n",
    "## NumPy 內部在儲存資料時，是儲存在連續的記憶體中，這一點和其他Python的物件不同。NumPy的演算法函式庫適用C語言寫的，可以無負擔的直接存取那塊記憶體，不需要做任何形態檢查或其他動作。和內建的Python序列相比，NumPy陣列也使用較少的記憶體。\n",
    "\n",
    "## NumPy可以對整個陣列進行複雜的運算，不需要Python的 for 迴圈。\n",
    "\n",
    "## 比較有一百萬整數的NumPy陣列以及有一百萬整數的Python list。"
   ]
  },
  {
   "cell_type": "code",
   "execution_count": 2,
   "metadata": {},
   "outputs": [],
   "source": [
    "import numpy as np\n",
    "my_arr = np.arange(1000000)\n",
    "my_list = list(range(1000000))"
   ]
  },
  {
   "cell_type": "markdown",
   "metadata": {},
   "source": [
    "# 現在將兩者所有元素都成乘以2"
   ]
  },
  {
   "cell_type": "code",
   "execution_count": 3,
   "metadata": {},
   "outputs": [
    {
     "name": "stdout",
     "output_type": "stream",
     "text": [
      "Wall time: 158 ms\n"
     ]
    }
   ],
   "source": [
    "%time for _ in range(10): my_arr2 = my_arr * 2"
   ]
  },
  {
   "cell_type": "code",
   "execution_count": 4,
   "metadata": {},
   "outputs": [
    {
     "name": "stdout",
     "output_type": "stream",
     "text": [
      "Wall time: 5.69 s\n"
     ]
    }
   ],
   "source": [
    "%time for _ in range(10): my_list2 = [x * 2 for x in my_list]"
   ]
  },
  {
   "cell_type": "markdown",
   "metadata": {},
   "source": [
    "# The NumPy ndarray: A Multidimensional Array Object 多維陣列物件\n",
    "\n",
    "## One of the key features of NumPy is its N-dimensional array object, or ndarray, which is a fast, flexible container for large data sets in Python. Arrays enable you to perform mathematical operations on whole blocks of data using similar syntax to the equivalent operations between scalar elements:"
   ]
  },
  {
   "cell_type": "code",
   "execution_count": 7,
   "metadata": {},
   "outputs": [
    {
     "data": {
      "text/plain": [
       "array([[ 0.16278981, -0.72710092,  0.5256924 ],\n",
       "       [-1.41491766,  0.12858173, -0.88418611]])"
      ]
     },
     "execution_count": 7,
     "metadata": {},
     "output_type": "execute_result"
    }
   ],
   "source": [
    "import numpy as np\n",
    "# Generate some random data\n",
    "data = np.random.randn(2, 3)\n",
    "data"
   ]
  },
  {
   "cell_type": "code",
   "execution_count": 8,
   "metadata": {},
   "outputs": [
    {
     "data": {
      "text/plain": [
       "array([[ 0.32557962, -1.45420183,  1.05138479],\n",
       "       [-2.82983532,  0.25716347, -1.76837222]])"
      ]
     },
     "execution_count": 8,
     "metadata": {},
     "output_type": "execute_result"
    }
   ],
   "source": [
    "data * 10\n",
    "data + data"
   ]
  },
  {
   "cell_type": "markdown",
   "metadata": {},
   "source": [
    "## An ndarray is a generic multidimensional container for homogeneous data;  that is, all of the elements must be the same type. Every array has a shape, a tuple indicating the size of each dimension, and a dtype, an object describing the data type of the array:"
   ]
  },
  {
   "cell_type": "code",
   "execution_count": 9,
   "metadata": {},
   "outputs": [
    {
     "data": {
      "text/plain": [
       "(2, 3)"
      ]
     },
     "execution_count": 9,
     "metadata": {},
     "output_type": "execute_result"
    }
   ],
   "source": [
    "data.shape"
   ]
  },
  {
   "cell_type": "code",
   "execution_count": 10,
   "metadata": {},
   "outputs": [
    {
     "data": {
      "text/plain": [
       "dtype('float64')"
      ]
     },
     "execution_count": 10,
     "metadata": {},
     "output_type": "execute_result"
    }
   ],
   "source": [
    "data.dtype"
   ]
  },
  {
   "cell_type": "markdown",
   "metadata": {},
   "source": [
    "## This chapter will introduce you to the basics of using NumPy arrays, and should be sufficient for following along with the rest of the book. While it’s not necessary to have a deep understanding of NumPy for many data analytical applications, becoming proficient in array-oriented programming and thinking is a key step along the way to becoming a scientific Python guru."
   ]
  },
  {
   "cell_type": "markdown",
   "metadata": {},
   "source": [
    "### Note: array, NumPyarray, ndarray refer to 'ndarray' in this text"
   ]
  },
  {
   "cell_type": "markdown",
   "metadata": {},
   "source": [
    "### Creating ndarrays  建立ndarray\n",
    "### 建立陣列最簡單的方法，就是使用array函式，它可以接受任何序列物件作為參數(包括其他陣列)，並產生一個包含傳入資料的新NumPy陣列，舉例來說，list就是一個很適合的傳入物件。"
   ]
  },
  {
   "cell_type": "code",
   "execution_count": 11,
   "metadata": {},
   "outputs": [
    {
     "data": {
      "text/plain": [
       "array([6. , 7.5, 8. , 0. , 1. ])"
      ]
     },
     "execution_count": 11,
     "metadata": {},
     "output_type": "execute_result"
    }
   ],
   "source": [
    "data1 = [6, 7.5, 8, 0, 1]\n",
    "arr1 = np.array(data1)\n",
    "arr1"
   ]
  },
  {
   "cell_type": "code",
   "execution_count": 12,
   "metadata": {},
   "outputs": [
    {
     "data": {
      "text/plain": [
       "array([[1, 2, 3, 4],\n",
       "       [5, 6, 7, 8]])"
      ]
     },
     "execution_count": 12,
     "metadata": {},
     "output_type": "execute_result"
    }
   ],
   "source": [
    "data2 = [[1, 2, 3, 4], [5, 6, 7, 8]] #也可以用巢式list，兩個等長的list組成的list，會被轉成多維陣列。\n",
    "arr2 = np.array(data2)\n",
    "arr2"
   ]
  },
  {
   "cell_type": "code",
   "execution_count": 13,
   "metadata": {},
   "outputs": [
    {
     "data": {
      "text/plain": [
       "2"
      ]
     },
     "execution_count": 13,
     "metadata": {},
     "output_type": "execute_result"
    }
   ],
   "source": [
    "arr2.ndim #用ndim和shape屬性來確認data2的維度與shape。"
   ]
  },
  {
   "cell_type": "code",
   "execution_count": 14,
   "metadata": {},
   "outputs": [
    {
     "data": {
      "text/plain": [
       "(2, 4)"
      ]
     },
     "execution_count": 14,
     "metadata": {},
     "output_type": "execute_result"
    }
   ],
   "source": [
    "arr2.shape"
   ]
  },
  {
   "cell_type": "code",
   "execution_count": 15,
   "metadata": {},
   "outputs": [
    {
     "data": {
      "text/plain": [
       "dtype('float64')"
      ]
     },
     "execution_count": 15,
     "metadata": {},
     "output_type": "execute_result"
    }
   ],
   "source": [
    "arr1.dtype #除非指定，np.array會試圖為自己建立的陣列找一個適當的型態。並把它儲存在一個名為dtype的metadata物件中。"
   ]
  },
  {
   "cell_type": "code",
   "execution_count": 16,
   "metadata": {},
   "outputs": [
    {
     "data": {
      "text/plain": [
       "dtype('int32')"
      ]
     },
     "execution_count": 16,
     "metadata": {},
     "output_type": "execute_result"
    }
   ],
   "source": [
    "arr2.dtype"
   ]
  },
  {
   "cell_type": "code",
   "execution_count": 17,
   "metadata": {},
   "outputs": [
    {
     "data": {
      "text/plain": [
       "array([0., 0., 0., 0., 0., 0., 0., 0., 0., 0.])"
      ]
     },
     "execution_count": 17,
     "metadata": {},
     "output_type": "execute_result"
    }
   ],
   "source": [
    "np.zeros(10) #建立全是0的陣列。"
   ]
  },
  {
   "cell_type": "code",
   "execution_count": 18,
   "metadata": {},
   "outputs": [
    {
     "data": {
      "text/plain": [
       "array([[0., 0., 0., 0., 0., 0.],\n",
       "       [0., 0., 0., 0., 0., 0.],\n",
       "       [0., 0., 0., 0., 0., 0.]])"
      ]
     },
     "execution_count": 18,
     "metadata": {},
     "output_type": "execute_result"
    }
   ],
   "source": [
    "np.zeros((3, 6))"
   ]
  },
  {
   "cell_type": "code",
   "execution_count": 19,
   "metadata": {},
   "outputs": [
    {
     "data": {
      "text/plain": [
       "array([[[9.93002922e-312, 3.16202013e-322],\n",
       "        [0.00000000e+000, 0.00000000e+000],\n",
       "        [0.00000000e+000, 8.23616385e-067]],\n",
       "\n",
       "       [[2.00465003e-052, 2.00580530e-052],\n",
       "        [7.40905465e-038, 1.44975915e-047],\n",
       "        [2.12547704e+160, 3.15777217e-033]]])"
      ]
     },
     "execution_count": 19,
     "metadata": {},
     "output_type": "execute_result"
    }
   ],
   "source": [
    "np.empty((2, 3, 2)) #不能假設np.empty建立的陣列內容都是0，如下會得到未初始化的垃圾值。"
   ]
  },
  {
   "cell_type": "code",
   "execution_count": 20,
   "metadata": {},
   "outputs": [
    {
     "data": {
      "text/plain": [
       "array([ 0,  1,  2,  3,  4,  5,  6,  7,  8,  9, 10, 11, 12, 13, 14])"
      ]
     },
     "execution_count": 20,
     "metadata": {},
     "output_type": "execute_result"
    }
   ],
   "source": [
    "np.arange(15) #類似Python內建的range函式，arange是它的陣列值版本。"
   ]
  },
  {
   "cell_type": "markdown",
   "metadata": {},
   "source": [
    "# 表4-1\n",
    "\n",
    "# Table 4-1. Array creation functions\n",
    "\n",
    "## Function: \n",
    "### Description\n",
    "## array:\n",
    "### Convert input data (list, tuple, array, or other sequence type) to an ndarray either by inferring a dtype or explicitly specifying a dtype. Copies the input data by default.\n",
    "\n",
    "## asarray:\n",
    "### Convert input to ndarray, but do not copy if the input is already an ndarray\n",
    "## arange:\n",
    "### Like the built-in range but returns an ndarray instead of a list.\n",
    "## ones, ones_like:\n",
    "### Produce an array of all 1’s with the given shape and dtype. ones_like takes another array and produces a ones array of the same shape and dtype.\n",
    "## zeros, zeros_like:\n",
    "### Like ones and ones_like but producing arrays of 0’s instead\n",
    "## empty, empty_like:\n",
    "### Create new arrays by allocating new memory, but do not populate with any values like ones and zeros\n",
    "## eye, identity:\n",
    "### Create a square N x N identity matrix (1’s on the diagonal and 0’s elsewhere)"
   ]
  },
  {
   "cell_type": "markdown",
   "metadata": {},
   "source": [
    "### Data Types for ndarrays"
   ]
  },
  {
   "cell_type": "code",
   "execution_count": 21,
   "metadata": {},
   "outputs": [],
   "source": [
    "arr1 = np.array([1, 2, 3], dtype=np.float64)"
   ]
  },
  {
   "cell_type": "code",
   "execution_count": 22,
   "metadata": {},
   "outputs": [],
   "source": [
    "arr2 = np.array([1, 2, 3], dtype=np.int32)"
   ]
  },
  {
   "cell_type": "code",
   "execution_count": 23,
   "metadata": {},
   "outputs": [
    {
     "data": {
      "text/plain": [
       "dtype('float64')"
      ]
     },
     "execution_count": 23,
     "metadata": {},
     "output_type": "execute_result"
    }
   ],
   "source": [
    "arr1.dtype"
   ]
  },
  {
   "cell_type": "code",
   "execution_count": 24,
   "metadata": {},
   "outputs": [
    {
     "data": {
      "text/plain": [
       "dtype('int32')"
      ]
     },
     "execution_count": 24,
     "metadata": {},
     "output_type": "execute_result"
    }
   ],
   "source": [
    "arr2.dtype"
   ]
  },
  {
   "cell_type": "code",
   "execution_count": 25,
   "metadata": {},
   "outputs": [
    {
     "data": {
      "text/plain": [
       "dtype('int32')"
      ]
     },
     "execution_count": 25,
     "metadata": {},
     "output_type": "execute_result"
    }
   ],
   "source": [
    "arr = np.array([1, 2, 3, 4, 5])\n",
    "arr.dtype"
   ]
  },
  {
   "cell_type": "code",
   "execution_count": 26,
   "metadata": {},
   "outputs": [
    {
     "data": {
      "text/plain": [
       "dtype('float64')"
      ]
     },
     "execution_count": 26,
     "metadata": {},
     "output_type": "execute_result"
    }
   ],
   "source": [
    "float_arr = arr.astype(np.float64)\n",
    "float_arr.dtype"
   ]
  },
  {
   "cell_type": "code",
   "execution_count": 27,
   "metadata": {},
   "outputs": [
    {
     "data": {
      "text/plain": [
       "array([ 3.7, -1.2, -2.6,  0.5, 12.9, 10.1])"
      ]
     },
     "execution_count": 27,
     "metadata": {},
     "output_type": "execute_result"
    }
   ],
   "source": [
    "arr = np.array([3.7, -1.2, -2.6, 0.5, 12.9, 10.1])\n",
    "arr"
   ]
  },
  {
   "cell_type": "code",
   "execution_count": 28,
   "metadata": {},
   "outputs": [
    {
     "data": {
      "text/plain": [
       "array([ 3, -1, -2,  0, 12, 10])"
      ]
     },
     "execution_count": 28,
     "metadata": {},
     "output_type": "execute_result"
    }
   ],
   "source": [
    "arr.astype(np.int32)"
   ]
  },
  {
   "cell_type": "code",
   "execution_count": 29,
   "metadata": {},
   "outputs": [
    {
     "data": {
      "text/plain": [
       "array([ 1.25, -9.6 , 42.  ])"
      ]
     },
     "execution_count": 29,
     "metadata": {},
     "output_type": "execute_result"
    }
   ],
   "source": [
    "numeric_strings = np.array(['1.25', '-9.6', '42'], dtype=np.string_)\n",
    "numeric_strings.astype(float)"
   ]
  },
  {
   "cell_type": "code",
   "execution_count": 30,
   "metadata": {},
   "outputs": [
    {
     "data": {
      "text/plain": [
       "array([0., 1., 2., 3., 4., 5., 6., 7., 8., 9.])"
      ]
     },
     "execution_count": 30,
     "metadata": {},
     "output_type": "execute_result"
    }
   ],
   "source": [
    "int_array = np.arange(10)\n",
    "calibers = np.array([.22, .270, .357, .380, .44, .50], dtype=np.float64)\n",
    "int_array.astype(calibers.dtype)"
   ]
  },
  {
   "cell_type": "code",
   "execution_count": 31,
   "metadata": {},
   "outputs": [
    {
     "data": {
      "text/plain": [
       "array([         0, 1075314688,          0, 1075707904,          0,\n",
       "       1075838976,          0, 1072693248], dtype=uint32)"
      ]
     },
     "execution_count": 31,
     "metadata": {},
     "output_type": "execute_result"
    }
   ],
   "source": [
    "empty_uint32 = np.empty(8, dtype='u4')\n",
    "empty_uint32"
   ]
  },
  {
   "cell_type": "markdown",
   "metadata": {},
   "source": [
    "### Arithmetic with NumPy Arrays， NumPy陣列的算術運算"
   ]
  },
  {
   "cell_type": "code",
   "execution_count": 32,
   "metadata": {},
   "outputs": [
    {
     "data": {
      "text/plain": [
       "array([[1., 2., 3.],\n",
       "       [4., 5., 6.]])"
      ]
     },
     "execution_count": 32,
     "metadata": {},
     "output_type": "execute_result"
    }
   ],
   "source": [
    "arr = np.array([[1., 2., 3.], [4., 5., 6.]])\n",
    "arr"
   ]
  },
  {
   "cell_type": "code",
   "execution_count": 33,
   "metadata": {},
   "outputs": [
    {
     "data": {
      "text/plain": [
       "array([[ 1.,  4.,  9.],\n",
       "       [16., 25., 36.]])"
      ]
     },
     "execution_count": 33,
     "metadata": {},
     "output_type": "execute_result"
    }
   ],
   "source": [
    "arr * arr"
   ]
  },
  {
   "cell_type": "code",
   "execution_count": 34,
   "metadata": {},
   "outputs": [
    {
     "data": {
      "text/plain": [
       "array([[0., 0., 0.],\n",
       "       [0., 0., 0.]])"
      ]
     },
     "execution_count": 34,
     "metadata": {},
     "output_type": "execute_result"
    }
   ],
   "source": [
    "arr - arr"
   ]
  },
  {
   "cell_type": "code",
   "execution_count": 35,
   "metadata": {},
   "outputs": [
    {
     "data": {
      "text/plain": [
       "array([[1.        , 0.5       , 0.33333333],\n",
       "       [0.25      , 0.2       , 0.16666667]])"
      ]
     },
     "execution_count": 35,
     "metadata": {},
     "output_type": "execute_result"
    }
   ],
   "source": [
    "1 / arr"
   ]
  },
  {
   "cell_type": "code",
   "execution_count": 36,
   "metadata": {},
   "outputs": [
    {
     "data": {
      "text/plain": [
       "array([[1.        , 1.41421356, 1.73205081],\n",
       "       [2.        , 2.23606798, 2.44948974]])"
      ]
     },
     "execution_count": 36,
     "metadata": {},
     "output_type": "execute_result"
    }
   ],
   "source": [
    "arr ** 0.5"
   ]
  },
  {
   "cell_type": "code",
   "execution_count": 37,
   "metadata": {},
   "outputs": [],
   "source": [
    "arr2 = np.array([[0., 4., 1.], [7., 2., 12.]])"
   ]
  },
  {
   "cell_type": "code",
   "execution_count": 38,
   "metadata": {},
   "outputs": [
    {
     "data": {
      "text/plain": [
       "array([[ 0.,  4.,  1.],\n",
       "       [ 7.,  2., 12.]])"
      ]
     },
     "execution_count": 38,
     "metadata": {},
     "output_type": "execute_result"
    }
   ],
   "source": [
    "arr2"
   ]
  },
  {
   "cell_type": "code",
   "execution_count": 39,
   "metadata": {},
   "outputs": [
    {
     "data": {
      "text/plain": [
       "array([[False,  True, False],\n",
       "       [ True, False,  True]])"
      ]
     },
     "execution_count": 39,
     "metadata": {},
     "output_type": "execute_result"
    }
   ],
   "source": [
    "arr2 > arr"
   ]
  },
  {
   "cell_type": "markdown",
   "metadata": {},
   "source": [
    "### Basic Indexing and Slicing，基本的索引和切片"
   ]
  },
  {
   "cell_type": "code",
   "execution_count": 40,
   "metadata": {},
   "outputs": [
    {
     "data": {
      "text/plain": [
       "array([0, 1, 2, 3, 4, 5, 6, 7, 8, 9])"
      ]
     },
     "execution_count": 40,
     "metadata": {},
     "output_type": "execute_result"
    }
   ],
   "source": [
    "arr = np.arange(10)\n",
    "arr"
   ]
  },
  {
   "cell_type": "code",
   "execution_count": 41,
   "metadata": {},
   "outputs": [
    {
     "data": {
      "text/plain": [
       "5"
      ]
     },
     "execution_count": 41,
     "metadata": {},
     "output_type": "execute_result"
    }
   ],
   "source": [
    "arr[5]"
   ]
  },
  {
   "cell_type": "code",
   "execution_count": 42,
   "metadata": {},
   "outputs": [
    {
     "data": {
      "text/plain": [
       "array([5, 6, 7])"
      ]
     },
     "execution_count": 42,
     "metadata": {},
     "output_type": "execute_result"
    }
   ],
   "source": [
    "arr[5:8]"
   ]
  },
  {
   "cell_type": "code",
   "execution_count": 43,
   "metadata": {},
   "outputs": [
    {
     "data": {
      "text/plain": [
       "array([ 0,  1,  2,  3,  4, 12, 12, 12,  8,  9])"
      ]
     },
     "execution_count": 43,
     "metadata": {},
     "output_type": "execute_result"
    }
   ],
   "source": [
    "arr[5:8] = 12\n",
    "arr"
   ]
  },
  {
   "cell_type": "code",
   "execution_count": 44,
   "metadata": {},
   "outputs": [
    {
     "data": {
      "text/plain": [
       "array([12, 12, 12])"
      ]
     },
     "execution_count": 44,
     "metadata": {},
     "output_type": "execute_result"
    }
   ],
   "source": [
    "arr_slice = arr[5:8]\n",
    "arr_slice"
   ]
  },
  {
   "cell_type": "code",
   "execution_count": 45,
   "metadata": {},
   "outputs": [
    {
     "data": {
      "text/plain": [
       "array([    0,     1,     2,     3,     4,    12, 12345,    12,     8,\n",
       "           9])"
      ]
     },
     "execution_count": 45,
     "metadata": {},
     "output_type": "execute_result"
    }
   ],
   "source": [
    "arr_slice[1] = 12345\n",
    "arr"
   ]
  },
  {
   "cell_type": "code",
   "execution_count": 46,
   "metadata": {},
   "outputs": [
    {
     "data": {
      "text/plain": [
       "array([ 0,  1,  2,  3,  4, 64, 64, 64,  8,  9])"
      ]
     },
     "execution_count": 46,
     "metadata": {},
     "output_type": "execute_result"
    }
   ],
   "source": [
    "arr_slice[:] = 64\n",
    "arr"
   ]
  },
  {
   "cell_type": "code",
   "execution_count": 47,
   "metadata": {},
   "outputs": [
    {
     "data": {
      "text/plain": [
       "array([7, 8, 9])"
      ]
     },
     "execution_count": 47,
     "metadata": {},
     "output_type": "execute_result"
    }
   ],
   "source": [
    "arr2d = np.array([[1, 2, 3], [4, 5, 6], [7, 8, 9]])\n",
    "arr2d[2]"
   ]
  },
  {
   "cell_type": "code",
   "execution_count": 48,
   "metadata": {},
   "outputs": [
    {
     "data": {
      "text/plain": [
       "3"
      ]
     },
     "execution_count": 48,
     "metadata": {},
     "output_type": "execute_result"
    }
   ],
   "source": [
    "arr2d[0][2]"
   ]
  },
  {
   "cell_type": "code",
   "execution_count": 49,
   "metadata": {},
   "outputs": [
    {
     "data": {
      "text/plain": [
       "3"
      ]
     },
     "execution_count": 49,
     "metadata": {},
     "output_type": "execute_result"
    }
   ],
   "source": [
    "arr2d[0, 2]"
   ]
  },
  {
   "cell_type": "code",
   "execution_count": 50,
   "metadata": {},
   "outputs": [
    {
     "data": {
      "text/plain": [
       "array([[[ 1,  2,  3],\n",
       "        [ 4,  5,  6]],\n",
       "\n",
       "       [[ 7,  8,  9],\n",
       "        [10, 11, 12]]])"
      ]
     },
     "execution_count": 50,
     "metadata": {},
     "output_type": "execute_result"
    }
   ],
   "source": [
    "arr3d = np.array([[[1, 2, 3], [4, 5, 6]], [[7, 8, 9], [10, 11, 12]]])\n",
    "arr3d"
   ]
  },
  {
   "cell_type": "code",
   "execution_count": 51,
   "metadata": {},
   "outputs": [
    {
     "data": {
      "text/plain": [
       "array([[1, 2, 3],\n",
       "       [4, 5, 6]])"
      ]
     },
     "execution_count": 51,
     "metadata": {},
     "output_type": "execute_result"
    }
   ],
   "source": [
    "arr3d[0]"
   ]
  },
  {
   "cell_type": "code",
   "execution_count": 52,
   "metadata": {},
   "outputs": [],
   "source": [
    "old_values = arr3d[0].copy() #可以將常數或陣列指定給arr3d[0]\n",
    "arr3d[0] = 42"
   ]
  },
  {
   "cell_type": "code",
   "execution_count": 53,
   "metadata": {},
   "outputs": [
    {
     "data": {
      "text/plain": [
       "array([[[42, 42, 42],\n",
       "        [42, 42, 42]],\n",
       "\n",
       "       [[ 7,  8,  9],\n",
       "        [10, 11, 12]]])"
      ]
     },
     "execution_count": 53,
     "metadata": {},
     "output_type": "execute_result"
    }
   ],
   "source": [
    "arr3d"
   ]
  },
  {
   "cell_type": "code",
   "execution_count": 54,
   "metadata": {},
   "outputs": [
    {
     "data": {
      "text/plain": [
       "array([[[ 1,  2,  3],\n",
       "        [ 4,  5,  6]],\n",
       "\n",
       "       [[ 7,  8,  9],\n",
       "        [10, 11, 12]]])"
      ]
     },
     "execution_count": 54,
     "metadata": {},
     "output_type": "execute_result"
    }
   ],
   "source": [
    "arr3d[0] = old_values\n",
    "arr3d"
   ]
  },
  {
   "cell_type": "code",
   "execution_count": 55,
   "metadata": {},
   "outputs": [
    {
     "data": {
      "text/plain": [
       "array([7, 8, 9])"
      ]
     },
     "execution_count": 55,
     "metadata": {},
     "output_type": "execute_result"
    }
   ],
   "source": [
    "arr3d[1, 0] #找到arr3d索引區間(1,0)的所有值，然後回傳一維陣列。"
   ]
  },
  {
   "cell_type": "code",
   "execution_count": 56,
   "metadata": {},
   "outputs": [
    {
     "data": {
      "text/plain": [
       "array([[ 7,  8,  9],\n",
       "       [10, 11, 12]])"
      ]
     },
     "execution_count": 56,
     "metadata": {},
     "output_type": "execute_result"
    }
   ],
   "source": [
    "x = arr3d[1]\n",
    "x"
   ]
  },
  {
   "cell_type": "code",
   "execution_count": 57,
   "metadata": {},
   "outputs": [
    {
     "data": {
      "text/plain": [
       "array([7, 8, 9])"
      ]
     },
     "execution_count": 57,
     "metadata": {},
     "output_type": "execute_result"
    }
   ],
   "source": [
    "x[0]"
   ]
  },
  {
   "cell_type": "markdown",
   "metadata": {},
   "source": [
    "#### Indexing with slices，用切片做索引。"
   ]
  },
  {
   "cell_type": "code",
   "execution_count": 58,
   "metadata": {},
   "outputs": [
    {
     "data": {
      "text/plain": [
       "array([ 0,  1,  2,  3,  4, 64, 64, 64,  8,  9])"
      ]
     },
     "execution_count": 58,
     "metadata": {},
     "output_type": "execute_result"
    }
   ],
   "source": [
    "arr"
   ]
  },
  {
   "cell_type": "code",
   "execution_count": 59,
   "metadata": {},
   "outputs": [
    {
     "data": {
      "text/plain": [
       "array([ 1,  2,  3,  4, 64])"
      ]
     },
     "execution_count": 59,
     "metadata": {},
     "output_type": "execute_result"
    }
   ],
   "source": [
    "arr[1:6]"
   ]
  },
  {
   "cell_type": "code",
   "execution_count": 60,
   "metadata": {},
   "outputs": [
    {
     "data": {
      "text/plain": [
       "array([[1, 2, 3],\n",
       "       [4, 5, 6],\n",
       "       [7, 8, 9]])"
      ]
     },
     "execution_count": 60,
     "metadata": {},
     "output_type": "execute_result"
    }
   ],
   "source": [
    "arr2d"
   ]
  },
  {
   "cell_type": "code",
   "execution_count": 61,
   "metadata": {},
   "outputs": [
    {
     "data": {
      "text/plain": [
       "array([[1, 2, 3],\n",
       "       [4, 5, 6]])"
      ]
     },
     "execution_count": 61,
     "metadata": {},
     "output_type": "execute_result"
    }
   ],
   "source": [
    "arr2d[:2] #如您所見，切片時是沿著第1軸，也就是0軸做切片，每個切片就會沿著軸把一整個區間的元素都選取，如果把arr2d[:2]念成\"選取arr2d開頭兩個列\"應該會有點幫助。"
   ]
  },
  {
   "cell_type": "code",
   "execution_count": 63,
   "metadata": {},
   "outputs": [
    {
     "data": {
      "text/plain": [
       "array([[2, 3],\n",
       "       [5, 6]])"
      ]
     },
     "execution_count": 63,
     "metadata": {},
     "output_type": "execute_result"
    }
   ],
   "source": [
    "arr2d[:2, 1:] # 這樣切片時，你所得到的回傳陣列view和原來的陣列必為相同維度。但若混合整數索引和切片使用，你就會得到較低維度的切片。"
   ]
  },
  {
   "cell_type": "code",
   "execution_count": 64,
   "metadata": {},
   "outputs": [
    {
     "data": {
      "text/plain": [
       "array([4, 5])"
      ]
     },
     "execution_count": 64,
     "metadata": {},
     "output_type": "execute_result"
    }
   ],
   "source": [
    "arr2d[1, :2] #選取第二列中開頭的兩行"
   ]
  },
  {
   "cell_type": "code",
   "execution_count": 65,
   "metadata": {},
   "outputs": [
    {
     "data": {
      "text/plain": [
       "array([3, 6])"
      ]
     },
     "execution_count": 65,
     "metadata": {},
     "output_type": "execute_result"
    }
   ],
   "source": [
    "arr2d[:2, 2] #選取第三行，但只限於開頭兩列。"
   ]
  },
  {
   "cell_type": "code",
   "execution_count": 66,
   "metadata": {},
   "outputs": [
    {
     "data": {
      "text/plain": [
       "array([[1],\n",
       "       [4],\n",
       "       [7]])"
      ]
     },
     "execution_count": 66,
     "metadata": {},
     "output_type": "execute_result"
    }
   ],
   "source": [
    "arr2d[:, :1] #只寫一個冒號的表示整軸都要取，所以你可以用左邊的方法去取較高維度的軸。"
   ]
  },
  {
   "cell_type": "code",
   "execution_count": 67,
   "metadata": {},
   "outputs": [
    {
     "data": {
      "text/plain": [
       "array([[1, 0, 0],\n",
       "       [4, 0, 0],\n",
       "       [7, 8, 9]])"
      ]
     },
     "execution_count": 67,
     "metadata": {},
     "output_type": "execute_result"
    }
   ],
   "source": [
    "arr2d[:2, 1:] = 0 #對切片範圍指定值\n",
    "arr2d"
   ]
  },
  {
   "cell_type": "markdown",
   "metadata": {},
   "source": [
    "### Boolean Indexing 布林索引"
   ]
  },
  {
   "cell_type": "code",
   "execution_count": 68,
   "metadata": {},
   "outputs": [
    {
     "data": {
      "text/plain": [
       "array(['Bob', 'Joe', 'Will', 'Bob', 'Will', 'Joe', 'Joe'], dtype='<U4')"
      ]
     },
     "execution_count": 68,
     "metadata": {},
     "output_type": "execute_result"
    }
   ],
   "source": [
    "names = np.array(['Bob', 'Joe', 'Will', 'Bob', 'Will', 'Joe', 'Joe'])\n",
    "data = np.random.randn(7, 4)\n",
    "names"
   ]
  },
  {
   "cell_type": "code",
   "execution_count": 69,
   "metadata": {},
   "outputs": [
    {
     "data": {
      "text/plain": [
       "array([[-0.65851905, -0.12257209, -1.340496  , -1.48154108],\n",
       "       [ 0.3239982 , -1.37868376,  0.60815349, -0.08509484],\n",
       "       [-0.91165431, -1.55996641,  1.09784224, -1.66866748],\n",
       "       [-0.04934172,  0.51959453, -0.58767625, -0.42765648],\n",
       "       [-0.08135628,  0.15507614,  0.78453541, -1.34578062],\n",
       "       [-0.25053569,  0.25354565, -0.00938767, -0.04112909],\n",
       "       [ 1.01869178, -1.09035331,  1.62936841, -0.09294637]])"
      ]
     },
     "execution_count": 69,
     "metadata": {},
     "output_type": "execute_result"
    }
   ],
   "source": [
    "data"
   ]
  },
  {
   "cell_type": "code",
   "execution_count": 70,
   "metadata": {},
   "outputs": [
    {
     "data": {
      "text/plain": [
       "array([ True, False, False,  True, False, False, False])"
      ]
     },
     "execution_count": 70,
     "metadata": {},
     "output_type": "execute_result"
    }
   ],
   "source": [
    "names == 'Bob' #names和字串'Bob'進行比較的動作，會產生一個布林陣列。"
   ]
  },
  {
   "cell_type": "code",
   "execution_count": 71,
   "metadata": {},
   "outputs": [
    {
     "data": {
      "text/plain": [
       "array([[-0.65851905, -0.12257209, -1.340496  , -1.48154108],\n",
       "       [-0.04934172,  0.51959453, -0.58767625, -0.42765648]])"
      ]
     },
     "execution_count": 71,
     "metadata": {},
     "output_type": "execute_result"
    }
   ],
   "source": [
    "data[names == 'Bob'] #這個布林陣列可以用於陣列索引"
   ]
  },
  {
   "cell_type": "code",
   "execution_count": 72,
   "metadata": {},
   "outputs": [
    {
     "data": {
      "text/plain": [
       "array([[-1.340496  , -1.48154108],\n",
       "       [-0.58767625, -0.42765648]])"
      ]
     },
     "execution_count": 72,
     "metadata": {},
     "output_type": "execute_result"
    }
   ],
   "source": [
    "data[names == 'Bob', 2:] #進行索引選取"
   ]
  },
  {
   "cell_type": "code",
   "execution_count": 73,
   "metadata": {},
   "outputs": [
    {
     "data": {
      "text/plain": [
       "array([-1.48154108, -0.42765648])"
      ]
     },
     "execution_count": 73,
     "metadata": {},
     "output_type": "execute_result"
    }
   ],
   "source": [
    "data[names == 'Bob', 3]"
   ]
  },
  {
   "cell_type": "code",
   "execution_count": 74,
   "metadata": {},
   "outputs": [
    {
     "data": {
      "text/plain": [
       "array([False,  True,  True, False,  True,  True,  True])"
      ]
     },
     "execution_count": 74,
     "metadata": {},
     "output_type": "execute_result"
    }
   ],
   "source": [
    "names != 'Bob' #選擇不為'Bob'的列，可用 != 或 ~: "
   ]
  },
  {
   "cell_type": "code",
   "execution_count": 75,
   "metadata": {},
   "outputs": [
    {
     "data": {
      "text/plain": [
       "array([[ 0.3239982 , -1.37868376,  0.60815349, -0.08509484],\n",
       "       [-0.91165431, -1.55996641,  1.09784224, -1.66866748],\n",
       "       [-0.08135628,  0.15507614,  0.78453541, -1.34578062],\n",
       "       [-0.25053569,  0.25354565, -0.00938767, -0.04112909],\n",
       "       [ 1.01869178, -1.09035331,  1.62936841, -0.09294637]])"
      ]
     },
     "execution_count": 75,
     "metadata": {},
     "output_type": "execute_result"
    }
   ],
   "source": [
    "data[~(names == 'Bob')]"
   ]
  },
  {
   "cell_type": "code",
   "execution_count": 76,
   "metadata": {},
   "outputs": [
    {
     "data": {
      "text/plain": [
       "array([[ 0.3239982 , -1.37868376,  0.60815349, -0.08509484],\n",
       "       [-0.91165431, -1.55996641,  1.09784224, -1.66866748],\n",
       "       [-0.08135628,  0.15507614,  0.78453541, -1.34578062],\n",
       "       [-0.25053569,  0.25354565, -0.00938767, -0.04112909],\n",
       "       [ 1.01869178, -1.09035331,  1.62936841, -0.09294637]])"
      ]
     },
     "execution_count": 76,
     "metadata": {},
     "output_type": "execute_result"
    }
   ],
   "source": [
    "cond = names == 'Bob' #運算子 ~ 在你想做反向條件時非常好用\n",
    "data[~cond]"
   ]
  },
  {
   "cell_type": "code",
   "execution_count": 77,
   "metadata": {},
   "outputs": [
    {
     "data": {
      "text/plain": [
       "array([ True, False,  True,  True,  True, False, False])"
      ]
     },
     "execution_count": 77,
     "metadata": {},
     "output_type": "execute_result"
    }
   ],
   "source": [
    "mask = (names == 'Bob') | (names == 'Will') #想從三個名字裡面去選擇兩個時，就使用布林算術運算子合併布林條件像是 &(且) 和 |(或)\n",
    "mask"
   ]
  },
  {
   "cell_type": "code",
   "execution_count": 78,
   "metadata": {},
   "outputs": [
    {
     "data": {
      "text/plain": [
       "array([[-0.65851905, -0.12257209, -1.340496  , -1.48154108],\n",
       "       [-0.91165431, -1.55996641,  1.09784224, -1.66866748],\n",
       "       [-0.04934172,  0.51959453, -0.58767625, -0.42765648],\n",
       "       [-0.08135628,  0.15507614,  0.78453541, -1.34578062]])"
      ]
     },
     "execution_count": 78,
     "metadata": {},
     "output_type": "execute_result"
    }
   ],
   "source": [
    "data[mask]"
   ]
  },
  {
   "cell_type": "code",
   "execution_count": 79,
   "metadata": {},
   "outputs": [
    {
     "data": {
      "text/plain": [
       "array([[0.        , 0.        , 0.        , 0.        ],\n",
       "       [0.3239982 , 0.        , 0.60815349, 0.        ],\n",
       "       [0.        , 0.        , 1.09784224, 0.        ],\n",
       "       [0.        , 0.51959453, 0.        , 0.        ],\n",
       "       [0.        , 0.15507614, 0.78453541, 0.        ],\n",
       "       [0.        , 0.25354565, 0.        , 0.        ],\n",
       "       [1.01869178, 0.        , 1.62936841, 0.        ]])"
      ]
     },
     "execution_count": 79,
     "metadata": {},
     "output_type": "execute_result"
    }
   ],
   "source": [
    "data[data < 0] = 0 #將data中負值都設為零\n",
    "data"
   ]
  },
  {
   "cell_type": "code",
   "execution_count": 80,
   "metadata": {},
   "outputs": [
    {
     "data": {
      "text/plain": [
       "array([[7.        , 7.        , 7.        , 7.        ],\n",
       "       [0.3239982 , 0.        , 0.60815349, 0.        ],\n",
       "       [7.        , 7.        , 7.        , 7.        ],\n",
       "       [7.        , 7.        , 7.        , 7.        ],\n",
       "       [7.        , 7.        , 7.        , 7.        ],\n",
       "       [0.        , 0.25354565, 0.        , 0.        ],\n",
       "       [1.01869178, 0.        , 1.62936841, 0.        ]])"
      ]
     },
     "execution_count": 80,
     "metadata": {},
     "output_type": "execute_result"
    }
   ],
   "source": [
    "data[names != 'Joe'] = 7 #利用一維布林陣列，去設定整行或整列的值。\n",
    "data"
   ]
  },
  {
   "cell_type": "markdown",
   "metadata": {},
   "source": [
    "### Fancy Indexing 花式索引"
   ]
  },
  {
   "cell_type": "code",
   "execution_count": 81,
   "metadata": {},
   "outputs": [
    {
     "data": {
      "text/plain": [
       "array([[0., 0., 0., 0.],\n",
       "       [1., 1., 1., 1.],\n",
       "       [2., 2., 2., 2.],\n",
       "       [3., 3., 3., 3.],\n",
       "       [4., 4., 4., 4.],\n",
       "       [5., 5., 5., 5.],\n",
       "       [6., 6., 6., 6.],\n",
       "       [7., 7., 7., 7.]])"
      ]
     },
     "execution_count": 81,
     "metadata": {},
     "output_type": "execute_result"
    }
   ],
   "source": [
    "arr = np.empty((8, 4)) #設一個8x4的陣列\n",
    "for i in range(8):\n",
    "    arr[i] = i\n",
    "arr"
   ]
  },
  {
   "cell_type": "code",
   "execution_count": 82,
   "metadata": {},
   "outputs": [
    {
     "data": {
      "text/plain": [
       "array([[4., 4., 4., 4.],\n",
       "       [3., 3., 3., 3.],\n",
       "       [0., 0., 0., 0.],\n",
       "       [6., 6., 6., 6.]])"
      ]
     },
     "execution_count": 82,
     "metadata": {},
     "output_type": "execute_result"
    }
   ],
   "source": [
    "arr[[4, 3, 0, 6]] #以特定的順序選取列，只需用一個指定順序的整數list或ndarray即可。"
   ]
  },
  {
   "cell_type": "code",
   "execution_count": 83,
   "metadata": {},
   "outputs": [
    {
     "data": {
      "text/plain": [
       "array([[5., 5., 5., 5.],\n",
       "       [3., 3., 3., 3.],\n",
       "       [1., 1., 1., 1.]])"
      ]
     },
     "execution_count": 83,
     "metadata": {},
     "output_type": "execute_result"
    }
   ],
   "source": [
    "arr[[-3, -5, -7]] #用負數可以從尾端開始選列。"
   ]
  },
  {
   "cell_type": "code",
   "execution_count": 84,
   "metadata": {},
   "outputs": [
    {
     "data": {
      "text/plain": [
       "array([[ 0,  1,  2,  3],\n",
       "       [ 4,  5,  6,  7],\n",
       "       [ 8,  9, 10, 11],\n",
       "       [12, 13, 14, 15],\n",
       "       [16, 17, 18, 19],\n",
       "       [20, 21, 22, 23],\n",
       "       [24, 25, 26, 27],\n",
       "       [28, 29, 30, 31]])"
      ]
     },
     "execution_count": 84,
     "metadata": {},
     "output_type": "execute_result"
    }
   ],
   "source": [
    "arr = np.arange(32).reshape((8, 4)) #若是傳入多個索引陣列，做出的效果又不同了。它會將指定的index結成tuple後把對應位置的值抓成一維陣列回傳。\n",
    "arr"
   ]
  },
  {
   "cell_type": "code",
   "execution_count": 85,
   "metadata": {},
   "outputs": [
    {
     "data": {
      "text/plain": [
       "array([ 4, 23, 29, 10])"
      ]
     },
     "execution_count": 85,
     "metadata": {},
     "output_type": "execute_result"
    }
   ],
   "source": [
    "arr[[1, 5, 7, 2], [0, 3, 1, 2]] #將(1,0)(5,3)(7,1)(2,2)的元素選取出來了。"
   ]
  },
  {
   "cell_type": "code",
   "execution_count": 86,
   "metadata": {},
   "outputs": [
    {
     "data": {
      "text/plain": [
       "array([[ 4,  7,  5,  6],\n",
       "       [20, 23, 21, 22],\n",
       "       [28, 31, 29, 30],\n",
       "       [ 8, 11,  9, 10]])"
      ]
     },
     "execution_count": 86,
     "metadata": {},
     "output_type": "execute_result"
    }
   ],
   "source": [
    "arr[[1, 5, 7, 2]][:, [0, 3, 1, 2]] #對角"
   ]
  },
  {
   "cell_type": "markdown",
   "metadata": {},
   "source": [
    "### Transposing Arrays and Swapping Axes 轉置陣列和軸交換"
   ]
  },
  {
   "cell_type": "code",
   "execution_count": 126,
   "metadata": {},
   "outputs": [],
   "source": [
    "arr = np.arange(15).reshape((3, 5))"
   ]
  },
  {
   "cell_type": "code",
   "execution_count": 127,
   "metadata": {},
   "outputs": [
    {
     "data": {
      "text/plain": [
       "array([[ 0,  1,  2,  3,  4],\n",
       "       [ 5,  6,  7,  8,  9],\n",
       "       [10, 11, 12, 13, 14]])"
      ]
     },
     "execution_count": 127,
     "metadata": {},
     "output_type": "execute_result"
    }
   ],
   "source": [
    "arr"
   ]
  },
  {
   "cell_type": "code",
   "execution_count": 128,
   "metadata": {},
   "outputs": [
    {
     "data": {
      "text/plain": [
       "array([[ 0,  5, 10],\n",
       "       [ 1,  6, 11],\n",
       "       [ 2,  7, 12],\n",
       "       [ 3,  8, 13],\n",
       "       [ 4,  9, 14]])"
      ]
     },
     "execution_count": 128,
     "metadata": {},
     "output_type": "execute_result"
    }
   ],
   "source": [
    "arr.T"
   ]
  },
  {
   "cell_type": "code",
   "execution_count": 129,
   "metadata": {},
   "outputs": [
    {
     "data": {
      "text/plain": [
       "array([[ 0.03154015,  0.80496958,  0.15339439],\n",
       "       [-0.57085813, -0.28008019,  0.57969049],\n",
       "       [ 0.50059489,  1.14021635,  1.41981559],\n",
       "       [ 1.31022969,  0.02686412,  0.12641028],\n",
       "       [ 1.71765606,  0.40068357,  1.03625416],\n",
       "       [ 1.99720674, -0.96872524,  0.39415787]])"
      ]
     },
     "execution_count": 129,
     "metadata": {},
     "output_type": "execute_result"
    }
   ],
   "source": [
    "arr = np.random.randn(6, 3)\n",
    "arr"
   ]
  },
  {
   "cell_type": "code",
   "execution_count": 130,
   "metadata": {},
   "outputs": [
    {
     "data": {
      "text/plain": [
       "array([[ 9.23334797, -0.45524847,  3.11743897],\n",
       "       [-0.45524847,  3.12621187,  1.6167902 ],\n",
       "       [ 3.11743897,  1.6167902 ,  3.62060988]])"
      ]
     },
     "execution_count": 130,
     "metadata": {},
     "output_type": "execute_result"
    }
   ],
   "source": [
    "np.dot(arr.T, arr)"
   ]
  },
  {
   "cell_type": "code",
   "execution_count": 131,
   "metadata": {},
   "outputs": [
    {
     "data": {
      "text/plain": [
       "array([[[ 0,  1,  2,  3],\n",
       "        [ 4,  5,  6,  7]],\n",
       "\n",
       "       [[ 8,  9, 10, 11],\n",
       "        [12, 13, 14, 15]]])"
      ]
     },
     "execution_count": 131,
     "metadata": {},
     "output_type": "execute_result"
    }
   ],
   "source": [
    "arr = np.arange(16).reshape((2, 2, 4))\n",
    "arr"
   ]
  },
  {
   "cell_type": "code",
   "execution_count": 132,
   "metadata": {},
   "outputs": [
    {
     "data": {
      "text/plain": [
       "array([[[ 0,  1,  2,  3],\n",
       "        [ 8,  9, 10, 11]],\n",
       "\n",
       "       [[ 4,  5,  6,  7],\n",
       "        [12, 13, 14, 15]]])"
      ]
     },
     "execution_count": 132,
     "metadata": {},
     "output_type": "execute_result"
    }
   ],
   "source": [
    "arr.transpose((1, 0, 2))"
   ]
  },
  {
   "cell_type": "code",
   "execution_count": 133,
   "metadata": {},
   "outputs": [
    {
     "data": {
      "text/plain": [
       "array([[[ 0,  1,  2,  3],\n",
       "        [ 4,  5,  6,  7]],\n",
       "\n",
       "       [[ 8,  9, 10, 11],\n",
       "        [12, 13, 14, 15]]])"
      ]
     },
     "execution_count": 133,
     "metadata": {},
     "output_type": "execute_result"
    }
   ],
   "source": [
    "arr"
   ]
  },
  {
   "cell_type": "code",
   "execution_count": 134,
   "metadata": {},
   "outputs": [
    {
     "data": {
      "text/plain": [
       "array([[[ 0,  4],\n",
       "        [ 1,  5],\n",
       "        [ 2,  6],\n",
       "        [ 3,  7]],\n",
       "\n",
       "       [[ 8, 12],\n",
       "        [ 9, 13],\n",
       "        [10, 14],\n",
       "        [11, 15]]])"
      ]
     },
     "execution_count": 134,
     "metadata": {},
     "output_type": "execute_result"
    }
   ],
   "source": [
    "arr.swapaxes(1, 2)"
   ]
  },
  {
   "cell_type": "markdown",
   "metadata": {},
   "source": [
    "## Universal Functions: Fast Element-Wise Array Functions 全域函式:快速元素級別陣列函式"
   ]
  },
  {
   "cell_type": "code",
   "execution_count": 152,
   "metadata": {},
   "outputs": [
    {
     "data": {
      "text/plain": [
       "array([0, 1, 2, 3, 4, 5, 6, 7, 8, 9])"
      ]
     },
     "execution_count": 152,
     "metadata": {},
     "output_type": "execute_result"
    }
   ],
   "source": [
    "arr = np.arange(10)\n",
    "arr"
   ]
  },
  {
   "cell_type": "code",
   "execution_count": 153,
   "metadata": {},
   "outputs": [
    {
     "data": {
      "text/plain": [
       "array([0.        , 1.        , 1.41421356, 1.73205081, 2.        ,\n",
       "       2.23606798, 2.44948974, 2.64575131, 2.82842712, 3.        ])"
      ]
     },
     "execution_count": 153,
     "metadata": {},
     "output_type": "execute_result"
    }
   ],
   "source": [
    "np.sqrt(arr)"
   ]
  },
  {
   "cell_type": "code",
   "execution_count": 154,
   "metadata": {},
   "outputs": [
    {
     "data": {
      "text/plain": [
       "array([1.00000000e+00, 2.71828183e+00, 7.38905610e+00, 2.00855369e+01,\n",
       "       5.45981500e+01, 1.48413159e+02, 4.03428793e+02, 1.09663316e+03,\n",
       "       2.98095799e+03, 8.10308393e+03])"
      ]
     },
     "execution_count": 154,
     "metadata": {},
     "output_type": "execute_result"
    }
   ],
   "source": [
    "np.exp(arr)"
   ]
  },
  {
   "cell_type": "code",
   "execution_count": 155,
   "metadata": {},
   "outputs": [],
   "source": [
    "x = np.random.randn(8)\n",
    "y = np.random.randn(8)"
   ]
  },
  {
   "cell_type": "code",
   "execution_count": 156,
   "metadata": {},
   "outputs": [
    {
     "data": {
      "text/plain": [
       "array([-0.44377303,  0.51395177, -0.89097225,  1.13251683, -0.32760602,\n",
       "        0.74631427, -1.26834956,  1.7551081 ])"
      ]
     },
     "execution_count": 156,
     "metadata": {},
     "output_type": "execute_result"
    }
   ],
   "source": [
    "x"
   ]
  },
  {
   "cell_type": "code",
   "execution_count": 157,
   "metadata": {},
   "outputs": [
    {
     "data": {
      "text/plain": [
       "array([ 2.41898997, -1.6492635 , -0.68628868, -0.87021874, -0.66729604,\n",
       "       -0.10625673, -0.06267913, -0.28573143])"
      ]
     },
     "execution_count": 157,
     "metadata": {},
     "output_type": "execute_result"
    }
   ],
   "source": [
    "y"
   ]
  },
  {
   "cell_type": "code",
   "execution_count": 158,
   "metadata": {},
   "outputs": [
    {
     "data": {
      "text/plain": [
       "array([ 2.41898997,  0.51395177, -0.68628868,  1.13251683, -0.32760602,\n",
       "        0.74631427, -0.06267913,  1.7551081 ])"
      ]
     },
     "execution_count": 158,
     "metadata": {},
     "output_type": "execute_result"
    }
   ],
   "source": [
    "np.maximum(x, y)"
   ]
  },
  {
   "cell_type": "code",
   "execution_count": 159,
   "metadata": {},
   "outputs": [],
   "source": [
    "arr = np.random.randn(7) * 5"
   ]
  },
  {
   "cell_type": "code",
   "execution_count": 160,
   "metadata": {},
   "outputs": [
    {
     "data": {
      "text/plain": [
       "array([-3.34808492, -1.7950383 ,  4.06911665,  2.1819119 , -2.23347953,\n",
       "       -4.69239463, -2.16953082])"
      ]
     },
     "execution_count": 160,
     "metadata": {},
     "output_type": "execute_result"
    }
   ],
   "source": [
    "arr"
   ]
  },
  {
   "cell_type": "code",
   "execution_count": 161,
   "metadata": {},
   "outputs": [],
   "source": [
    "remainder, whole_part = np.modf(arr)"
   ]
  },
  {
   "cell_type": "code",
   "execution_count": 162,
   "metadata": {},
   "outputs": [
    {
     "data": {
      "text/plain": [
       "array([-0.34808492, -0.7950383 ,  0.06911665,  0.1819119 , -0.23347953,\n",
       "       -0.69239463, -0.16953082])"
      ]
     },
     "execution_count": 162,
     "metadata": {},
     "output_type": "execute_result"
    }
   ],
   "source": [
    "remainder"
   ]
  },
  {
   "cell_type": "code",
   "execution_count": 163,
   "metadata": {},
   "outputs": [
    {
     "data": {
      "text/plain": [
       "array([-3., -1.,  4.,  2., -2., -4., -2.])"
      ]
     },
     "execution_count": 163,
     "metadata": {},
     "output_type": "execute_result"
    }
   ],
   "source": [
    "whole_part"
   ]
  },
  {
   "cell_type": "code",
   "execution_count": 164,
   "metadata": {},
   "outputs": [
    {
     "data": {
      "text/plain": [
       "array([-3.34808492, -1.7950383 ,  4.06911665,  2.1819119 , -2.23347953,\n",
       "       -4.69239463, -2.16953082])"
      ]
     },
     "execution_count": 164,
     "metadata": {},
     "output_type": "execute_result"
    }
   ],
   "source": [
    "arr"
   ]
  },
  {
   "cell_type": "code",
   "execution_count": 165,
   "metadata": {},
   "outputs": [
    {
     "name": "stderr",
     "output_type": "stream",
     "text": [
      "C:\\Users\\sarah\\Anaconda3\\lib\\site-packages\\ipykernel_launcher.py:1: RuntimeWarning: invalid value encountered in sqrt\n",
      "  \"\"\"Entry point for launching an IPython kernel.\n"
     ]
    },
    {
     "data": {
      "text/plain": [
       "array([       nan,        nan, 2.01720516, 1.47712961,        nan,\n",
       "              nan,        nan])"
      ]
     },
     "execution_count": 165,
     "metadata": {},
     "output_type": "execute_result"
    }
   ],
   "source": [
    "np.sqrt(arr)"
   ]
  },
  {
   "cell_type": "code",
   "execution_count": 166,
   "metadata": {},
   "outputs": [
    {
     "name": "stderr",
     "output_type": "stream",
     "text": [
      "C:\\Users\\sarah\\Anaconda3\\lib\\site-packages\\ipykernel_launcher.py:1: RuntimeWarning: invalid value encountered in sqrt\n",
      "  \"\"\"Entry point for launching an IPython kernel.\n"
     ]
    },
    {
     "data": {
      "text/plain": [
       "array([       nan,        nan, 2.01720516, 1.47712961,        nan,\n",
       "              nan,        nan])"
      ]
     },
     "execution_count": 166,
     "metadata": {},
     "output_type": "execute_result"
    }
   ],
   "source": [
    "np.sqrt(arr, arr)"
   ]
  },
  {
   "cell_type": "code",
   "execution_count": 167,
   "metadata": {},
   "outputs": [
    {
     "data": {
      "text/plain": [
       "array([       nan,        nan, 2.01720516, 1.47712961,        nan,\n",
       "              nan,        nan])"
      ]
     },
     "execution_count": 167,
     "metadata": {},
     "output_type": "execute_result"
    }
   ],
   "source": [
    "arr"
   ]
  },
  {
   "cell_type": "markdown",
   "metadata": {},
   "source": [
    "## Array-Oriented Programming with Arrays 用陣列寫陣列導向程式"
   ]
  },
  {
   "cell_type": "code",
   "execution_count": 168,
   "metadata": {},
   "outputs": [],
   "source": [
    "points = np.arange(-5, 5, 0.01) # 1000 equally spaced points 1000個等距點"
   ]
  },
  {
   "cell_type": "code",
   "execution_count": 169,
   "metadata": {},
   "outputs": [],
   "source": [
    "xs, ys = np.meshgrid(points, points)"
   ]
  },
  {
   "cell_type": "code",
   "execution_count": 170,
   "metadata": {},
   "outputs": [
    {
     "data": {
      "text/plain": [
       "array([[-5.  , -5.  , -5.  , ..., -5.  , -5.  , -5.  ],\n",
       "       [-4.99, -4.99, -4.99, ..., -4.99, -4.99, -4.99],\n",
       "       [-4.98, -4.98, -4.98, ..., -4.98, -4.98, -4.98],\n",
       "       ...,\n",
       "       [ 4.97,  4.97,  4.97, ...,  4.97,  4.97,  4.97],\n",
       "       [ 4.98,  4.98,  4.98, ...,  4.98,  4.98,  4.98],\n",
       "       [ 4.99,  4.99,  4.99, ...,  4.99,  4.99,  4.99]])"
      ]
     },
     "execution_count": 170,
     "metadata": {},
     "output_type": "execute_result"
    }
   ],
   "source": [
    "ys"
   ]
  },
  {
   "cell_type": "code",
   "execution_count": 171,
   "metadata": {},
   "outputs": [
    {
     "data": {
      "text/plain": [
       "array([[7.07106781, 7.06400028, 7.05693985, ..., 7.04988652, 7.05693985,\n",
       "        7.06400028],\n",
       "       [7.06400028, 7.05692568, 7.04985815, ..., 7.04279774, 7.04985815,\n",
       "        7.05692568],\n",
       "       [7.05693985, 7.04985815, 7.04278354, ..., 7.03571603, 7.04278354,\n",
       "        7.04985815],\n",
       "       ...,\n",
       "       [7.04988652, 7.04279774, 7.03571603, ..., 7.0286414 , 7.03571603,\n",
       "        7.04279774],\n",
       "       [7.05693985, 7.04985815, 7.04278354, ..., 7.03571603, 7.04278354,\n",
       "        7.04985815],\n",
       "       [7.06400028, 7.05692568, 7.04985815, ..., 7.04279774, 7.04985815,\n",
       "        7.05692568]])"
      ]
     },
     "execution_count": 171,
     "metadata": {},
     "output_type": "execute_result"
    }
   ],
   "source": [
    "z = np.sqrt(xs ** 2 + ys ** 2)\n",
    "z"
   ]
  },
  {
   "cell_type": "code",
   "execution_count": 174,
   "metadata": {},
   "outputs": [
    {
     "data": {
      "text/plain": [
       "<matplotlib.colorbar.Colorbar at 0x1d3fe8db1d0>"
      ]
     },
     "execution_count": 174,
     "metadata": {},
     "output_type": "execute_result"
    },
    {
     "data": {
      "image/png": "[encoded data removed]",
      "text/plain": [
       "<Figure size 432x288 with 2 Axes>"
      ]
     },
     "metadata": {
      "needs_background": "light"
     },
     "output_type": "display_data"
    }
   ],
   "source": [
    "import matplotlib.pyplot as plt\n",
    "plt.imshow(z, cmap=plt.cm.gray); plt.colorbar()"
   ]
  },
  {
   "cell_type": "code",
   "execution_count": 175,
   "metadata": {},
   "outputs": [
    {
     "data": {
      "text/plain": [
       "Text(0.5,1,'Image plot of $\\\\sqrt{x^2 + y^2}$ for a grid of values')"
      ]
     },
     "execution_count": 175,
     "metadata": {},
     "output_type": "execute_result"
    },
    {
     "data": {
      "image/png": "[encoded data removed]",
      "text/plain": [
       "<Figure size 432x288 with 1 Axes>"
      ]
     },
     "metadata": {
      "needs_background": "light"
     },
     "output_type": "display_data"
    }
   ],
   "source": [
    "plt.title(\"Image plot of $\\sqrt{x^2 + y^2}$ for a grid of values\")"
   ]
  },
  {
   "cell_type": "code",
   "execution_count": 176,
   "metadata": {},
   "outputs": [
    {
     "data": {
      "text/plain": [
       "<Figure size 432x288 with 0 Axes>"
      ]
     },
     "metadata": {},
     "output_type": "display_data"
    }
   ],
   "source": [
    "plt.draw()"
   ]
  },
  {
   "cell_type": "code",
   "execution_count": 177,
   "metadata": {},
   "outputs": [],
   "source": [
    "plt.close('all')"
   ]
  },
  {
   "cell_type": "markdown",
   "metadata": {},
   "source": [
    "### Expressing Conditional Logic as Array Operations 用陣列運算表達條件邏輯"
   ]
  },
  {
   "cell_type": "code",
   "execution_count": 178,
   "metadata": {},
   "outputs": [],
   "source": [
    "xarr = np.array([1.1, 1.2, 1.3, 1.4, 1.5])\n",
    "yarr = np.array([2.1, 2.2, 2.3, 2.4, 2.5])\n",
    "cond = np.array([True, False, True, True, False])"
   ]
  },
  {
   "cell_type": "code",
   "execution_count": 179,
   "metadata": {},
   "outputs": [
    {
     "data": {
      "text/plain": [
       "[1.1, 2.2, 1.3, 1.4, 2.5]"
      ]
     },
     "execution_count": 179,
     "metadata": {},
     "output_type": "execute_result"
    }
   ],
   "source": [
    "result = [(x if c else y)\n",
    "          for x, y, c in zip(xarr, yarr, cond)]\n",
    "result"
   ]
  },
  {
   "cell_type": "code",
   "execution_count": 181,
   "metadata": {},
   "outputs": [
    {
     "data": {
      "text/plain": [
       "array([1.1, 2.2, 1.3, 1.4, 2.5])"
      ]
     },
     "execution_count": 181,
     "metadata": {},
     "output_type": "execute_result"
    }
   ],
   "source": [
    "result = np.where(cond, xarr, yarr)\n",
    "result"
   ]
  },
  {
   "cell_type": "code",
   "execution_count": 182,
   "metadata": {},
   "outputs": [
    {
     "data": {
      "text/plain": [
       "array([[-0.57952208,  0.59219305,  0.43511328, -1.81296748],\n",
       "       [ 1.04186578,  1.42201802, -0.45555953,  0.32608083],\n",
       "       [-1.25226687, -0.0448453 , -1.19950677,  0.4779652 ],\n",
       "       [-1.31375176,  0.09600815,  0.29617822,  0.54729265]])"
      ]
     },
     "execution_count": 182,
     "metadata": {},
     "output_type": "execute_result"
    }
   ],
   "source": [
    "arr = np.random.randn(4, 4)\n",
    "arr"
   ]
  },
  {
   "cell_type": "code",
   "execution_count": 183,
   "metadata": {},
   "outputs": [
    {
     "data": {
      "text/plain": [
       "array([[False,  True,  True, False],\n",
       "       [ True,  True, False,  True],\n",
       "       [False, False, False,  True],\n",
       "       [False,  True,  True,  True]])"
      ]
     },
     "execution_count": 183,
     "metadata": {},
     "output_type": "execute_result"
    }
   ],
   "source": [
    "arr > 0"
   ]
  },
  {
   "cell_type": "code",
   "execution_count": 184,
   "metadata": {},
   "outputs": [
    {
     "data": {
      "text/plain": [
       "array([[-2,  2,  2, -2],\n",
       "       [ 2,  2, -2,  2],\n",
       "       [-2, -2, -2,  2],\n",
       "       [-2,  2,  2,  2]])"
      ]
     },
     "execution_count": 184,
     "metadata": {},
     "output_type": "execute_result"
    }
   ],
   "source": [
    "np.where(arr > 0, 2, -2)"
   ]
  },
  {
   "cell_type": "code",
   "execution_count": 185,
   "metadata": {},
   "outputs": [
    {
     "data": {
      "text/plain": [
       "array([[-0.57952208,  2.        ,  2.        , -1.81296748],\n",
       "       [ 2.        ,  2.        , -0.45555953,  2.        ],\n",
       "       [-1.25226687, -0.0448453 , -1.19950677,  2.        ],\n",
       "       [-1.31375176,  2.        ,  2.        ,  2.        ]])"
      ]
     },
     "execution_count": 185,
     "metadata": {},
     "output_type": "execute_result"
    }
   ],
   "source": [
    "np.where(arr > 0, 2, arr) # set only positive values to 2 只將正數設為2"
   ]
  },
  {
   "cell_type": "markdown",
   "metadata": {},
   "source": [
    "### Mathematical and Statistical Methods 數學和統計方法"
   ]
  },
  {
   "cell_type": "code",
   "execution_count": 186,
   "metadata": {},
   "outputs": [
    {
     "data": {
      "text/plain": [
       "array([[-1.58283954,  0.55359278,  2.31674136,  0.45917344],\n",
       "       [-0.82514347, -0.85865728,  0.18263464,  0.20133625],\n",
       "       [-0.42151513,  1.3172234 , -1.93065371,  0.2409362 ],\n",
       "       [ 0.20627032,  1.19733382, -0.68784121,  1.96557738],\n",
       "       [-1.13566377, -0.37347143, -0.1081467 ,  0.62689001]])"
      ]
     },
     "execution_count": 186,
     "metadata": {},
     "output_type": "execute_result"
    }
   ],
   "source": [
    "arr = np.random.randn(5, 4)\n",
    "arr"
   ]
  },
  {
   "cell_type": "code",
   "execution_count": 187,
   "metadata": {},
   "outputs": [
    {
     "data": {
      "text/plain": [
       "0.06718886920403026"
      ]
     },
     "execution_count": 187,
     "metadata": {},
     "output_type": "execute_result"
    }
   ],
   "source": [
    "arr.mean()"
   ]
  },
  {
   "cell_type": "code",
   "execution_count": 188,
   "metadata": {},
   "outputs": [
    {
     "data": {
      "text/plain": [
       "0.06718886920403026"
      ]
     },
     "execution_count": 188,
     "metadata": {},
     "output_type": "execute_result"
    }
   ],
   "source": [
    "np.mean(arr)"
   ]
  },
  {
   "cell_type": "code",
   "execution_count": 189,
   "metadata": {},
   "outputs": [
    {
     "data": {
      "text/plain": [
       "1.3437773840806053"
      ]
     },
     "execution_count": 189,
     "metadata": {},
     "output_type": "execute_result"
    }
   ],
   "source": [
    "arr.sum()"
   ]
  },
  {
   "cell_type": "code",
   "execution_count": 190,
   "metadata": {},
   "outputs": [
    {
     "data": {
      "text/plain": [
       "array([ 0.43666701, -0.32495746, -0.19850231,  0.67033508, -0.24759797])"
      ]
     },
     "execution_count": 190,
     "metadata": {},
     "output_type": "execute_result"
    }
   ],
   "source": [
    "arr.mean(axis=1)"
   ]
  },
  {
   "cell_type": "code",
   "execution_count": 191,
   "metadata": {},
   "outputs": [
    {
     "data": {
      "text/plain": [
       "array([-3.75889158,  1.83602129, -0.22726562,  3.49391329])"
      ]
     },
     "execution_count": 191,
     "metadata": {},
     "output_type": "execute_result"
    }
   ],
   "source": [
    "arr.sum(axis=0)"
   ]
  },
  {
   "cell_type": "code",
   "execution_count": 192,
   "metadata": {},
   "outputs": [],
   "source": [
    "arr = np.array([0, 1, 2, 3, 4, 5, 6, 7])"
   ]
  },
  {
   "cell_type": "code",
   "execution_count": 193,
   "metadata": {},
   "outputs": [
    {
     "data": {
      "text/plain": [
       "array([ 0,  1,  3,  6, 10, 15, 21, 28], dtype=int32)"
      ]
     },
     "execution_count": 193,
     "metadata": {},
     "output_type": "execute_result"
    }
   ],
   "source": [
    "arr.cumsum()"
   ]
  },
  {
   "cell_type": "code",
   "execution_count": 194,
   "metadata": {},
   "outputs": [
    {
     "data": {
      "text/plain": [
       "array([[0, 1, 2],\n",
       "       [3, 4, 5],\n",
       "       [6, 7, 8]])"
      ]
     },
     "execution_count": 194,
     "metadata": {},
     "output_type": "execute_result"
    }
   ],
   "source": [
    "arr = np.array([[0, 1, 2], [3, 4, 5], [6, 7, 8]])\n",
    "arr"
   ]
  },
  {
   "cell_type": "code",
   "execution_count": 195,
   "metadata": {},
   "outputs": [
    {
     "data": {
      "text/plain": [
       "array([[ 0,  1,  2],\n",
       "       [ 3,  5,  7],\n",
       "       [ 9, 12, 15]], dtype=int32)"
      ]
     },
     "execution_count": 195,
     "metadata": {},
     "output_type": "execute_result"
    }
   ],
   "source": [
    "arr.cumsum(axis=0)"
   ]
  },
  {
   "cell_type": "code",
   "execution_count": 196,
   "metadata": {},
   "outputs": [
    {
     "data": {
      "text/plain": [
       "array([[  0,   0,   0],\n",
       "       [  3,  12,  60],\n",
       "       [  6,  42, 336]], dtype=int32)"
      ]
     },
     "execution_count": 196,
     "metadata": {},
     "output_type": "execute_result"
    }
   ],
   "source": [
    "arr.cumprod(axis=1)"
   ]
  },
  {
   "cell_type": "markdown",
   "metadata": {},
   "source": [
    "### Methods for Boolean Arrays 布林陣列的方法"
   ]
  },
  {
   "cell_type": "code",
   "execution_count": 197,
   "metadata": {},
   "outputs": [
    {
     "data": {
      "text/plain": [
       "53"
      ]
     },
     "execution_count": 197,
     "metadata": {},
     "output_type": "execute_result"
    }
   ],
   "source": [
    "arr = np.random.randn(100)\n",
    "(arr > 0).sum() # Number of positive values 正數的個數"
   ]
  },
  {
   "cell_type": "code",
   "execution_count": 198,
   "metadata": {},
   "outputs": [],
   "source": [
    "bools = np.array([False, False, True, False])"
   ]
  },
  {
   "cell_type": "code",
   "execution_count": 199,
   "metadata": {},
   "outputs": [
    {
     "data": {
      "text/plain": [
       "True"
      ]
     },
     "execution_count": 199,
     "metadata": {},
     "output_type": "execute_result"
    }
   ],
   "source": [
    "bools.any()"
   ]
  },
  {
   "cell_type": "code",
   "execution_count": 200,
   "metadata": {},
   "outputs": [
    {
     "data": {
      "text/plain": [
       "False"
      ]
     },
     "execution_count": 200,
     "metadata": {},
     "output_type": "execute_result"
    }
   ],
   "source": [
    "bools.all()"
   ]
  },
  {
   "cell_type": "markdown",
   "metadata": {},
   "source": [
    "### Sorting 排序"
   ]
  },
  {
   "cell_type": "code",
   "execution_count": 201,
   "metadata": {},
   "outputs": [
    {
     "data": {
      "text/plain": [
       "array([-1.24121203,  0.30419984,  0.09346383, -0.52659513, -1.11159483,\n",
       "        0.56283838])"
      ]
     },
     "execution_count": 201,
     "metadata": {},
     "output_type": "execute_result"
    }
   ],
   "source": [
    "arr = np.random.randn(6)\n",
    "arr"
   ]
  },
  {
   "cell_type": "code",
   "execution_count": 202,
   "metadata": {},
   "outputs": [
    {
     "data": {
      "text/plain": [
       "array([-1.24121203, -1.11159483, -0.52659513,  0.09346383,  0.30419984,\n",
       "        0.56283838])"
      ]
     },
     "execution_count": 202,
     "metadata": {},
     "output_type": "execute_result"
    }
   ],
   "source": [
    "arr.sort()\n",
    "arr"
   ]
  },
  {
   "cell_type": "code",
   "execution_count": 203,
   "metadata": {},
   "outputs": [
    {
     "data": {
      "text/plain": [
       "array([[-0.38772051, -0.60596949, -0.23046507],\n",
       "       [-0.55935403,  0.91170865, -1.58162285],\n",
       "       [ 0.41869481, -0.39064903,  0.20686994],\n",
       "       [-0.72327257, -1.3825915 , -1.14373116],\n",
       "       [-0.58421813,  1.07245086,  0.19591601]])"
      ]
     },
     "execution_count": 203,
     "metadata": {},
     "output_type": "execute_result"
    }
   ],
   "source": [
    "arr = np.random.randn(5, 3)\n",
    "arr"
   ]
  },
  {
   "cell_type": "code",
   "execution_count": 204,
   "metadata": {},
   "outputs": [
    {
     "data": {
      "text/plain": [
       "array([[-0.60596949, -0.38772051, -0.23046507],\n",
       "       [-1.58162285, -0.55935403,  0.91170865],\n",
       "       [-0.39064903,  0.20686994,  0.41869481],\n",
       "       [-1.3825915 , -1.14373116, -0.72327257],\n",
       "       [-0.58421813,  0.19591601,  1.07245086]])"
      ]
     },
     "execution_count": 204,
     "metadata": {},
     "output_type": "execute_result"
    }
   ],
   "source": [
    "arr.sort(1)\n",
    "arr"
   ]
  },
  {
   "cell_type": "code",
   "execution_count": 205,
   "metadata": {},
   "outputs": [
    {
     "data": {
      "text/plain": [
       "-1.5457617827513381"
      ]
     },
     "execution_count": 205,
     "metadata": {},
     "output_type": "execute_result"
    }
   ],
   "source": [
    "large_arr = np.random.randn(1000)\n",
    "large_arr.sort()\n",
    "large_arr[int(0.05 * len(large_arr))] # 5% quantile 百分位數"
   ]
  },
  {
   "cell_type": "markdown",
   "metadata": {},
   "source": [
    "### Unique and Other Set Logic， Unique 和其他集合操作"
   ]
  },
  {
   "cell_type": "code",
   "execution_count": 206,
   "metadata": {},
   "outputs": [],
   "source": [
    "names = np.array(['Bob', 'Joe', 'Will', 'Bob', 'Will', 'Joe', 'Joe'])"
   ]
  },
  {
   "cell_type": "code",
   "execution_count": 207,
   "metadata": {},
   "outputs": [
    {
     "data": {
      "text/plain": [
       "array(['Bob', 'Joe', 'Will'], dtype='<U4')"
      ]
     },
     "execution_count": 207,
     "metadata": {},
     "output_type": "execute_result"
    }
   ],
   "source": [
    "np.unique(names)"
   ]
  },
  {
   "cell_type": "code",
   "execution_count": 208,
   "metadata": {},
   "outputs": [],
   "source": [
    "ints = np.array([3, 3, 3, 2, 2, 1, 1, 4, 4])"
   ]
  },
  {
   "cell_type": "code",
   "execution_count": 209,
   "metadata": {},
   "outputs": [
    {
     "data": {
      "text/plain": [
       "array([1, 2, 3, 4])"
      ]
     },
     "execution_count": 209,
     "metadata": {},
     "output_type": "execute_result"
    }
   ],
   "source": [
    "np.unique(ints)"
   ]
  },
  {
   "cell_type": "code",
   "execution_count": 210,
   "metadata": {},
   "outputs": [
    {
     "data": {
      "text/plain": [
       "['Bob', 'Joe', 'Will']"
      ]
     },
     "execution_count": 210,
     "metadata": {},
     "output_type": "execute_result"
    }
   ],
   "source": [
    "sorted(set(names))"
   ]
  },
  {
   "cell_type": "code",
   "execution_count": 211,
   "metadata": {},
   "outputs": [],
   "source": [
    "values = np.array([6, 0, 0, 3, 2, 5, 6])"
   ]
  },
  {
   "cell_type": "code",
   "execution_count": 212,
   "metadata": {},
   "outputs": [
    {
     "data": {
      "text/plain": [
       "array([ True, False, False,  True,  True, False,  True])"
      ]
     },
     "execution_count": 212,
     "metadata": {},
     "output_type": "execute_result"
    }
   ],
   "source": [
    "np.in1d(values, [2, 3, 6])"
   ]
  },
  {
   "cell_type": "markdown",
   "metadata": {},
   "source": [
    "## File Input and Output with Arrays從檔案輸入或輸出值到陣列"
   ]
  },
  {
   "cell_type": "code",
   "execution_count": 213,
   "metadata": {},
   "outputs": [],
   "source": [
    "arr = np.arange(10)"
   ]
  },
  {
   "cell_type": "code",
   "execution_count": 214,
   "metadata": {},
   "outputs": [],
   "source": [
    "np.save('some_array', arr)"
   ]
  },
  {
   "cell_type": "code",
   "execution_count": 215,
   "metadata": {},
   "outputs": [
    {
     "data": {
      "text/plain": [
       "array([0, 1, 2, 3, 4, 5, 6, 7, 8, 9])"
      ]
     },
     "execution_count": 215,
     "metadata": {},
     "output_type": "execute_result"
    }
   ],
   "source": [
    "np.load('some_array.npy')"
   ]
  },
  {
   "cell_type": "code",
   "execution_count": 216,
   "metadata": {},
   "outputs": [],
   "source": [
    "np.savez('array_archive.npz', a=arr, b=arr)"
   ]
  },
  {
   "cell_type": "code",
   "execution_count": 217,
   "metadata": {},
   "outputs": [],
   "source": [
    "arch = np.load('array_archive.npz')"
   ]
  },
  {
   "cell_type": "code",
   "execution_count": 218,
   "metadata": {},
   "outputs": [
    {
     "data": {
      "text/plain": [
       "array([0, 1, 2, 3, 4, 5, 6, 7, 8, 9])"
      ]
     },
     "execution_count": 218,
     "metadata": {},
     "output_type": "execute_result"
    }
   ],
   "source": [
    "arch['b']"
   ]
  },
  {
   "cell_type": "code",
   "execution_count": 219,
   "metadata": {},
   "outputs": [],
   "source": [
    "np.savez_compressed('arrays_compressed.npz', a=arr, b=arr)"
   ]
  },
  {
   "cell_type": "markdown",
   "metadata": {},
   "source": [
    "## Linear Algebra 線性代數\n",
    "\n",
    "### 矩陣乘法、分解、行列式和其他矩陣數學都非常重要"
   ]
  },
  {
   "cell_type": "code",
   "execution_count": 220,
   "metadata": {},
   "outputs": [],
   "source": [
    "x = np.array([[1., 2., 3.], [4., 5., 6.]])\n",
    "y = np.array([[6., 23.], [-1, 7], [8, 9]])"
   ]
  },
  {
   "cell_type": "code",
   "execution_count": 221,
   "metadata": {},
   "outputs": [
    {
     "data": {
      "text/plain": [
       "array([[1., 2., 3.],\n",
       "       [4., 5., 6.]])"
      ]
     },
     "execution_count": 221,
     "metadata": {},
     "output_type": "execute_result"
    }
   ],
   "source": [
    "x"
   ]
  },
  {
   "cell_type": "code",
   "execution_count": 222,
   "metadata": {},
   "outputs": [
    {
     "data": {
      "text/plain": [
       "array([[ 6., 23.],\n",
       "       [-1.,  7.],\n",
       "       [ 8.,  9.]])"
      ]
     },
     "execution_count": 222,
     "metadata": {},
     "output_type": "execute_result"
    }
   ],
   "source": [
    "y"
   ]
  },
  {
   "cell_type": "code",
   "execution_count": 223,
   "metadata": {},
   "outputs": [
    {
     "data": {
      "text/plain": [
       "array([[ 28.,  64.],\n",
       "       [ 67., 181.]])"
      ]
     },
     "execution_count": 223,
     "metadata": {},
     "output_type": "execute_result"
    }
   ],
   "source": [
    "x.dot(y)"
   ]
  },
  {
   "cell_type": "code",
   "execution_count": 224,
   "metadata": {},
   "outputs": [
    {
     "data": {
      "text/plain": [
       "array([[ 28.,  64.],\n",
       "       [ 67., 181.]])"
      ]
     },
     "execution_count": 224,
     "metadata": {},
     "output_type": "execute_result"
    }
   ],
   "source": [
    "np.dot(x, y) #x.dot(y) 和 np.dot(x, y) 是一樣的"
   ]
  },
  {
   "cell_type": "code",
   "execution_count": 226,
   "metadata": {},
   "outputs": [
    {
     "data": {
      "text/plain": [
       "array([ 6., 15.])"
      ]
     },
     "execution_count": 226,
     "metadata": {},
     "output_type": "execute_result"
    }
   ],
   "source": [
    "np.dot(x, np.ones(3))"
   ]
  },
  {
   "cell_type": "code",
   "execution_count": 227,
   "metadata": {},
   "outputs": [
    {
     "data": {
      "text/plain": [
       "array([ 6., 15.])"
      ]
     },
     "execution_count": 227,
     "metadata": {},
     "output_type": "execute_result"
    }
   ],
   "source": [
    "x @ np.ones(3) # @當作矩陣乘法的運算子"
   ]
  },
  {
   "cell_type": "code",
   "execution_count": 311,
   "metadata": {},
   "outputs": [],
   "source": [
    "from numpy.linalg import inv, qr\n",
    "X = np.random.randn(5, 5)"
   ]
  },
  {
   "cell_type": "code",
   "execution_count": 312,
   "metadata": {},
   "outputs": [
    {
     "data": {
      "text/plain": [
       "array([[ 1.20412732, -0.38695031,  0.46172784, -1.26878112, -1.30676546],\n",
       "       [-0.38695031,  0.92536463, -0.93723872,  1.40623286,  1.13521693],\n",
       "       [ 0.46172784, -0.93723872,  4.50484603,  1.09554968, -1.77826097],\n",
       "       [-1.26878112,  1.40623286,  1.09554968,  6.71211422,  2.37035329],\n",
       "       [-1.30676546,  1.13521693, -1.77826097,  2.37035329,  7.69185702]])"
      ]
     },
     "execution_count": 312,
     "metadata": {},
     "output_type": "execute_result"
    }
   ],
   "source": [
    "mat = X.T.dot(X)\n",
    "mat"
   ]
  },
  {
   "cell_type": "code",
   "execution_count": 228,
   "metadata": {},
   "outputs": [
    {
     "data": {
      "text/plain": [
       "array([[  1.15575261,   2.25415244,  -0.60036719,  -3.81621687,\n",
       "          2.62074611],\n",
       "       [  2.25415244,   7.31794202,  -0.28951314,  -9.57001663,\n",
       "          7.28145143],\n",
       "       [ -0.60036719,  -0.28951314,   2.31478421,   1.18435852,\n",
       "          0.54644374],\n",
       "       [ -3.81621687,  -9.57001663,   1.18435852,  16.71560952,\n",
       "        -10.81687368],\n",
       "       [  2.62074611,   7.28145143,   0.54644374, -10.81687368,\n",
       "          8.74518367]])"
      ]
     },
     "execution_count": 228,
     "metadata": {},
     "output_type": "execute_result"
    }
   ],
   "source": [
    "inv(mat)"
   ]
  },
  {
   "cell_type": "code",
   "execution_count": 229,
   "metadata": {},
   "outputs": [
    {
     "data": {
      "text/plain": [
       "array([[ 1.00000000e+00, -7.10542736e-15, -4.44089210e-16,\n",
       "         0.00000000e+00, -7.10542736e-15],\n",
       "       [-8.88178420e-16,  1.00000000e+00, -2.22044605e-16,\n",
       "         3.55271368e-15, -3.55271368e-15],\n",
       "       [ 0.00000000e+00,  3.55271368e-15,  1.00000000e+00,\n",
       "        -7.10542736e-15,  3.55271368e-15],\n",
       "       [ 8.88178420e-16,  8.88178420e-16,  1.11022302e-16,\n",
       "         1.00000000e+00,  0.00000000e+00],\n",
       "       [ 1.77635684e-15,  0.00000000e+00, -4.44089210e-16,\n",
       "         1.42108547e-14,  1.00000000e+00]])"
      ]
     },
     "execution_count": 229,
     "metadata": {},
     "output_type": "execute_result"
    }
   ],
   "source": [
    "mat.dot(inv(mat))"
   ]
  },
  {
   "cell_type": "code",
   "execution_count": 230,
   "metadata": {},
   "outputs": [],
   "source": [
    "q, r = qr(mat)"
   ]
  },
  {
   "cell_type": "code",
   "execution_count": 231,
   "metadata": {},
   "outputs": [
    {
     "data": {
      "text/plain": [
       "array([[-14.86307391,  -3.25614526,  -6.97482388,   0.94305438,\n",
       "          8.81581391],\n",
       "       [  0.        ,  -1.20873822,  -0.80793025,   0.43457232,\n",
       "          1.65192254],\n",
       "       [  0.        ,   0.        ,  -0.87518991,   0.71199377,\n",
       "          0.95879549],\n",
       "       [  0.        ,   0.        ,   0.        ,  -0.33874078,\n",
       "         -0.47331133],\n",
       "       [  0.        ,   0.        ,   0.        ,   0.        ,\n",
       "          0.06278645]])"
      ]
     },
     "execution_count": 231,
     "metadata": {},
     "output_type": "execute_result"
    }
   ],
   "source": [
    "r"
   ]
  },
  {
   "cell_type": "code",
   "execution_count": 313,
   "metadata": {},
   "outputs": [
    {
     "data": {
      "text/plain": [
       "array([[-0.8253189 ,  0.43122195,  0.32107223,  0.05227947,  0.16454734],\n",
       "       [-0.14573861, -0.74204038,  0.42100958, -0.20463853,  0.45717648],\n",
       "       [-0.3449527 , -0.10286642, -0.65869211, -0.65982854,  0.03430926],\n",
       "       [ 0.02556882,  0.00626955,  0.49370145, -0.5425098 , -0.67915309],\n",
       "       [ 0.42185642,  0.50279509,  0.20505399, -0.47507825,  0.54907903]])"
      ]
     },
     "execution_count": 313,
     "metadata": {},
     "output_type": "execute_result"
    }
   ],
   "source": [
    "q"
   ]
  },
  {
   "cell_type": "markdown",
   "metadata": {},
   "source": [
    "## Pseudorandom Number Generation生成偽隨機數"
   ]
  },
  {
   "cell_type": "code",
   "execution_count": 232,
   "metadata": {},
   "outputs": [
    {
     "data": {
      "text/plain": [
       "array([[-0.79812016, -1.50116968,  0.60344835, -1.19710084],\n",
       "       [-2.14518043,  0.19448938,  0.60509458,  0.00747376],\n",
       "       [ 0.93794243,  0.8364261 , -0.06138611, -0.53667813],\n",
       "       [ 0.32276793, -1.55964163,  0.27902032,  1.66615869]])"
      ]
     },
     "execution_count": 232,
     "metadata": {},
     "output_type": "execute_result"
    }
   ],
   "source": [
    "samples = np.random.normal(size=(4, 4)) #NumPy.random模組能有效率的產生任意分布的樣本值陣列，補足內建Python random模組之不足\n",
    "samples                                 #使用normal得到了裝載了常態分布樣本的4x4陣列"
   ]
  },
  {
   "cell_type": "code",
   "execution_count": 306,
   "metadata": {},
   "outputs": [],
   "source": [
    "from random import normalvariate\n",
    "N = 1000000"
   ]
  },
  {
   "cell_type": "code",
   "execution_count": 307,
   "metadata": {},
   "outputs": [
    {
     "name": "stdout",
     "output_type": "stream",
     "text": [
      "5.28 s ± 13.4 ms per loop (mean ± std. dev. of 7 runs, 1 loop each)\n"
     ]
    }
   ],
   "source": [
    "%timeit samples = [normalvariate(0, 1) for _ in range(N)]"
   ]
  },
  {
   "cell_type": "code",
   "execution_count": 308,
   "metadata": {},
   "outputs": [
    {
     "name": "stdout",
     "output_type": "stream",
     "text": [
      "194 ms ± 16.4 ms per loop (mean ± std. dev. of 7 runs, 1 loop each)\n"
     ]
    }
   ],
   "source": [
    "%timeit np.random.normal(size=N)"
   ]
  },
  {
   "cell_type": "code",
   "execution_count": 309,
   "metadata": {},
   "outputs": [],
   "source": [
    "np.random.seed(1234) #會稱之為偽隨機數的原因是這些數字的產生是由亂數產生器的種子所決定的，你可以用np.random.seed去改變這個種子"
   ]
  },
  {
   "cell_type": "code",
   "execution_count": 237,
   "metadata": {},
   "outputs": [
    {
     "data": {
      "text/plain": [
       "array([ 0.47143516, -1.19097569,  1.43270697, -0.3126519 , -0.72058873,\n",
       "        0.88716294,  0.85958841, -0.6365235 ,  0.01569637, -2.24268495])"
      ]
     },
     "execution_count": 237,
     "metadata": {},
     "output_type": "execute_result"
    }
   ],
   "source": [
    "rng = np.random.RandomState(1234) #為了避免全域種子，您可以用np.random.RandomState建立獨立的亂數產生器\n",
    "rng.randn(10)"
   ]
  },
  {
   "cell_type": "markdown",
   "metadata": {},
   "source": [
    "## Example: Random Walks 範例:隨機散步\n",
    "\n",
    "### 提供一個陣列動作的示範"
   ]
  },
  {
   "cell_type": "code",
   "execution_count": 283,
   "metadata": {},
   "outputs": [],
   "source": [
    "import random # 用純Python 內建的random模組\n",
    "position = 0 #起點從0\n",
    "walk = [position]\n",
    "steps = 1000 # 隨機漫步1000步\n",
    "for i in range(steps):\n",
    "    step = 1 if random.randint(0, 1) else -1 #每一步1或-1機率相等\n",
    "    position += step\n",
    "    walk.append(position) #walk 把隨機的每一步加總"
   ]
  },
  {
   "cell_type": "code",
   "execution_count": 284,
   "metadata": {},
   "outputs": [
    {
     "data": {
      "text/plain": [
       "<Figure size 432x288 with 0 Axes>"
      ]
     },
     "execution_count": 284,
     "metadata": {},
     "output_type": "execute_result"
    },
    {
     "data": {
      "text/plain": [
       "<Figure size 432x288 with 0 Axes>"
      ]
     },
     "metadata": {},
     "output_type": "display_data"
    }
   ],
   "source": [
    "plt.figure()"
   ]
  },
  {
   "cell_type": "code",
   "execution_count": 285,
   "metadata": {},
   "outputs": [
    {
     "data": {
      "text/plain": [
       "[<matplotlib.lines.Line2D at 0x1d38117e828>]"
      ]
     },
     "execution_count": 285,
     "metadata": {},
     "output_type": "execute_result"
    },
    {
     "data": {
      "image/png": "[encoded data removed]",
      "text/plain": [
       "<Figure size 432x288 with 1 Axes>"
      ]
     },
     "metadata": {
      "needs_background": "light"
     },
     "output_type": "display_data"
    }
   ],
   "source": [
    "plt.plot(walk[:100]) #畫出前100步"
   ]
  },
  {
   "cell_type": "code",
   "execution_count": 276,
   "metadata": {},
   "outputs": [],
   "source": [
    "np.random.seed(12345) #以NumPy nd.random模組連續擲硬幣1000次正面為1反面為-1"
   ]
  },
  {
   "cell_type": "code",
   "execution_count": 287,
   "metadata": {},
   "outputs": [],
   "source": [
    "nsteps = 1000\n",
    "draws = np.random.randint(0, 2, size=nsteps)\n",
    "steps = np.where(draws > 0, 1, -1)\n",
    "walk = steps.cumsum()"
   ]
  },
  {
   "cell_type": "code",
   "execution_count": 288,
   "metadata": {},
   "outputs": [
    {
     "data": {
      "text/plain": [
       "<Figure size 432x288 with 0 Axes>"
      ]
     },
     "execution_count": 288,
     "metadata": {},
     "output_type": "execute_result"
    },
    {
     "data": {
      "text/plain": [
       "<Figure size 432x288 with 0 Axes>"
      ]
     },
     "metadata": {},
     "output_type": "display_data"
    }
   ],
   "source": [
    "plt.figure()"
   ]
  },
  {
   "cell_type": "code",
   "execution_count": 279,
   "metadata": {},
   "outputs": [
    {
     "data": {
      "text/plain": [
       "[<matplotlib.lines.Line2D at 0x1d3800eedd8>]"
      ]
     },
     "execution_count": 279,
     "metadata": {},
     "output_type": "execute_result"
    },
    {
     "data": {
      "image/png": "[encoded data removed]",
      "text/plain": [
       "<Figure size 432x288 with 1 Axes>"
      ]
     },
     "metadata": {
      "needs_background": "light"
     },
     "output_type": "display_data"
    }
   ],
   "source": [
    "plt.plot(walk[:100])"
   ]
  },
  {
   "cell_type": "code",
   "execution_count": 292,
   "metadata": {},
   "outputs": [
    {
     "data": {
      "text/plain": [
       "array([ 1,  0,  1,  2,  3,  4,  3,  2,  3,  4,  5,  4,  3,  2,  3,  4,  5,\n",
       "        6,  5,  4,  3,  2,  1,  2,  1,  0,  1,  2,  3,  2,  1,  0, -1,  0,\n",
       "        1,  2,  3,  4,  3,  4,  3,  2,  3,  2,  3,  2,  1,  2,  3,  4,  3,\n",
       "        4,  5,  6,  5,  6,  5,  6,  5,  4,  3,  4,  5,  6,  5,  6,  5,  6,\n",
       "        5,  6,  5,  6,  5,  4,  5,  6,  7,  8,  7,  6,  5,  4,  3,  2,  1,\n",
       "        2,  1,  2,  3,  2,  3,  4,  5,  6,  5,  6,  7,  8,  7,  6,  7,  8,\n",
       "        9, 10,  9, 10,  9, 10, 11, 12, 11, 12, 11, 12, 13, 14, 15, 16, 15,\n",
       "       16, 15, 14, 13, 12, 13, 12, 13, 14, 15, 14, 13, 14, 13, 12, 11, 12,\n",
       "       11, 10, 11, 10, 11, 12, 13, 12, 11, 10, 11, 12, 13, 12, 13, 14, 15,\n",
       "       16, 15, 16, 15, 14, 15, 16, 17, 18, 19, 20, 21, 22, 21, 22, 23, 22,\n",
       "       21, 20, 19, 18, 17, 18, 19, 20, 21, 22, 21, 22, 21, 22, 21, 20, 19,\n",
       "       18, 19, 18, 19, 20, 21, 22, 23, 22, 21, 20, 21, 22, 23, 24, 25, 24,\n",
       "       23, 24, 23, 22, 21, 22, 21, 22, 23, 24, 25, 24, 23, 24, 23, 22, 21,\n",
       "       20, 19, 20, 19, 20, 21, 22, 21, 22, 21, 22, 23, 22, 23, 24, 25, 26,\n",
       "       25, 24, 23, 22, 21, 22, 21, 22, 21, 22, 21, 22, 23, 22, 21, 22, 23,\n",
       "       24, 23, 22, 23, 22, 21, 22, 23, 22, 21, 22, 21, 22, 21, 22, 21, 20,\n",
       "       19, 20, 19, 18, 19, 18, 19, 20, 19, 20, 21, 20, 21, 22, 23, 24, 23,\n",
       "       24, 23, 22, 21, 22, 23, 24, 23, 22, 23, 22, 23, 24, 23, 24, 23, 22,\n",
       "       21, 20, 19, 20, 19, 18, 19, 18, 17, 18, 17, 18, 17, 18, 19, 20, 21,\n",
       "       20, 19, 18, 17, 16, 15, 16, 17, 18, 17, 16, 17, 16, 17, 18, 19, 18,\n",
       "       17, 16, 17, 18, 17, 16, 15, 14, 13, 12, 11, 12, 13, 12, 11, 12, 11,\n",
       "       10,  9,  8,  7,  8,  7,  8,  7,  8,  7,  8,  7,  6,  7,  6,  5,  4,\n",
       "        3,  4,  5,  4,  5,  6,  5,  4,  5,  6,  5,  6,  7,  8,  7,  8,  9,\n",
       "        8,  7,  6,  5,  4,  3,  2,  1,  2,  1,  2,  1,  2,  1,  2,  3,  2,\n",
       "        3,  2,  1,  2,  1,  2,  3,  2,  3,  2,  3,  4,  5,  6,  5,  6,  5,\n",
       "        6,  7,  8,  9,  8,  7,  8,  9, 10,  9,  8,  7,  6,  5,  4,  3,  4,\n",
       "        3,  2,  3,  2,  3,  2,  3,  2,  1,  0, -1,  0,  1,  0,  1,  2,  1,\n",
       "        2,  1,  2,  3,  4,  3,  4,  3,  2,  3,  2,  3,  2,  1,  0, -1,  0,\n",
       "       -1,  0,  1,  0, -1,  0,  1,  0,  1,  0,  1,  2,  3,  4,  5,  6,  5,\n",
       "        4,  5,  4,  5,  6,  7,  8,  9, 10, 11, 12, 11, 12, 13, 12, 11, 12,\n",
       "       13, 12, 11, 10,  9,  8,  7,  6,  5,  6,  7,  6,  7,  6,  5,  4,  5,\n",
       "        6,  7,  8,  7,  6,  5,  4,  5,  4,  3,  2,  1,  0,  1,  2,  3,  2,\n",
       "        1,  2,  1,  0, -1, -2, -1,  0, -1, -2, -3, -2, -3, -2, -3, -4, -5,\n",
       "       -4, -3, -4, -3, -2, -1,  0, -1,  0,  1,  2,  1,  2,  3,  4,  5,  6,\n",
       "        5,  4,  3,  4,  3,  2,  1,  0,  1,  0,  1,  0, -1, -2, -1, -2, -1,\n",
       "       -2, -3, -2, -1, -2, -1, -2, -1,  0,  1,  0,  1,  2,  3,  4,  5,  6,\n",
       "        5,  6,  5,  4,  3,  4,  5,  6,  5,  6,  5,  6,  5,  4,  3,  4,  5,\n",
       "        6,  7,  8,  7,  6,  7,  6,  5,  6,  7,  6,  5,  6,  5,  4,  5,  6,\n",
       "        7,  8,  7,  8,  7,  8,  7,  6,  7,  8,  9,  8,  7,  6,  7,  6,  7,\n",
       "        8,  9, 10,  9, 10, 11, 10,  9, 10,  9, 10,  9, 10, 11, 12, 13, 12,\n",
       "       13, 14, 13, 12, 11, 10,  9,  8,  7,  6,  5,  4,  5,  6,  7,  6,  7,\n",
       "        8,  9,  8,  7,  6,  7,  6,  5,  4,  5,  4,  3,  4,  3,  2,  1,  0,\n",
       "        1,  0, -1, -2, -3, -4, -5, -4, -3, -2, -3, -2, -1,  0,  1,  2,  3,\n",
       "        2,  1,  2,  1,  2,  3,  4,  3,  2,  3,  4,  5,  4,  3,  4,  5,  4,\n",
       "        5,  6,  5,  6,  5,  6,  7,  6,  5,  4,  5,  6,  5,  4,  5,  4,  3,\n",
       "        4,  3,  2,  3,  4,  3,  2,  1,  0,  1,  0,  1,  2,  3,  2,  1,  0,\n",
       "       -1, -2, -1, -2, -1, -2, -1,  0,  1,  0, -1, -2, -3, -4, -5, -4, -3,\n",
       "       -4, -3, -2, -1, -2, -1,  0,  1,  2,  3,  2,  3,  2,  3,  2,  3,  4,\n",
       "        3,  4,  3,  2,  3,  4,  5,  6,  7,  6,  7,  6,  5,  4,  3,  4,  5,\n",
       "        6,  7,  8,  9,  8,  7,  8,  9,  8,  9,  8,  7,  6,  7,  6,  7,  8,\n",
       "        7,  6,  7,  8,  9,  8,  7,  6,  7,  6,  5,  4,  3,  4,  5,  6,  7,\n",
       "        6,  7,  8,  7,  8,  7,  6,  7,  8,  9,  8,  9,  8,  7,  6,  5,  6,\n",
       "        5,  4,  5,  6,  5,  4,  3,  4,  5,  4,  5,  4,  3,  2,  3,  2,  3,\n",
       "        2,  3,  4,  5,  6,  7,  8,  7,  6,  7,  8,  7,  8,  7,  8,  7,  8,\n",
       "        7,  6,  5,  4,  5,  6,  5,  6,  5,  6,  7,  6,  5,  4,  5,  6,  7,\n",
       "        6,  7,  8,  7,  8,  9, 10,  9,  8,  7,  8,  7,  6,  5,  4,  5,  4,\n",
       "        3,  2,  1,  2,  3,  4,  5,  6,  5,  6,  5,  6,  7,  8,  7,  6,  5,\n",
       "        4,  5,  4,  3,  2,  1,  0, -1,  0, -1,  0, -1,  0, -1, -2, -1,  0,\n",
       "        1,  2,  3,  4,  5,  4,  5,  6,  5,  6,  7,  8,  7,  8],\n",
       "      dtype=int32)"
      ]
     },
     "execution_count": 292,
     "metadata": {},
     "output_type": "execute_result"
    }
   ],
   "source": [
    "walk"
   ]
  },
  {
   "cell_type": "code",
   "execution_count": 293,
   "metadata": {},
   "outputs": [
    {
     "data": {
      "text/plain": [
       "-5"
      ]
     },
     "execution_count": 293,
     "metadata": {},
     "output_type": "execute_result"
    }
   ],
   "source": [
    "walk.min() #walk陣列中最小值"
   ]
  },
  {
   "cell_type": "code",
   "execution_count": 294,
   "metadata": {},
   "outputs": [
    {
     "data": {
      "text/plain": [
       "26"
      ]
     },
     "execution_count": 294,
     "metadata": {},
     "output_type": "execute_result"
    }
   ],
   "source": [
    "walk.max() #walk陣列中最大值"
   ]
  },
  {
   "cell_type": "code",
   "execution_count": 296,
   "metadata": {},
   "outputs": [
    {
     "data": {
      "text/plain": [
       "103"
      ]
     },
     "execution_count": 296,
     "metadata": {},
     "output_type": "execute_result"
    }
   ],
   "source": [
    "(np.abs(walk) >= 10).argmax() #計算首次穿越時間(first crossing time) 即在第一步我們的漫步可以到達指定值，np.abs(walk)>=10.argmax()想知道\n",
    "#走多少步路後，才能從0開始到達10步遠的位置，此時就會回傳一個布林陣列，裡面的布林值即標明那些布到達或超過10步遠，不過我們想知道的是何時首次到達\n",
    "#10或-10，這時候就可以使用argmax來計算，這個函式會在布林陣列上找尋最大值，並傳回其索引(true就是最大值)"
   ]
  },
  {
   "cell_type": "markdown",
   "metadata": {},
   "source": [
    "### Simulating Many Random Walks at Once 一次模擬許多隨機散步"
   ]
  },
  {
   "cell_type": "code",
   "execution_count": 261,
   "metadata": {},
   "outputs": [
    {
     "data": {
      "text/plain": [
       "array([[  1,   0,   1, ...,   8,   7,   8],\n",
       "       [  1,   0,  -1, ...,  34,  33,  32],\n",
       "       [  1,   0,  -1, ...,   4,   5,   4],\n",
       "       ...,\n",
       "       [  1,   2,   1, ...,  24,  25,  26],\n",
       "       [  1,   2,   3, ...,  14,  13,  14],\n",
       "       [ -1,  -2,  -3, ..., -24, -23, -22]], dtype=int32)"
      ]
     },
     "execution_count": 261,
     "metadata": {},
     "output_type": "execute_result"
    }
   ],
   "source": [
    "nwalks = 5000\n",
    "nsteps = 1000\n",
    "draws = np.random.randint(0, 2, size=(nwalks, nsteps)) # 0 or 1\n",
    "steps = np.where(draws > 0, 1, -1)\n",
    "walks = steps.cumsum(1)\n",
    "walks"
   ]
  },
  {
   "cell_type": "code",
   "execution_count": 299,
   "metadata": {},
   "outputs": [
    {
     "data": {
      "text/plain": [
       "[<matplotlib.lines.Line2D at 0x1d3811f5e10>,\n",
       " <matplotlib.lines.Line2D at 0x1d3811f5f60>,\n",
       " <matplotlib.lines.Line2D at 0x1d3811fd0f0>,\n",
       " <matplotlib.lines.Line2D at 0x1d3811fd240>,\n",
       " <matplotlib.lines.Line2D at 0x1d3811fd390>,\n",
       " <matplotlib.lines.Line2D at 0x1d3811fd4e0>,\n",
       " <matplotlib.lines.Line2D at 0x1d3811fd630>,\n",
       " <matplotlib.lines.Line2D at 0x1d3811fd780>,\n",
       " <matplotlib.lines.Line2D at 0x1d3811fd8d0>,\n",
       " <matplotlib.lines.Line2D at 0x1d3811fda20>,\n",
       " <matplotlib.lines.Line2D at 0x1d3811d9908>,\n",
       " <matplotlib.lines.Line2D at 0x1d3811fdc88>,\n",
       " <matplotlib.lines.Line2D at 0x1d3811fddd8>,\n",
       " <matplotlib.lines.Line2D at 0x1d3811fdf28>,\n",
       " <matplotlib.lines.Line2D at 0x1d3812040b8>,\n",
       " <matplotlib.lines.Line2D at 0x1d381204208>,\n",
       " <matplotlib.lines.Line2D at 0x1d381204358>,\n",
       " <matplotlib.lines.Line2D at 0x1d3812044a8>,\n",
       " <matplotlib.lines.Line2D at 0x1d3812045f8>,\n",
       " <matplotlib.lines.Line2D at 0x1d381204748>,\n",
       " <matplotlib.lines.Line2D at 0x1d381204898>,\n",
       " <matplotlib.lines.Line2D at 0x1d3812049e8>,\n",
       " <matplotlib.lines.Line2D at 0x1d381204b38>,\n",
       " <matplotlib.lines.Line2D at 0x1d381204c88>,\n",
       " <matplotlib.lines.Line2D at 0x1d381204dd8>,\n",
       " <matplotlib.lines.Line2D at 0x1d381204f28>,\n",
       " <matplotlib.lines.Line2D at 0x1d3812080b8>,\n",
       " <matplotlib.lines.Line2D at 0x1d381208208>,\n",
       " <matplotlib.lines.Line2D at 0x1d381208358>,\n",
       " <matplotlib.lines.Line2D at 0x1d3812084a8>,\n",
       " <matplotlib.lines.Line2D at 0x1d3812085f8>,\n",
       " <matplotlib.lines.Line2D at 0x1d381208748>,\n",
       " <matplotlib.lines.Line2D at 0x1d381208898>,\n",
       " <matplotlib.lines.Line2D at 0x1d3812089e8>,\n",
       " <matplotlib.lines.Line2D at 0x1d381208b38>,\n",
       " <matplotlib.lines.Line2D at 0x1d381208c88>,\n",
       " <matplotlib.lines.Line2D at 0x1d381208dd8>,\n",
       " <matplotlib.lines.Line2D at 0x1d381208f28>,\n",
       " <matplotlib.lines.Line2D at 0x1d38120d0b8>,\n",
       " <matplotlib.lines.Line2D at 0x1d38120d208>,\n",
       " <matplotlib.lines.Line2D at 0x1d38120d358>,\n",
       " <matplotlib.lines.Line2D at 0x1d38120d4a8>,\n",
       " <matplotlib.lines.Line2D at 0x1d38120d5f8>,\n",
       " <matplotlib.lines.Line2D at 0x1d38120d748>,\n",
       " <matplotlib.lines.Line2D at 0x1d38120d898>,\n",
       " <matplotlib.lines.Line2D at 0x1d38120d9e8>,\n",
       " <matplotlib.lines.Line2D at 0x1d38120db38>,\n",
       " <matplotlib.lines.Line2D at 0x1d38120dc88>,\n",
       " <matplotlib.lines.Line2D at 0x1d38120ddd8>,\n",
       " <matplotlib.lines.Line2D at 0x1d38120df28>,\n",
       " <matplotlib.lines.Line2D at 0x1d3812130b8>,\n",
       " <matplotlib.lines.Line2D at 0x1d381213208>,\n",
       " <matplotlib.lines.Line2D at 0x1d381213358>,\n",
       " <matplotlib.lines.Line2D at 0x1d3812134a8>,\n",
       " <matplotlib.lines.Line2D at 0x1d3812135f8>,\n",
       " <matplotlib.lines.Line2D at 0x1d381213748>,\n",
       " <matplotlib.lines.Line2D at 0x1d381213898>,\n",
       " <matplotlib.lines.Line2D at 0x1d3812139e8>,\n",
       " <matplotlib.lines.Line2D at 0x1d381213b38>,\n",
       " <matplotlib.lines.Line2D at 0x1d381213c88>,\n",
       " <matplotlib.lines.Line2D at 0x1d381213dd8>,\n",
       " <matplotlib.lines.Line2D at 0x1d381213f28>,\n",
       " <matplotlib.lines.Line2D at 0x1d3812180b8>,\n",
       " <matplotlib.lines.Line2D at 0x1d381218208>,\n",
       " <matplotlib.lines.Line2D at 0x1d381218358>,\n",
       " <matplotlib.lines.Line2D at 0x1d3812184a8>,\n",
       " <matplotlib.lines.Line2D at 0x1d3812185f8>,\n",
       " <matplotlib.lines.Line2D at 0x1d381218748>,\n",
       " <matplotlib.lines.Line2D at 0x1d381218898>,\n",
       " <matplotlib.lines.Line2D at 0x1d3812189e8>,\n",
       " <matplotlib.lines.Line2D at 0x1d381218b38>,\n",
       " <matplotlib.lines.Line2D at 0x1d381218c88>,\n",
       " <matplotlib.lines.Line2D at 0x1d381218dd8>,\n",
       " <matplotlib.lines.Line2D at 0x1d381218f28>,\n",
       " <matplotlib.lines.Line2D at 0x1d38121c0b8>,\n",
       " <matplotlib.lines.Line2D at 0x1d38121c208>,\n",
       " <matplotlib.lines.Line2D at 0x1d38121c358>,\n",
       " <matplotlib.lines.Line2D at 0x1d38121c4a8>,\n",
       " <matplotlib.lines.Line2D at 0x1d38121c5f8>,\n",
       " <matplotlib.lines.Line2D at 0x1d38121c748>,\n",
       " <matplotlib.lines.Line2D at 0x1d38121c898>,\n",
       " <matplotlib.lines.Line2D at 0x1d38121c9e8>,\n",
       " <matplotlib.lines.Line2D at 0x1d38121cb38>,\n",
       " <matplotlib.lines.Line2D at 0x1d38121cc88>,\n",
       " <matplotlib.lines.Line2D at 0x1d38121cdd8>,\n",
       " <matplotlib.lines.Line2D at 0x1d38121cf28>,\n",
       " <matplotlib.lines.Line2D at 0x1d3812220b8>,\n",
       " <matplotlib.lines.Line2D at 0x1d381222208>,\n",
       " <matplotlib.lines.Line2D at 0x1d381222358>,\n",
       " <matplotlib.lines.Line2D at 0x1d3812224a8>,\n",
       " <matplotlib.lines.Line2D at 0x1d3812225f8>,\n",
       " <matplotlib.lines.Line2D at 0x1d381222748>,\n",
       " <matplotlib.lines.Line2D at 0x1d381222898>,\n",
       " <matplotlib.lines.Line2D at 0x1d3812229e8>,\n",
       " <matplotlib.lines.Line2D at 0x1d381222b38>,\n",
       " <matplotlib.lines.Line2D at 0x1d381222c88>,\n",
       " <matplotlib.lines.Line2D at 0x1d381222dd8>,\n",
       " <matplotlib.lines.Line2D at 0x1d381222f28>,\n",
       " <matplotlib.lines.Line2D at 0x1d3812280b8>,\n",
       " <matplotlib.lines.Line2D at 0x1d381228208>,\n",
       " <matplotlib.lines.Line2D at 0x1d381228358>,\n",
       " <matplotlib.lines.Line2D at 0x1d3812284a8>,\n",
       " <matplotlib.lines.Line2D at 0x1d3812285f8>,\n",
       " <matplotlib.lines.Line2D at 0x1d381228748>,\n",
       " <matplotlib.lines.Line2D at 0x1d381228898>,\n",
       " <matplotlib.lines.Line2D at 0x1d3812289e8>,\n",
       " <matplotlib.lines.Line2D at 0x1d381228b38>,\n",
       " <matplotlib.lines.Line2D at 0x1d381228c88>,\n",
       " <matplotlib.lines.Line2D at 0x1d381228dd8>,\n",
       " <matplotlib.lines.Line2D at 0x1d381228f28>,\n",
       " <matplotlib.lines.Line2D at 0x1d38122d0b8>,\n",
       " <matplotlib.lines.Line2D at 0x1d38122d208>,\n",
       " <matplotlib.lines.Line2D at 0x1d38122d358>,\n",
       " <matplotlib.lines.Line2D at 0x1d38122d4a8>,\n",
       " <matplotlib.lines.Line2D at 0x1d38122d5f8>,\n",
       " <matplotlib.lines.Line2D at 0x1d38122d748>,\n",
       " <matplotlib.lines.Line2D at 0x1d38122d898>,\n",
       " <matplotlib.lines.Line2D at 0x1d38122d9e8>,\n",
       " <matplotlib.lines.Line2D at 0x1d38122db38>,\n",
       " <matplotlib.lines.Line2D at 0x1d38122dc88>,\n",
       " <matplotlib.lines.Line2D at 0x1d38122ddd8>,\n",
       " <matplotlib.lines.Line2D at 0x1d38122df28>,\n",
       " <matplotlib.lines.Line2D at 0x1d3812320b8>,\n",
       " <matplotlib.lines.Line2D at 0x1d381232208>,\n",
       " <matplotlib.lines.Line2D at 0x1d381232358>,\n",
       " <matplotlib.lines.Line2D at 0x1d3812324a8>,\n",
       " <matplotlib.lines.Line2D at 0x1d3812325f8>,\n",
       " <matplotlib.lines.Line2D at 0x1d381232748>,\n",
       " <matplotlib.lines.Line2D at 0x1d381232898>,\n",
       " <matplotlib.lines.Line2D at 0x1d3812329e8>,\n",
       " <matplotlib.lines.Line2D at 0x1d381232b38>,\n",
       " <matplotlib.lines.Line2D at 0x1d381232c88>,\n",
       " <matplotlib.lines.Line2D at 0x1d381232dd8>,\n",
       " <matplotlib.lines.Line2D at 0x1d381232f28>,\n",
       " <matplotlib.lines.Line2D at 0x1d3812370b8>,\n",
       " <matplotlib.lines.Line2D at 0x1d381237208>,\n",
       " <matplotlib.lines.Line2D at 0x1d381237358>,\n",
       " <matplotlib.lines.Line2D at 0x1d3812374a8>,\n",
       " <matplotlib.lines.Line2D at 0x1d3812375f8>,\n",
       " <matplotlib.lines.Line2D at 0x1d381237748>,\n",
       " <matplotlib.lines.Line2D at 0x1d381237898>,\n",
       " <matplotlib.lines.Line2D at 0x1d3812379e8>,\n",
       " <matplotlib.lines.Line2D at 0x1d381237b38>,\n",
       " <matplotlib.lines.Line2D at 0x1d381237c88>,\n",
       " <matplotlib.lines.Line2D at 0x1d381237dd8>,\n",
       " <matplotlib.lines.Line2D at 0x1d381237f28>,\n",
       " <matplotlib.lines.Line2D at 0x1d38123c0b8>,\n",
       " <matplotlib.lines.Line2D at 0x1d38123c208>,\n",
       " <matplotlib.lines.Line2D at 0x1d38123c358>,\n",
       " <matplotlib.lines.Line2D at 0x1d38123c4a8>,\n",
       " <matplotlib.lines.Line2D at 0x1d38123c5f8>,\n",
       " <matplotlib.lines.Line2D at 0x1d38123c748>,\n",
       " <matplotlib.lines.Line2D at 0x1d38123c898>,\n",
       " <matplotlib.lines.Line2D at 0x1d38123c9e8>,\n",
       " <matplotlib.lines.Line2D at 0x1d38123cb38>,\n",
       " <matplotlib.lines.Line2D at 0x1d38123cc88>,\n",
       " <matplotlib.lines.Line2D at 0x1d38123cdd8>,\n",
       " <matplotlib.lines.Line2D at 0x1d38123cf28>,\n",
       " <matplotlib.lines.Line2D at 0x1d3812410b8>,\n",
       " <matplotlib.lines.Line2D at 0x1d381241208>,\n",
       " <matplotlib.lines.Line2D at 0x1d381241358>,\n",
       " <matplotlib.lines.Line2D at 0x1d3812414a8>,\n",
       " <matplotlib.lines.Line2D at 0x1d3812415f8>,\n",
       " <matplotlib.lines.Line2D at 0x1d381241748>,\n",
       " <matplotlib.lines.Line2D at 0x1d381241898>,\n",
       " <matplotlib.lines.Line2D at 0x1d3812419e8>,\n",
       " <matplotlib.lines.Line2D at 0x1d381241b38>,\n",
       " <matplotlib.lines.Line2D at 0x1d381241c88>,\n",
       " <matplotlib.lines.Line2D at 0x1d381241dd8>,\n",
       " <matplotlib.lines.Line2D at 0x1d381241f28>,\n",
       " <matplotlib.lines.Line2D at 0x1d3812460b8>,\n",
       " <matplotlib.lines.Line2D at 0x1d381246208>,\n",
       " <matplotlib.lines.Line2D at 0x1d381246358>,\n",
       " <matplotlib.lines.Line2D at 0x1d3812464a8>,\n",
       " <matplotlib.lines.Line2D at 0x1d3812465f8>,\n",
       " <matplotlib.lines.Line2D at 0x1d381246748>,\n",
       " <matplotlib.lines.Line2D at 0x1d381246898>,\n",
       " <matplotlib.lines.Line2D at 0x1d3812469e8>,\n",
       " <matplotlib.lines.Line2D at 0x1d381246b38>,\n",
       " <matplotlib.lines.Line2D at 0x1d381246c88>,\n",
       " <matplotlib.lines.Line2D at 0x1d381246dd8>,\n",
       " <matplotlib.lines.Line2D at 0x1d381246f28>,\n",
       " <matplotlib.lines.Line2D at 0x1d38124a0b8>,\n",
       " <matplotlib.lines.Line2D at 0x1d38124a208>,\n",
       " <matplotlib.lines.Line2D at 0x1d38124a358>,\n",
       " <matplotlib.lines.Line2D at 0x1d38124a4a8>,\n",
       " <matplotlib.lines.Line2D at 0x1d38124a5f8>,\n",
       " <matplotlib.lines.Line2D at 0x1d38124a748>,\n",
       " <matplotlib.lines.Line2D at 0x1d38124a898>,\n",
       " <matplotlib.lines.Line2D at 0x1d38124a9e8>,\n",
       " <matplotlib.lines.Line2D at 0x1d38124ab38>,\n",
       " <matplotlib.lines.Line2D at 0x1d38124ac88>,\n",
       " <matplotlib.lines.Line2D at 0x1d38124add8>,\n",
       " <matplotlib.lines.Line2D at 0x1d38124af28>,\n",
       " <matplotlib.lines.Line2D at 0x1d3812510b8>,\n",
       " <matplotlib.lines.Line2D at 0x1d381251208>,\n",
       " <matplotlib.lines.Line2D at 0x1d381251358>,\n",
       " <matplotlib.lines.Line2D at 0x1d3812514a8>,\n",
       " <matplotlib.lines.Line2D at 0x1d3812515f8>,\n",
       " <matplotlib.lines.Line2D at 0x1d381251748>,\n",
       " <matplotlib.lines.Line2D at 0x1d381251898>,\n",
       " <matplotlib.lines.Line2D at 0x1d3812519e8>,\n",
       " <matplotlib.lines.Line2D at 0x1d381251b38>,\n",
       " <matplotlib.lines.Line2D at 0x1d381251c88>,\n",
       " <matplotlib.lines.Line2D at 0x1d381251dd8>,\n",
       " <matplotlib.lines.Line2D at 0x1d381251f28>,\n",
       " <matplotlib.lines.Line2D at 0x1d3812550b8>,\n",
       " <matplotlib.lines.Line2D at 0x1d381255208>,\n",
       " <matplotlib.lines.Line2D at 0x1d381255358>,\n",
       " <matplotlib.lines.Line2D at 0x1d3812554a8>,\n",
       " <matplotlib.lines.Line2D at 0x1d3812555f8>,\n",
       " <matplotlib.lines.Line2D at 0x1d381255748>,\n",
       " <matplotlib.lines.Line2D at 0x1d381255898>,\n",
       " <matplotlib.lines.Line2D at 0x1d3812559e8>,\n",
       " <matplotlib.lines.Line2D at 0x1d381255b38>,\n",
       " <matplotlib.lines.Line2D at 0x1d381255c88>,\n",
       " <matplotlib.lines.Line2D at 0x1d381255dd8>,\n",
       " <matplotlib.lines.Line2D at 0x1d381255f28>,\n",
       " <matplotlib.lines.Line2D at 0x1d38125c0b8>,\n",
       " <matplotlib.lines.Line2D at 0x1d38125c208>,\n",
       " <matplotlib.lines.Line2D at 0x1d38125c358>,\n",
       " <matplotlib.lines.Line2D at 0x1d38125c4a8>,\n",
       " <matplotlib.lines.Line2D at 0x1d38125c5f8>,\n",
       " <matplotlib.lines.Line2D at 0x1d38125c748>,\n",
       " <matplotlib.lines.Line2D at 0x1d38125c898>,\n",
       " <matplotlib.lines.Line2D at 0x1d38125c9e8>,\n",
       " <matplotlib.lines.Line2D at 0x1d38125cb38>,\n",
       " <matplotlib.lines.Line2D at 0x1d38125cc88>,\n",
       " <matplotlib.lines.Line2D at 0x1d38125cdd8>,\n",
       " <matplotlib.lines.Line2D at 0x1d38125cf28>,\n",
       " <matplotlib.lines.Line2D at 0x1d38125f0b8>,\n",
       " <matplotlib.lines.Line2D at 0x1d38125f208>,\n",
       " <matplotlib.lines.Line2D at 0x1d38125f358>,\n",
       " <matplotlib.lines.Line2D at 0x1d38125f4a8>,\n",
       " <matplotlib.lines.Line2D at 0x1d38125f5f8>,\n",
       " <matplotlib.lines.Line2D at 0x1d38125f748>,\n",
       " <matplotlib.lines.Line2D at 0x1d38125f898>,\n",
       " <matplotlib.lines.Line2D at 0x1d38125f9e8>,\n",
       " <matplotlib.lines.Line2D at 0x1d38125fb38>,\n",
       " <matplotlib.lines.Line2D at 0x1d38125fc88>,\n",
       " <matplotlib.lines.Line2D at 0x1d38125fdd8>,\n",
       " <matplotlib.lines.Line2D at 0x1d38125ff28>,\n",
       " <matplotlib.lines.Line2D at 0x1d3812650b8>,\n",
       " <matplotlib.lines.Line2D at 0x1d381265208>,\n",
       " <matplotlib.lines.Line2D at 0x1d381265358>,\n",
       " <matplotlib.lines.Line2D at 0x1d3812654a8>,\n",
       " <matplotlib.lines.Line2D at 0x1d3812655f8>,\n",
       " <matplotlib.lines.Line2D at 0x1d381265748>,\n",
       " <matplotlib.lines.Line2D at 0x1d381265898>,\n",
       " <matplotlib.lines.Line2D at 0x1d3812659e8>,\n",
       " <matplotlib.lines.Line2D at 0x1d381265b38>,\n",
       " <matplotlib.lines.Line2D at 0x1d381265c88>,\n",
       " <matplotlib.lines.Line2D at 0x1d381265dd8>,\n",
       " <matplotlib.lines.Line2D at 0x1d381265f28>,\n",
       " <matplotlib.lines.Line2D at 0x1d3812690b8>,\n",
       " <matplotlib.lines.Line2D at 0x1d381269208>,\n",
       " <matplotlib.lines.Line2D at 0x1d381269358>,\n",
       " <matplotlib.lines.Line2D at 0x1d3812694a8>,\n",
       " <matplotlib.lines.Line2D at 0x1d3812695f8>,\n",
       " <matplotlib.lines.Line2D at 0x1d381269748>,\n",
       " <matplotlib.lines.Line2D at 0x1d381269898>,\n",
       " <matplotlib.lines.Line2D at 0x1d3812699e8>,\n",
       " <matplotlib.lines.Line2D at 0x1d381269b38>,\n",
       " <matplotlib.lines.Line2D at 0x1d381269c88>,\n",
       " <matplotlib.lines.Line2D at 0x1d381269dd8>,\n",
       " <matplotlib.lines.Line2D at 0x1d381269f28>,\n",
       " <matplotlib.lines.Line2D at 0x1d3812700b8>,\n",
       " <matplotlib.lines.Line2D at 0x1d381270208>,\n",
       " <matplotlib.lines.Line2D at 0x1d381270358>,\n",
       " <matplotlib.lines.Line2D at 0x1d3812704a8>,\n",
       " <matplotlib.lines.Line2D at 0x1d3812705f8>,\n",
       " <matplotlib.lines.Line2D at 0x1d381270748>,\n",
       " <matplotlib.lines.Line2D at 0x1d381270898>,\n",
       " <matplotlib.lines.Line2D at 0x1d3812709e8>,\n",
       " <matplotlib.lines.Line2D at 0x1d381270b38>,\n",
       " <matplotlib.lines.Line2D at 0x1d381270c88>,\n",
       " <matplotlib.lines.Line2D at 0x1d381270dd8>,\n",
       " <matplotlib.lines.Line2D at 0x1d381270f28>,\n",
       " <matplotlib.lines.Line2D at 0x1d3812730b8>,\n",
       " <matplotlib.lines.Line2D at 0x1d381273208>,\n",
       " <matplotlib.lines.Line2D at 0x1d381273358>,\n",
       " <matplotlib.lines.Line2D at 0x1d3812734a8>,\n",
       " <matplotlib.lines.Line2D at 0x1d3812735f8>,\n",
       " <matplotlib.lines.Line2D at 0x1d381273748>,\n",
       " <matplotlib.lines.Line2D at 0x1d381273898>,\n",
       " <matplotlib.lines.Line2D at 0x1d3812739e8>,\n",
       " <matplotlib.lines.Line2D at 0x1d381273b38>,\n",
       " <matplotlib.lines.Line2D at 0x1d381273c88>,\n",
       " <matplotlib.lines.Line2D at 0x1d381273dd8>,\n",
       " <matplotlib.lines.Line2D at 0x1d381273f28>,\n",
       " <matplotlib.lines.Line2D at 0x1d38127a0b8>,\n",
       " <matplotlib.lines.Line2D at 0x1d38127a208>,\n",
       " <matplotlib.lines.Line2D at 0x1d38127a358>,\n",
       " <matplotlib.lines.Line2D at 0x1d38127a4a8>,\n",
       " <matplotlib.lines.Line2D at 0x1d38127a5f8>,\n",
       " <matplotlib.lines.Line2D at 0x1d38127a748>,\n",
       " <matplotlib.lines.Line2D at 0x1d38127a898>,\n",
       " <matplotlib.lines.Line2D at 0x1d38127a9e8>,\n",
       " <matplotlib.lines.Line2D at 0x1d38127ab38>,\n",
       " <matplotlib.lines.Line2D at 0x1d38127ac88>,\n",
       " <matplotlib.lines.Line2D at 0x1d38127add8>,\n",
       " <matplotlib.lines.Line2D at 0x1d38127af28>,\n",
       " <matplotlib.lines.Line2D at 0x1d38127f0b8>,\n",
       " <matplotlib.lines.Line2D at 0x1d38127f208>,\n",
       " <matplotlib.lines.Line2D at 0x1d38127f358>,\n",
       " <matplotlib.lines.Line2D at 0x1d38127f4a8>,\n",
       " <matplotlib.lines.Line2D at 0x1d38127f5f8>,\n",
       " <matplotlib.lines.Line2D at 0x1d38127f748>,\n",
       " <matplotlib.lines.Line2D at 0x1d38127f898>,\n",
       " <matplotlib.lines.Line2D at 0x1d38127f9e8>,\n",
       " <matplotlib.lines.Line2D at 0x1d38127fb38>,\n",
       " <matplotlib.lines.Line2D at 0x1d38127fc88>,\n",
       " <matplotlib.lines.Line2D at 0x1d38127fdd8>,\n",
       " <matplotlib.lines.Line2D at 0x1d38127ff28>,\n",
       " <matplotlib.lines.Line2D at 0x1d3812850b8>,\n",
       " <matplotlib.lines.Line2D at 0x1d381285208>,\n",
       " <matplotlib.lines.Line2D at 0x1d381285358>,\n",
       " <matplotlib.lines.Line2D at 0x1d3812854a8>,\n",
       " <matplotlib.lines.Line2D at 0x1d3812855f8>,\n",
       " <matplotlib.lines.Line2D at 0x1d381285748>,\n",
       " <matplotlib.lines.Line2D at 0x1d381285898>,\n",
       " <matplotlib.lines.Line2D at 0x1d3812859e8>,\n",
       " <matplotlib.lines.Line2D at 0x1d381285b38>,\n",
       " <matplotlib.lines.Line2D at 0x1d381285c88>,\n",
       " <matplotlib.lines.Line2D at 0x1d381285dd8>,\n",
       " <matplotlib.lines.Line2D at 0x1d381285f28>,\n",
       " <matplotlib.lines.Line2D at 0x1d3812880b8>,\n",
       " <matplotlib.lines.Line2D at 0x1d381288208>,\n",
       " <matplotlib.lines.Line2D at 0x1d381288358>,\n",
       " <matplotlib.lines.Line2D at 0x1d3812884a8>,\n",
       " <matplotlib.lines.Line2D at 0x1d3812885f8>,\n",
       " <matplotlib.lines.Line2D at 0x1d381288748>,\n",
       " <matplotlib.lines.Line2D at 0x1d381288898>,\n",
       " <matplotlib.lines.Line2D at 0x1d3812889e8>,\n",
       " <matplotlib.lines.Line2D at 0x1d381288b38>,\n",
       " <matplotlib.lines.Line2D at 0x1d381288c88>,\n",
       " <matplotlib.lines.Line2D at 0x1d381288dd8>,\n",
       " <matplotlib.lines.Line2D at 0x1d381288f28>,\n",
       " <matplotlib.lines.Line2D at 0x1d38128e0b8>,\n",
       " <matplotlib.lines.Line2D at 0x1d38128e208>,\n",
       " <matplotlib.lines.Line2D at 0x1d38128e358>,\n",
       " <matplotlib.lines.Line2D at 0x1d38128e4a8>,\n",
       " <matplotlib.lines.Line2D at 0x1d38128e5f8>,\n",
       " <matplotlib.lines.Line2D at 0x1d38128e748>,\n",
       " <matplotlib.lines.Line2D at 0x1d38128e898>,\n",
       " <matplotlib.lines.Line2D at 0x1d38128e9e8>,\n",
       " <matplotlib.lines.Line2D at 0x1d38128eb38>,\n",
       " <matplotlib.lines.Line2D at 0x1d38128ec88>,\n",
       " <matplotlib.lines.Line2D at 0x1d38128edd8>,\n",
       " <matplotlib.lines.Line2D at 0x1d38128ef28>,\n",
       " <matplotlib.lines.Line2D at 0x1d3812930b8>,\n",
       " <matplotlib.lines.Line2D at 0x1d381293208>,\n",
       " <matplotlib.lines.Line2D at 0x1d381293358>,\n",
       " <matplotlib.lines.Line2D at 0x1d3812934a8>,\n",
       " <matplotlib.lines.Line2D at 0x1d3812935f8>,\n",
       " <matplotlib.lines.Line2D at 0x1d381293748>,\n",
       " <matplotlib.lines.Line2D at 0x1d381293898>,\n",
       " <matplotlib.lines.Line2D at 0x1d3812939e8>,\n",
       " <matplotlib.lines.Line2D at 0x1d381293b38>,\n",
       " <matplotlib.lines.Line2D at 0x1d381293c88>,\n",
       " <matplotlib.lines.Line2D at 0x1d381293dd8>,\n",
       " <matplotlib.lines.Line2D at 0x1d381293f28>,\n",
       " <matplotlib.lines.Line2D at 0x1d3812990b8>,\n",
       " <matplotlib.lines.Line2D at 0x1d381299208>,\n",
       " <matplotlib.lines.Line2D at 0x1d381299358>,\n",
       " <matplotlib.lines.Line2D at 0x1d3812994a8>,\n",
       " <matplotlib.lines.Line2D at 0x1d3812995f8>,\n",
       " <matplotlib.lines.Line2D at 0x1d381299748>,\n",
       " <matplotlib.lines.Line2D at 0x1d381299898>,\n",
       " <matplotlib.lines.Line2D at 0x1d3812999e8>,\n",
       " <matplotlib.lines.Line2D at 0x1d381299b38>,\n",
       " <matplotlib.lines.Line2D at 0x1d381299c88>,\n",
       " <matplotlib.lines.Line2D at 0x1d381299dd8>,\n",
       " <matplotlib.lines.Line2D at 0x1d381299f28>,\n",
       " <matplotlib.lines.Line2D at 0x1d38129d0b8>,\n",
       " <matplotlib.lines.Line2D at 0x1d38129d208>,\n",
       " <matplotlib.lines.Line2D at 0x1d38129d358>,\n",
       " <matplotlib.lines.Line2D at 0x1d38129d4a8>,\n",
       " <matplotlib.lines.Line2D at 0x1d38129d5f8>,\n",
       " <matplotlib.lines.Line2D at 0x1d38129d748>,\n",
       " <matplotlib.lines.Line2D at 0x1d38129d898>,\n",
       " <matplotlib.lines.Line2D at 0x1d38129d9e8>,\n",
       " <matplotlib.lines.Line2D at 0x1d38129db38>,\n",
       " <matplotlib.lines.Line2D at 0x1d38129dc88>,\n",
       " <matplotlib.lines.Line2D at 0x1d38129ddd8>,\n",
       " <matplotlib.lines.Line2D at 0x1d38129df28>,\n",
       " <matplotlib.lines.Line2D at 0x1d3812a30b8>,\n",
       " <matplotlib.lines.Line2D at 0x1d3812a3208>,\n",
       " <matplotlib.lines.Line2D at 0x1d3812a3358>,\n",
       " <matplotlib.lines.Line2D at 0x1d3812a34a8>,\n",
       " <matplotlib.lines.Line2D at 0x1d3812a35f8>,\n",
       " <matplotlib.lines.Line2D at 0x1d3812a3748>,\n",
       " <matplotlib.lines.Line2D at 0x1d3812a3898>,\n",
       " <matplotlib.lines.Line2D at 0x1d3812a39e8>,\n",
       " <matplotlib.lines.Line2D at 0x1d3812a3b38>,\n",
       " <matplotlib.lines.Line2D at 0x1d3812a3c88>,\n",
       " <matplotlib.lines.Line2D at 0x1d3812a3dd8>,\n",
       " <matplotlib.lines.Line2D at 0x1d3812a3f28>,\n",
       " <matplotlib.lines.Line2D at 0x1d3812a80b8>,\n",
       " <matplotlib.lines.Line2D at 0x1d3812a8208>,\n",
       " <matplotlib.lines.Line2D at 0x1d3812a8358>,\n",
       " <matplotlib.lines.Line2D at 0x1d3812a84a8>,\n",
       " <matplotlib.lines.Line2D at 0x1d3812a85f8>,\n",
       " <matplotlib.lines.Line2D at 0x1d3812a8748>,\n",
       " <matplotlib.lines.Line2D at 0x1d3812a8898>,\n",
       " <matplotlib.lines.Line2D at 0x1d3812a89e8>,\n",
       " <matplotlib.lines.Line2D at 0x1d3812a8b38>,\n",
       " <matplotlib.lines.Line2D at 0x1d3812a8c88>,\n",
       " <matplotlib.lines.Line2D at 0x1d3812a8dd8>,\n",
       " <matplotlib.lines.Line2D at 0x1d3812a8f28>,\n",
       " <matplotlib.lines.Line2D at 0x1d3812ae0b8>,\n",
       " <matplotlib.lines.Line2D at 0x1d3812ae208>,\n",
       " <matplotlib.lines.Line2D at 0x1d3812ae358>,\n",
       " <matplotlib.lines.Line2D at 0x1d3812ae4a8>,\n",
       " <matplotlib.lines.Line2D at 0x1d3812ae5f8>,\n",
       " <matplotlib.lines.Line2D at 0x1d3812ae748>,\n",
       " <matplotlib.lines.Line2D at 0x1d3812ae898>,\n",
       " <matplotlib.lines.Line2D at 0x1d3812ae9e8>,\n",
       " <matplotlib.lines.Line2D at 0x1d3812aeb38>,\n",
       " <matplotlib.lines.Line2D at 0x1d3812aec88>,\n",
       " <matplotlib.lines.Line2D at 0x1d3812aedd8>,\n",
       " <matplotlib.lines.Line2D at 0x1d3812aef28>,\n",
       " <matplotlib.lines.Line2D at 0x1d3812b20b8>,\n",
       " <matplotlib.lines.Line2D at 0x1d3812b2208>,\n",
       " <matplotlib.lines.Line2D at 0x1d3812b2358>,\n",
       " <matplotlib.lines.Line2D at 0x1d3812b24a8>,\n",
       " <matplotlib.lines.Line2D at 0x1d3812b25f8>,\n",
       " <matplotlib.lines.Line2D at 0x1d3812b2748>,\n",
       " <matplotlib.lines.Line2D at 0x1d3812b2898>,\n",
       " <matplotlib.lines.Line2D at 0x1d3812b29e8>,\n",
       " <matplotlib.lines.Line2D at 0x1d3812b2b38>,\n",
       " <matplotlib.lines.Line2D at 0x1d3812b2c88>,\n",
       " <matplotlib.lines.Line2D at 0x1d3812b2dd8>,\n",
       " <matplotlib.lines.Line2D at 0x1d3812b2f28>,\n",
       " <matplotlib.lines.Line2D at 0x1d3812b80b8>,\n",
       " <matplotlib.lines.Line2D at 0x1d3812b8208>,\n",
       " <matplotlib.lines.Line2D at 0x1d3812b8358>,\n",
       " <matplotlib.lines.Line2D at 0x1d3812b84a8>,\n",
       " <matplotlib.lines.Line2D at 0x1d3812b85f8>,\n",
       " <matplotlib.lines.Line2D at 0x1d3812b8748>,\n",
       " <matplotlib.lines.Line2D at 0x1d3812b8898>,\n",
       " <matplotlib.lines.Line2D at 0x1d3812b89e8>,\n",
       " <matplotlib.lines.Line2D at 0x1d3812b8b38>,\n",
       " <matplotlib.lines.Line2D at 0x1d3812b8c88>,\n",
       " <matplotlib.lines.Line2D at 0x1d3812b8dd8>,\n",
       " <matplotlib.lines.Line2D at 0x1d3812b8f28>,\n",
       " <matplotlib.lines.Line2D at 0x1d3812bc0b8>,\n",
       " <matplotlib.lines.Line2D at 0x1d3812bc208>,\n",
       " <matplotlib.lines.Line2D at 0x1d3812bc358>,\n",
       " <matplotlib.lines.Line2D at 0x1d3812bc4a8>,\n",
       " <matplotlib.lines.Line2D at 0x1d3812bc5f8>,\n",
       " <matplotlib.lines.Line2D at 0x1d3812bc748>,\n",
       " <matplotlib.lines.Line2D at 0x1d3812bc898>,\n",
       " <matplotlib.lines.Line2D at 0x1d3812bc9e8>,\n",
       " <matplotlib.lines.Line2D at 0x1d3812bcb38>,\n",
       " <matplotlib.lines.Line2D at 0x1d3812bcc88>,\n",
       " <matplotlib.lines.Line2D at 0x1d3812bcdd8>,\n",
       " <matplotlib.lines.Line2D at 0x1d3812bcf28>,\n",
       " <matplotlib.lines.Line2D at 0x1d3812c20b8>,\n",
       " <matplotlib.lines.Line2D at 0x1d3812c2208>,\n",
       " <matplotlib.lines.Line2D at 0x1d3812c2358>,\n",
       " <matplotlib.lines.Line2D at 0x1d3812c24a8>,\n",
       " <matplotlib.lines.Line2D at 0x1d3812c25f8>,\n",
       " <matplotlib.lines.Line2D at 0x1d3812c2748>,\n",
       " <matplotlib.lines.Line2D at 0x1d3812c2898>,\n",
       " <matplotlib.lines.Line2D at 0x1d3812c29e8>,\n",
       " <matplotlib.lines.Line2D at 0x1d3812c2b38>,\n",
       " <matplotlib.lines.Line2D at 0x1d3812c2c88>,\n",
       " <matplotlib.lines.Line2D at 0x1d3812c2dd8>,\n",
       " <matplotlib.lines.Line2D at 0x1d3812c2f28>,\n",
       " <matplotlib.lines.Line2D at 0x1d3812c70b8>,\n",
       " <matplotlib.lines.Line2D at 0x1d3812c7208>,\n",
       " <matplotlib.lines.Line2D at 0x1d3812c7358>,\n",
       " <matplotlib.lines.Line2D at 0x1d3812c74a8>,\n",
       " <matplotlib.lines.Line2D at 0x1d3812c75f8>,\n",
       " <matplotlib.lines.Line2D at 0x1d3812c7748>,\n",
       " <matplotlib.lines.Line2D at 0x1d3812c7898>,\n",
       " <matplotlib.lines.Line2D at 0x1d3812c79e8>,\n",
       " <matplotlib.lines.Line2D at 0x1d3812c7b38>,\n",
       " <matplotlib.lines.Line2D at 0x1d3812c7c88>,\n",
       " <matplotlib.lines.Line2D at 0x1d3812c7dd8>,\n",
       " <matplotlib.lines.Line2D at 0x1d3812c7f28>,\n",
       " <matplotlib.lines.Line2D at 0x1d3812cb0b8>,\n",
       " <matplotlib.lines.Line2D at 0x1d3812cb208>,\n",
       " <matplotlib.lines.Line2D at 0x1d3812cb358>,\n",
       " <matplotlib.lines.Line2D at 0x1d3812cb4a8>,\n",
       " <matplotlib.lines.Line2D at 0x1d3812cb5f8>,\n",
       " <matplotlib.lines.Line2D at 0x1d3812cb748>,\n",
       " <matplotlib.lines.Line2D at 0x1d3812cb898>,\n",
       " <matplotlib.lines.Line2D at 0x1d3812cb9e8>,\n",
       " <matplotlib.lines.Line2D at 0x1d3812cbb38>,\n",
       " <matplotlib.lines.Line2D at 0x1d3812cbc88>,\n",
       " <matplotlib.lines.Line2D at 0x1d3812cbdd8>,\n",
       " <matplotlib.lines.Line2D at 0x1d3812cbf28>,\n",
       " <matplotlib.lines.Line2D at 0x1d3812d10b8>,\n",
       " <matplotlib.lines.Line2D at 0x1d3812d1208>,\n",
       " <matplotlib.lines.Line2D at 0x1d3812d1358>,\n",
       " <matplotlib.lines.Line2D at 0x1d3812d14a8>,\n",
       " <matplotlib.lines.Line2D at 0x1d3812d15f8>,\n",
       " <matplotlib.lines.Line2D at 0x1d3812d1748>,\n",
       " <matplotlib.lines.Line2D at 0x1d3812d1898>,\n",
       " <matplotlib.lines.Line2D at 0x1d3812d19e8>,\n",
       " <matplotlib.lines.Line2D at 0x1d3812d1b38>,\n",
       " <matplotlib.lines.Line2D at 0x1d3812d1c88>,\n",
       " <matplotlib.lines.Line2D at 0x1d3812d1dd8>,\n",
       " <matplotlib.lines.Line2D at 0x1d3812d1f28>,\n",
       " <matplotlib.lines.Line2D at 0x1d3812d60b8>,\n",
       " <matplotlib.lines.Line2D at 0x1d3812d6208>,\n",
       " <matplotlib.lines.Line2D at 0x1d3812d6358>,\n",
       " <matplotlib.lines.Line2D at 0x1d3812d64a8>,\n",
       " <matplotlib.lines.Line2D at 0x1d3812d65f8>,\n",
       " <matplotlib.lines.Line2D at 0x1d3812d6748>,\n",
       " <matplotlib.lines.Line2D at 0x1d3812d6898>,\n",
       " <matplotlib.lines.Line2D at 0x1d3812d69e8>,\n",
       " <matplotlib.lines.Line2D at 0x1d3812d6b38>,\n",
       " <matplotlib.lines.Line2D at 0x1d3812d6c88>,\n",
       " <matplotlib.lines.Line2D at 0x1d3812d6dd8>,\n",
       " <matplotlib.lines.Line2D at 0x1d3812d6f28>,\n",
       " <matplotlib.lines.Line2D at 0x1d3812dc0b8>,\n",
       " <matplotlib.lines.Line2D at 0x1d3812dc208>,\n",
       " <matplotlib.lines.Line2D at 0x1d3812dc358>,\n",
       " <matplotlib.lines.Line2D at 0x1d3812dc4a8>,\n",
       " <matplotlib.lines.Line2D at 0x1d3812dc5f8>,\n",
       " <matplotlib.lines.Line2D at 0x1d3812dc748>,\n",
       " <matplotlib.lines.Line2D at 0x1d3812dc898>,\n",
       " <matplotlib.lines.Line2D at 0x1d3812dc9e8>,\n",
       " <matplotlib.lines.Line2D at 0x1d3812dcb38>,\n",
       " <matplotlib.lines.Line2D at 0x1d3812dcc88>,\n",
       " <matplotlib.lines.Line2D at 0x1d3812dcdd8>,\n",
       " <matplotlib.lines.Line2D at 0x1d3812dcf28>,\n",
       " <matplotlib.lines.Line2D at 0x1d3812e00b8>,\n",
       " <matplotlib.lines.Line2D at 0x1d3812e0208>,\n",
       " <matplotlib.lines.Line2D at 0x1d3812e0358>,\n",
       " <matplotlib.lines.Line2D at 0x1d3812e04a8>,\n",
       " <matplotlib.lines.Line2D at 0x1d3812e05f8>,\n",
       " <matplotlib.lines.Line2D at 0x1d3812e0748>,\n",
       " <matplotlib.lines.Line2D at 0x1d3812e0898>,\n",
       " <matplotlib.lines.Line2D at 0x1d3812e09e8>,\n",
       " <matplotlib.lines.Line2D at 0x1d3812e0b38>,\n",
       " <matplotlib.lines.Line2D at 0x1d3812e0c88>,\n",
       " <matplotlib.lines.Line2D at 0x1d3812e0dd8>,\n",
       " <matplotlib.lines.Line2D at 0x1d3812e0f28>,\n",
       " <matplotlib.lines.Line2D at 0x1d3812e50b8>,\n",
       " <matplotlib.lines.Line2D at 0x1d3812e5208>,\n",
       " <matplotlib.lines.Line2D at 0x1d3812e5358>,\n",
       " <matplotlib.lines.Line2D at 0x1d3812e54a8>,\n",
       " <matplotlib.lines.Line2D at 0x1d3812e55f8>,\n",
       " <matplotlib.lines.Line2D at 0x1d3812e5748>,\n",
       " <matplotlib.lines.Line2D at 0x1d3812e5898>,\n",
       " <matplotlib.lines.Line2D at 0x1d3812e59e8>,\n",
       " <matplotlib.lines.Line2D at 0x1d3812e5b38>,\n",
       " <matplotlib.lines.Line2D at 0x1d3812e5c88>,\n",
       " <matplotlib.lines.Line2D at 0x1d3812e5dd8>,\n",
       " <matplotlib.lines.Line2D at 0x1d3812e5f28>,\n",
       " <matplotlib.lines.Line2D at 0x1d3812eb0b8>,\n",
       " <matplotlib.lines.Line2D at 0x1d3812eb208>,\n",
       " <matplotlib.lines.Line2D at 0x1d3812eb358>,\n",
       " <matplotlib.lines.Line2D at 0x1d3812eb4a8>,\n",
       " <matplotlib.lines.Line2D at 0x1d3812eb5f8>,\n",
       " <matplotlib.lines.Line2D at 0x1d3812eb748>,\n",
       " <matplotlib.lines.Line2D at 0x1d3812eb898>,\n",
       " <matplotlib.lines.Line2D at 0x1d3812eb9e8>,\n",
       " <matplotlib.lines.Line2D at 0x1d3812ebb38>,\n",
       " <matplotlib.lines.Line2D at 0x1d3812ebc88>,\n",
       " <matplotlib.lines.Line2D at 0x1d3812ebdd8>,\n",
       " <matplotlib.lines.Line2D at 0x1d3812ebf28>,\n",
       " <matplotlib.lines.Line2D at 0x1d3812f00b8>,\n",
       " <matplotlib.lines.Line2D at 0x1d3812f0208>,\n",
       " <matplotlib.lines.Line2D at 0x1d3812f0358>,\n",
       " <matplotlib.lines.Line2D at 0x1d3812f04a8>,\n",
       " <matplotlib.lines.Line2D at 0x1d3812f05f8>,\n",
       " <matplotlib.lines.Line2D at 0x1d3812f0748>,\n",
       " <matplotlib.lines.Line2D at 0x1d3812f0898>,\n",
       " <matplotlib.lines.Line2D at 0x1d3812f09e8>,\n",
       " <matplotlib.lines.Line2D at 0x1d3812f0b38>,\n",
       " <matplotlib.lines.Line2D at 0x1d3812f0c88>,\n",
       " <matplotlib.lines.Line2D at 0x1d3812f0dd8>,\n",
       " <matplotlib.lines.Line2D at 0x1d3812f0f28>,\n",
       " <matplotlib.lines.Line2D at 0x1d3812f40b8>,\n",
       " <matplotlib.lines.Line2D at 0x1d3812f4208>,\n",
       " <matplotlib.lines.Line2D at 0x1d3812f4358>,\n",
       " <matplotlib.lines.Line2D at 0x1d3812f44a8>,\n",
       " <matplotlib.lines.Line2D at 0x1d3812f45f8>,\n",
       " <matplotlib.lines.Line2D at 0x1d3812f4748>,\n",
       " <matplotlib.lines.Line2D at 0x1d3812f4898>,\n",
       " <matplotlib.lines.Line2D at 0x1d3812f49e8>,\n",
       " <matplotlib.lines.Line2D at 0x1d3812f4b38>,\n",
       " <matplotlib.lines.Line2D at 0x1d3812f4c88>,\n",
       " <matplotlib.lines.Line2D at 0x1d3812f4dd8>,\n",
       " <matplotlib.lines.Line2D at 0x1d3812f4f28>,\n",
       " <matplotlib.lines.Line2D at 0x1d3812fa0b8>,\n",
       " <matplotlib.lines.Line2D at 0x1d3812fa208>,\n",
       " <matplotlib.lines.Line2D at 0x1d3812fa358>,\n",
       " <matplotlib.lines.Line2D at 0x1d3812fa4a8>,\n",
       " <matplotlib.lines.Line2D at 0x1d3812fa5f8>,\n",
       " <matplotlib.lines.Line2D at 0x1d3812fa748>,\n",
       " <matplotlib.lines.Line2D at 0x1d3812fa898>,\n",
       " <matplotlib.lines.Line2D at 0x1d3812fa9e8>,\n",
       " <matplotlib.lines.Line2D at 0x1d3812fab38>,\n",
       " <matplotlib.lines.Line2D at 0x1d3812fac88>,\n",
       " <matplotlib.lines.Line2D at 0x1d3812fadd8>,\n",
       " <matplotlib.lines.Line2D at 0x1d3812faf28>,\n",
       " <matplotlib.lines.Line2D at 0x1d3813000b8>,\n",
       " <matplotlib.lines.Line2D at 0x1d381300208>,\n",
       " <matplotlib.lines.Line2D at 0x1d381300358>,\n",
       " <matplotlib.lines.Line2D at 0x1d3813004a8>,\n",
       " <matplotlib.lines.Line2D at 0x1d3813005f8>,\n",
       " <matplotlib.lines.Line2D at 0x1d381300748>,\n",
       " <matplotlib.lines.Line2D at 0x1d381300898>,\n",
       " <matplotlib.lines.Line2D at 0x1d3813009e8>,\n",
       " <matplotlib.lines.Line2D at 0x1d381300b38>,\n",
       " <matplotlib.lines.Line2D at 0x1d381300c88>,\n",
       " <matplotlib.lines.Line2D at 0x1d381300dd8>,\n",
       " <matplotlib.lines.Line2D at 0x1d381300f28>,\n",
       " <matplotlib.lines.Line2D at 0x1d3813050b8>,\n",
       " <matplotlib.lines.Line2D at 0x1d381305208>,\n",
       " <matplotlib.lines.Line2D at 0x1d381305358>,\n",
       " <matplotlib.lines.Line2D at 0x1d3813054a8>,\n",
       " <matplotlib.lines.Line2D at 0x1d3813055f8>,\n",
       " <matplotlib.lines.Line2D at 0x1d381305748>,\n",
       " <matplotlib.lines.Line2D at 0x1d381305898>,\n",
       " <matplotlib.lines.Line2D at 0x1d3813059e8>,\n",
       " <matplotlib.lines.Line2D at 0x1d381305b38>,\n",
       " <matplotlib.lines.Line2D at 0x1d381305c88>,\n",
       " <matplotlib.lines.Line2D at 0x1d381305dd8>,\n",
       " <matplotlib.lines.Line2D at 0x1d381305f28>,\n",
       " <matplotlib.lines.Line2D at 0x1d38130a0b8>,\n",
       " <matplotlib.lines.Line2D at 0x1d38130a208>,\n",
       " <matplotlib.lines.Line2D at 0x1d38130a358>,\n",
       " <matplotlib.lines.Line2D at 0x1d38130a4a8>,\n",
       " <matplotlib.lines.Line2D at 0x1d38130a5f8>,\n",
       " <matplotlib.lines.Line2D at 0x1d38130a748>,\n",
       " <matplotlib.lines.Line2D at 0x1d38130a898>,\n",
       " <matplotlib.lines.Line2D at 0x1d38130a9e8>,\n",
       " <matplotlib.lines.Line2D at 0x1d38130ab38>,\n",
       " <matplotlib.lines.Line2D at 0x1d38130ac88>,\n",
       " <matplotlib.lines.Line2D at 0x1d38130add8>,\n",
       " <matplotlib.lines.Line2D at 0x1d38130af28>,\n",
       " <matplotlib.lines.Line2D at 0x1d38130f0b8>,\n",
       " <matplotlib.lines.Line2D at 0x1d38130f208>,\n",
       " <matplotlib.lines.Line2D at 0x1d38130f358>,\n",
       " <matplotlib.lines.Line2D at 0x1d38130f4a8>,\n",
       " <matplotlib.lines.Line2D at 0x1d38130f5f8>,\n",
       " <matplotlib.lines.Line2D at 0x1d38130f748>,\n",
       " <matplotlib.lines.Line2D at 0x1d38130f898>,\n",
       " <matplotlib.lines.Line2D at 0x1d38130f9e8>,\n",
       " <matplotlib.lines.Line2D at 0x1d38130fb38>,\n",
       " <matplotlib.lines.Line2D at 0x1d38130fc88>,\n",
       " <matplotlib.lines.Line2D at 0x1d38130fdd8>,\n",
       " <matplotlib.lines.Line2D at 0x1d38130ff28>,\n",
       " <matplotlib.lines.Line2D at 0x1d3813140b8>,\n",
       " <matplotlib.lines.Line2D at 0x1d381314208>,\n",
       " <matplotlib.lines.Line2D at 0x1d381314358>,\n",
       " <matplotlib.lines.Line2D at 0x1d3813144a8>,\n",
       " <matplotlib.lines.Line2D at 0x1d3813145f8>,\n",
       " <matplotlib.lines.Line2D at 0x1d381314748>,\n",
       " <matplotlib.lines.Line2D at 0x1d381314898>,\n",
       " <matplotlib.lines.Line2D at 0x1d3813149e8>,\n",
       " <matplotlib.lines.Line2D at 0x1d381314b38>,\n",
       " <matplotlib.lines.Line2D at 0x1d381314c88>,\n",
       " <matplotlib.lines.Line2D at 0x1d381314dd8>,\n",
       " <matplotlib.lines.Line2D at 0x1d381314f28>,\n",
       " <matplotlib.lines.Line2D at 0x1d3813190b8>,\n",
       " <matplotlib.lines.Line2D at 0x1d381319208>,\n",
       " <matplotlib.lines.Line2D at 0x1d381319358>,\n",
       " <matplotlib.lines.Line2D at 0x1d3813194a8>,\n",
       " <matplotlib.lines.Line2D at 0x1d3813195f8>,\n",
       " <matplotlib.lines.Line2D at 0x1d381319748>,\n",
       " <matplotlib.lines.Line2D at 0x1d381319898>,\n",
       " <matplotlib.lines.Line2D at 0x1d3813199e8>,\n",
       " <matplotlib.lines.Line2D at 0x1d381319b38>,\n",
       " <matplotlib.lines.Line2D at 0x1d381319c88>,\n",
       " <matplotlib.lines.Line2D at 0x1d381319dd8>,\n",
       " <matplotlib.lines.Line2D at 0x1d381319f28>,\n",
       " <matplotlib.lines.Line2D at 0x1d38131e0b8>,\n",
       " <matplotlib.lines.Line2D at 0x1d38131e208>,\n",
       " <matplotlib.lines.Line2D at 0x1d38131e358>,\n",
       " <matplotlib.lines.Line2D at 0x1d38131e4a8>,\n",
       " <matplotlib.lines.Line2D at 0x1d38131e5f8>,\n",
       " <matplotlib.lines.Line2D at 0x1d38131e748>,\n",
       " <matplotlib.lines.Line2D at 0x1d38131e898>,\n",
       " <matplotlib.lines.Line2D at 0x1d38131e9e8>,\n",
       " <matplotlib.lines.Line2D at 0x1d38131eb38>,\n",
       " <matplotlib.lines.Line2D at 0x1d38131ec88>,\n",
       " <matplotlib.lines.Line2D at 0x1d38131edd8>,\n",
       " <matplotlib.lines.Line2D at 0x1d38131ef28>,\n",
       " <matplotlib.lines.Line2D at 0x1d3813230b8>,\n",
       " <matplotlib.lines.Line2D at 0x1d381323208>,\n",
       " <matplotlib.lines.Line2D at 0x1d381323358>,\n",
       " <matplotlib.lines.Line2D at 0x1d3813234a8>,\n",
       " <matplotlib.lines.Line2D at 0x1d3813235f8>,\n",
       " <matplotlib.lines.Line2D at 0x1d381323748>,\n",
       " <matplotlib.lines.Line2D at 0x1d381323898>,\n",
       " <matplotlib.lines.Line2D at 0x1d3813239e8>,\n",
       " <matplotlib.lines.Line2D at 0x1d381323b38>,\n",
       " <matplotlib.lines.Line2D at 0x1d381323c88>,\n",
       " <matplotlib.lines.Line2D at 0x1d381323dd8>,\n",
       " <matplotlib.lines.Line2D at 0x1d381323f28>,\n",
       " <matplotlib.lines.Line2D at 0x1d3813290b8>,\n",
       " <matplotlib.lines.Line2D at 0x1d381329208>,\n",
       " <matplotlib.lines.Line2D at 0x1d381329358>,\n",
       " <matplotlib.lines.Line2D at 0x1d3813294a8>,\n",
       " <matplotlib.lines.Line2D at 0x1d3813295f8>,\n",
       " <matplotlib.lines.Line2D at 0x1d381329748>,\n",
       " <matplotlib.lines.Line2D at 0x1d381329898>,\n",
       " <matplotlib.lines.Line2D at 0x1d3813299e8>,\n",
       " <matplotlib.lines.Line2D at 0x1d381329b38>,\n",
       " <matplotlib.lines.Line2D at 0x1d381329c88>,\n",
       " <matplotlib.lines.Line2D at 0x1d381329dd8>,\n",
       " <matplotlib.lines.Line2D at 0x1d381329f28>,\n",
       " <matplotlib.lines.Line2D at 0x1d38132e0b8>,\n",
       " <matplotlib.lines.Line2D at 0x1d38132e208>,\n",
       " <matplotlib.lines.Line2D at 0x1d38132e358>,\n",
       " <matplotlib.lines.Line2D at 0x1d38132e4a8>,\n",
       " <matplotlib.lines.Line2D at 0x1d38132e5f8>,\n",
       " <matplotlib.lines.Line2D at 0x1d38132e748>,\n",
       " <matplotlib.lines.Line2D at 0x1d38132e898>,\n",
       " <matplotlib.lines.Line2D at 0x1d38132e9e8>,\n",
       " <matplotlib.lines.Line2D at 0x1d38132eb38>,\n",
       " <matplotlib.lines.Line2D at 0x1d38132ec88>,\n",
       " <matplotlib.lines.Line2D at 0x1d38132edd8>,\n",
       " <matplotlib.lines.Line2D at 0x1d38132ef28>,\n",
       " <matplotlib.lines.Line2D at 0x1d3813340b8>,\n",
       " <matplotlib.lines.Line2D at 0x1d381334208>,\n",
       " <matplotlib.lines.Line2D at 0x1d381334358>,\n",
       " <matplotlib.lines.Line2D at 0x1d3813344a8>,\n",
       " <matplotlib.lines.Line2D at 0x1d3813345f8>,\n",
       " <matplotlib.lines.Line2D at 0x1d381334748>,\n",
       " <matplotlib.lines.Line2D at 0x1d381334898>,\n",
       " <matplotlib.lines.Line2D at 0x1d3813349e8>,\n",
       " <matplotlib.lines.Line2D at 0x1d381334b38>,\n",
       " <matplotlib.lines.Line2D at 0x1d381334c88>,\n",
       " <matplotlib.lines.Line2D at 0x1d381334dd8>,\n",
       " <matplotlib.lines.Line2D at 0x1d381334f28>,\n",
       " <matplotlib.lines.Line2D at 0x1d3813380b8>,\n",
       " <matplotlib.lines.Line2D at 0x1d381338208>,\n",
       " <matplotlib.lines.Line2D at 0x1d381338358>,\n",
       " <matplotlib.lines.Line2D at 0x1d3813384a8>,\n",
       " <matplotlib.lines.Line2D at 0x1d3813385f8>,\n",
       " <matplotlib.lines.Line2D at 0x1d381338748>,\n",
       " <matplotlib.lines.Line2D at 0x1d381338898>,\n",
       " <matplotlib.lines.Line2D at 0x1d3813389e8>,\n",
       " <matplotlib.lines.Line2D at 0x1d381338b38>,\n",
       " <matplotlib.lines.Line2D at 0x1d381338c88>,\n",
       " <matplotlib.lines.Line2D at 0x1d381338dd8>,\n",
       " <matplotlib.lines.Line2D at 0x1d381338f28>,\n",
       " <matplotlib.lines.Line2D at 0x1d38133d0b8>,\n",
       " <matplotlib.lines.Line2D at 0x1d38133d208>,\n",
       " <matplotlib.lines.Line2D at 0x1d38133d358>,\n",
       " <matplotlib.lines.Line2D at 0x1d38133d4a8>,\n",
       " <matplotlib.lines.Line2D at 0x1d38133d5f8>,\n",
       " <matplotlib.lines.Line2D at 0x1d38133d748>,\n",
       " <matplotlib.lines.Line2D at 0x1d38133d898>,\n",
       " <matplotlib.lines.Line2D at 0x1d38133d9e8>,\n",
       " <matplotlib.lines.Line2D at 0x1d38133db38>,\n",
       " <matplotlib.lines.Line2D at 0x1d38133dc88>,\n",
       " <matplotlib.lines.Line2D at 0x1d38133ddd8>,\n",
       " <matplotlib.lines.Line2D at 0x1d38133df28>,\n",
       " <matplotlib.lines.Line2D at 0x1d3813420b8>,\n",
       " <matplotlib.lines.Line2D at 0x1d381342208>,\n",
       " <matplotlib.lines.Line2D at 0x1d381342358>,\n",
       " <matplotlib.lines.Line2D at 0x1d3813424a8>,\n",
       " <matplotlib.lines.Line2D at 0x1d3813425f8>,\n",
       " <matplotlib.lines.Line2D at 0x1d381342748>,\n",
       " <matplotlib.lines.Line2D at 0x1d381342898>,\n",
       " <matplotlib.lines.Line2D at 0x1d3813429e8>,\n",
       " <matplotlib.lines.Line2D at 0x1d381342b38>,\n",
       " <matplotlib.lines.Line2D at 0x1d381342c88>,\n",
       " <matplotlib.lines.Line2D at 0x1d381342dd8>,\n",
       " <matplotlib.lines.Line2D at 0x1d381342f28>,\n",
       " <matplotlib.lines.Line2D at 0x1d3813480b8>,\n",
       " <matplotlib.lines.Line2D at 0x1d381348208>,\n",
       " <matplotlib.lines.Line2D at 0x1d381348358>,\n",
       " <matplotlib.lines.Line2D at 0x1d3813484a8>,\n",
       " <matplotlib.lines.Line2D at 0x1d3813485f8>,\n",
       " <matplotlib.lines.Line2D at 0x1d381348748>,\n",
       " <matplotlib.lines.Line2D at 0x1d381348898>,\n",
       " <matplotlib.lines.Line2D at 0x1d3813489e8>,\n",
       " <matplotlib.lines.Line2D at 0x1d381348b38>,\n",
       " <matplotlib.lines.Line2D at 0x1d381348c88>,\n",
       " <matplotlib.lines.Line2D at 0x1d381348dd8>,\n",
       " <matplotlib.lines.Line2D at 0x1d381348f28>,\n",
       " <matplotlib.lines.Line2D at 0x1d38134b0b8>,\n",
       " <matplotlib.lines.Line2D at 0x1d38134b208>,\n",
       " <matplotlib.lines.Line2D at 0x1d38134b358>,\n",
       " <matplotlib.lines.Line2D at 0x1d38134b4a8>,\n",
       " <matplotlib.lines.Line2D at 0x1d38134b5f8>,\n",
       " <matplotlib.lines.Line2D at 0x1d38134b748>,\n",
       " <matplotlib.lines.Line2D at 0x1d38134b898>,\n",
       " <matplotlib.lines.Line2D at 0x1d38134b9e8>,\n",
       " <matplotlib.lines.Line2D at 0x1d38134bb38>,\n",
       " <matplotlib.lines.Line2D at 0x1d38134bc88>,\n",
       " <matplotlib.lines.Line2D at 0x1d38134bdd8>,\n",
       " <matplotlib.lines.Line2D at 0x1d38134bf28>,\n",
       " <matplotlib.lines.Line2D at 0x1d3813520b8>,\n",
       " <matplotlib.lines.Line2D at 0x1d381352208>,\n",
       " <matplotlib.lines.Line2D at 0x1d381352358>,\n",
       " <matplotlib.lines.Line2D at 0x1d3813524a8>,\n",
       " <matplotlib.lines.Line2D at 0x1d3813525f8>,\n",
       " <matplotlib.lines.Line2D at 0x1d381352748>,\n",
       " <matplotlib.lines.Line2D at 0x1d381352898>,\n",
       " <matplotlib.lines.Line2D at 0x1d3813529e8>,\n",
       " <matplotlib.lines.Line2D at 0x1d381352b38>,\n",
       " <matplotlib.lines.Line2D at 0x1d381352c88>,\n",
       " <matplotlib.lines.Line2D at 0x1d381352dd8>,\n",
       " <matplotlib.lines.Line2D at 0x1d381352f28>,\n",
       " <matplotlib.lines.Line2D at 0x1d3813570b8>,\n",
       " <matplotlib.lines.Line2D at 0x1d381357208>,\n",
       " <matplotlib.lines.Line2D at 0x1d381357358>,\n",
       " <matplotlib.lines.Line2D at 0x1d3813574a8>,\n",
       " <matplotlib.lines.Line2D at 0x1d3813575f8>,\n",
       " <matplotlib.lines.Line2D at 0x1d381357748>,\n",
       " <matplotlib.lines.Line2D at 0x1d381357898>,\n",
       " <matplotlib.lines.Line2D at 0x1d3813579e8>,\n",
       " <matplotlib.lines.Line2D at 0x1d381357b38>,\n",
       " <matplotlib.lines.Line2D at 0x1d381357c88>,\n",
       " <matplotlib.lines.Line2D at 0x1d381357dd8>,\n",
       " <matplotlib.lines.Line2D at 0x1d381357f28>,\n",
       " <matplotlib.lines.Line2D at 0x1d38135d0b8>,\n",
       " <matplotlib.lines.Line2D at 0x1d38135d208>,\n",
       " <matplotlib.lines.Line2D at 0x1d38135d358>,\n",
       " <matplotlib.lines.Line2D at 0x1d38135d4a8>,\n",
       " <matplotlib.lines.Line2D at 0x1d38135d5f8>,\n",
       " <matplotlib.lines.Line2D at 0x1d38135d748>,\n",
       " <matplotlib.lines.Line2D at 0x1d38135d898>,\n",
       " <matplotlib.lines.Line2D at 0x1d38135d9e8>,\n",
       " <matplotlib.lines.Line2D at 0x1d38135db38>,\n",
       " <matplotlib.lines.Line2D at 0x1d38135dc88>,\n",
       " <matplotlib.lines.Line2D at 0x1d38135ddd8>,\n",
       " <matplotlib.lines.Line2D at 0x1d38135df28>,\n",
       " <matplotlib.lines.Line2D at 0x1d3813600b8>,\n",
       " <matplotlib.lines.Line2D at 0x1d381360208>,\n",
       " <matplotlib.lines.Line2D at 0x1d381360358>,\n",
       " <matplotlib.lines.Line2D at 0x1d3813604a8>,\n",
       " <matplotlib.lines.Line2D at 0x1d3813605f8>,\n",
       " <matplotlib.lines.Line2D at 0x1d381360748>,\n",
       " <matplotlib.lines.Line2D at 0x1d381360898>,\n",
       " <matplotlib.lines.Line2D at 0x1d3813609e8>,\n",
       " <matplotlib.lines.Line2D at 0x1d381360b38>,\n",
       " <matplotlib.lines.Line2D at 0x1d381360c88>,\n",
       " <matplotlib.lines.Line2D at 0x1d381360dd8>,\n",
       " <matplotlib.lines.Line2D at 0x1d381360f28>,\n",
       " <matplotlib.lines.Line2D at 0x1d3813660b8>,\n",
       " <matplotlib.lines.Line2D at 0x1d381366208>,\n",
       " <matplotlib.lines.Line2D at 0x1d381366358>,\n",
       " <matplotlib.lines.Line2D at 0x1d3813664a8>,\n",
       " <matplotlib.lines.Line2D at 0x1d3813665f8>,\n",
       " <matplotlib.lines.Line2D at 0x1d381366748>,\n",
       " <matplotlib.lines.Line2D at 0x1d381366898>,\n",
       " <matplotlib.lines.Line2D at 0x1d3813669e8>,\n",
       " <matplotlib.lines.Line2D at 0x1d381366b38>,\n",
       " <matplotlib.lines.Line2D at 0x1d381366c88>,\n",
       " <matplotlib.lines.Line2D at 0x1d381366dd8>,\n",
       " <matplotlib.lines.Line2D at 0x1d381366f28>,\n",
       " <matplotlib.lines.Line2D at 0x1d38136b0b8>,\n",
       " <matplotlib.lines.Line2D at 0x1d38136b208>,\n",
       " <matplotlib.lines.Line2D at 0x1d38136b358>,\n",
       " <matplotlib.lines.Line2D at 0x1d38136b4a8>,\n",
       " <matplotlib.lines.Line2D at 0x1d38136b5f8>,\n",
       " <matplotlib.lines.Line2D at 0x1d38136b748>,\n",
       " <matplotlib.lines.Line2D at 0x1d38136b898>,\n",
       " <matplotlib.lines.Line2D at 0x1d38136b9e8>,\n",
       " <matplotlib.lines.Line2D at 0x1d38136bb38>,\n",
       " <matplotlib.lines.Line2D at 0x1d38136bc88>,\n",
       " <matplotlib.lines.Line2D at 0x1d38136bdd8>,\n",
       " <matplotlib.lines.Line2D at 0x1d38136bf28>,\n",
       " <matplotlib.lines.Line2D at 0x1d3813710b8>,\n",
       " <matplotlib.lines.Line2D at 0x1d381371208>,\n",
       " <matplotlib.lines.Line2D at 0x1d381371358>,\n",
       " <matplotlib.lines.Line2D at 0x1d3813714a8>,\n",
       " <matplotlib.lines.Line2D at 0x1d3813715f8>,\n",
       " <matplotlib.lines.Line2D at 0x1d381371748>,\n",
       " <matplotlib.lines.Line2D at 0x1d381371898>,\n",
       " <matplotlib.lines.Line2D at 0x1d3813719e8>,\n",
       " <matplotlib.lines.Line2D at 0x1d381371b38>,\n",
       " <matplotlib.lines.Line2D at 0x1d381371c88>,\n",
       " <matplotlib.lines.Line2D at 0x1d381371dd8>,\n",
       " <matplotlib.lines.Line2D at 0x1d381371f28>,\n",
       " <matplotlib.lines.Line2D at 0x1d3813750b8>,\n",
       " <matplotlib.lines.Line2D at 0x1d381375208>,\n",
       " <matplotlib.lines.Line2D at 0x1d381375358>,\n",
       " <matplotlib.lines.Line2D at 0x1d3813754a8>,\n",
       " <matplotlib.lines.Line2D at 0x1d3813755f8>,\n",
       " <matplotlib.lines.Line2D at 0x1d381375748>,\n",
       " <matplotlib.lines.Line2D at 0x1d381375898>,\n",
       " <matplotlib.lines.Line2D at 0x1d3813759e8>,\n",
       " <matplotlib.lines.Line2D at 0x1d381375b38>,\n",
       " <matplotlib.lines.Line2D at 0x1d381375c88>,\n",
       " <matplotlib.lines.Line2D at 0x1d381375dd8>,\n",
       " <matplotlib.lines.Line2D at 0x1d381375f28>,\n",
       " <matplotlib.lines.Line2D at 0x1d38137b0b8>,\n",
       " <matplotlib.lines.Line2D at 0x1d38137b208>,\n",
       " <matplotlib.lines.Line2D at 0x1d38137b358>,\n",
       " <matplotlib.lines.Line2D at 0x1d38137b4a8>,\n",
       " <matplotlib.lines.Line2D at 0x1d38137b5f8>,\n",
       " <matplotlib.lines.Line2D at 0x1d38137b748>,\n",
       " <matplotlib.lines.Line2D at 0x1d38137b898>,\n",
       " <matplotlib.lines.Line2D at 0x1d38137b9e8>,\n",
       " <matplotlib.lines.Line2D at 0x1d38137bb38>,\n",
       " <matplotlib.lines.Line2D at 0x1d38137bc88>,\n",
       " <matplotlib.lines.Line2D at 0x1d38137bdd8>,\n",
       " <matplotlib.lines.Line2D at 0x1d38137bf28>,\n",
       " <matplotlib.lines.Line2D at 0x1d3813800b8>,\n",
       " <matplotlib.lines.Line2D at 0x1d381380208>,\n",
       " <matplotlib.lines.Line2D at 0x1d381380358>,\n",
       " <matplotlib.lines.Line2D at 0x1d3813804a8>,\n",
       " <matplotlib.lines.Line2D at 0x1d3813805f8>,\n",
       " <matplotlib.lines.Line2D at 0x1d381380748>,\n",
       " <matplotlib.lines.Line2D at 0x1d381380898>,\n",
       " <matplotlib.lines.Line2D at 0x1d3813809e8>,\n",
       " <matplotlib.lines.Line2D at 0x1d381380b38>,\n",
       " <matplotlib.lines.Line2D at 0x1d381380c88>,\n",
       " <matplotlib.lines.Line2D at 0x1d381380dd8>,\n",
       " <matplotlib.lines.Line2D at 0x1d381380f28>,\n",
       " <matplotlib.lines.Line2D at 0x1d3813860b8>,\n",
       " <matplotlib.lines.Line2D at 0x1d381386208>,\n",
       " <matplotlib.lines.Line2D at 0x1d381386358>,\n",
       " <matplotlib.lines.Line2D at 0x1d3813864a8>,\n",
       " <matplotlib.lines.Line2D at 0x1d3813865f8>,\n",
       " <matplotlib.lines.Line2D at 0x1d381386748>,\n",
       " <matplotlib.lines.Line2D at 0x1d381386898>,\n",
       " <matplotlib.lines.Line2D at 0x1d3813869e8>,\n",
       " <matplotlib.lines.Line2D at 0x1d381386b38>,\n",
       " <matplotlib.lines.Line2D at 0x1d381386c88>,\n",
       " <matplotlib.lines.Line2D at 0x1d381386dd8>,\n",
       " <matplotlib.lines.Line2D at 0x1d381386f28>,\n",
       " <matplotlib.lines.Line2D at 0x1d38138a0b8>,\n",
       " <matplotlib.lines.Line2D at 0x1d38138a208>,\n",
       " <matplotlib.lines.Line2D at 0x1d38138a358>,\n",
       " <matplotlib.lines.Line2D at 0x1d38138a4a8>,\n",
       " <matplotlib.lines.Line2D at 0x1d38138a5f8>,\n",
       " <matplotlib.lines.Line2D at 0x1d38138a748>,\n",
       " <matplotlib.lines.Line2D at 0x1d38138a898>,\n",
       " <matplotlib.lines.Line2D at 0x1d38138a9e8>,\n",
       " <matplotlib.lines.Line2D at 0x1d38138ab38>,\n",
       " <matplotlib.lines.Line2D at 0x1d38138ac88>,\n",
       " <matplotlib.lines.Line2D at 0x1d38138add8>,\n",
       " <matplotlib.lines.Line2D at 0x1d38138af28>,\n",
       " <matplotlib.lines.Line2D at 0x1d3813900b8>,\n",
       " <matplotlib.lines.Line2D at 0x1d381390208>,\n",
       " <matplotlib.lines.Line2D at 0x1d381390358>,\n",
       " <matplotlib.lines.Line2D at 0x1d3813904a8>,\n",
       " <matplotlib.lines.Line2D at 0x1d3813905f8>,\n",
       " <matplotlib.lines.Line2D at 0x1d381390748>,\n",
       " <matplotlib.lines.Line2D at 0x1d381390898>,\n",
       " <matplotlib.lines.Line2D at 0x1d3813909e8>,\n",
       " <matplotlib.lines.Line2D at 0x1d381390b38>,\n",
       " <matplotlib.lines.Line2D at 0x1d381390c88>,\n",
       " <matplotlib.lines.Line2D at 0x1d381390dd8>,\n",
       " <matplotlib.lines.Line2D at 0x1d381390f28>,\n",
       " <matplotlib.lines.Line2D at 0x1d3813940b8>,\n",
       " <matplotlib.lines.Line2D at 0x1d381394208>,\n",
       " <matplotlib.lines.Line2D at 0x1d381394358>,\n",
       " <matplotlib.lines.Line2D at 0x1d3813944a8>,\n",
       " <matplotlib.lines.Line2D at 0x1d3813945f8>,\n",
       " <matplotlib.lines.Line2D at 0x1d381394748>,\n",
       " <matplotlib.lines.Line2D at 0x1d381394898>,\n",
       " <matplotlib.lines.Line2D at 0x1d3813949e8>,\n",
       " <matplotlib.lines.Line2D at 0x1d381394b38>,\n",
       " <matplotlib.lines.Line2D at 0x1d381394c88>,\n",
       " <matplotlib.lines.Line2D at 0x1d381394dd8>,\n",
       " <matplotlib.lines.Line2D at 0x1d381394f28>,\n",
       " <matplotlib.lines.Line2D at 0x1d38139a0b8>,\n",
       " <matplotlib.lines.Line2D at 0x1d38139a208>,\n",
       " <matplotlib.lines.Line2D at 0x1d38139a358>,\n",
       " <matplotlib.lines.Line2D at 0x1d38139a4a8>,\n",
       " <matplotlib.lines.Line2D at 0x1d38139a5f8>,\n",
       " <matplotlib.lines.Line2D at 0x1d38139a748>,\n",
       " <matplotlib.lines.Line2D at 0x1d38139a898>,\n",
       " <matplotlib.lines.Line2D at 0x1d38139a9e8>,\n",
       " <matplotlib.lines.Line2D at 0x1d38139ab38>,\n",
       " <matplotlib.lines.Line2D at 0x1d38139ac88>,\n",
       " <matplotlib.lines.Line2D at 0x1d38139add8>,\n",
       " <matplotlib.lines.Line2D at 0x1d38139af28>,\n",
       " <matplotlib.lines.Line2D at 0x1d38139f0b8>,\n",
       " <matplotlib.lines.Line2D at 0x1d38139f208>,\n",
       " <matplotlib.lines.Line2D at 0x1d38139f358>,\n",
       " <matplotlib.lines.Line2D at 0x1d38139f4a8>,\n",
       " <matplotlib.lines.Line2D at 0x1d38139f5f8>,\n",
       " <matplotlib.lines.Line2D at 0x1d38139f748>,\n",
       " <matplotlib.lines.Line2D at 0x1d38139f898>,\n",
       " <matplotlib.lines.Line2D at 0x1d38139f9e8>,\n",
       " <matplotlib.lines.Line2D at 0x1d38139fb38>,\n",
       " <matplotlib.lines.Line2D at 0x1d38139fc88>,\n",
       " <matplotlib.lines.Line2D at 0x1d38139fdd8>,\n",
       " <matplotlib.lines.Line2D at 0x1d38139ff28>,\n",
       " <matplotlib.lines.Line2D at 0x1d3813a40b8>,\n",
       " <matplotlib.lines.Line2D at 0x1d3813a4208>,\n",
       " <matplotlib.lines.Line2D at 0x1d3813a4358>,\n",
       " <matplotlib.lines.Line2D at 0x1d3813a44a8>,\n",
       " <matplotlib.lines.Line2D at 0x1d3813a45f8>,\n",
       " <matplotlib.lines.Line2D at 0x1d3813a4748>,\n",
       " <matplotlib.lines.Line2D at 0x1d3813a4898>,\n",
       " <matplotlib.lines.Line2D at 0x1d3813a49e8>,\n",
       " <matplotlib.lines.Line2D at 0x1d3813a4b38>,\n",
       " <matplotlib.lines.Line2D at 0x1d3813a4c88>,\n",
       " <matplotlib.lines.Line2D at 0x1d3813a4dd8>,\n",
       " <matplotlib.lines.Line2D at 0x1d3813a4f28>,\n",
       " <matplotlib.lines.Line2D at 0x1d3813a90b8>,\n",
       " <matplotlib.lines.Line2D at 0x1d3813a9208>]"
      ]
     },
     "execution_count": 299,
     "metadata": {},
     "output_type": "execute_result"
    },
    {
     "data": {
      "image/png": "[encoded data removed]",
      "text/plain": [
       "<Figure size 432x288 with 1 Axes>"
      ]
     },
     "metadata": {
      "needs_background": "light"
     },
     "output_type": "display_data"
    }
   ],
   "source": [
    "plt.plot(walks[:100])"
   ]
  },
  {
   "cell_type": "code",
   "execution_count": 262,
   "metadata": {},
   "outputs": [
    {
     "data": {
      "text/plain": [
       "138"
      ]
     },
     "execution_count": 262,
     "metadata": {},
     "output_type": "execute_result"
    }
   ],
   "source": [
    "walks.max()"
   ]
  },
  {
   "cell_type": "code",
   "execution_count": 263,
   "metadata": {},
   "outputs": [
    {
     "data": {
      "text/plain": [
       "-133"
      ]
     },
     "execution_count": 263,
     "metadata": {},
     "output_type": "execute_result"
    }
   ],
   "source": [
    "walks.min()"
   ]
  },
  {
   "cell_type": "code",
   "execution_count": 264,
   "metadata": {},
   "outputs": [
    {
     "data": {
      "text/plain": [
       "array([False,  True, False, ..., False,  True, False])"
      ]
     },
     "execution_count": 264,
     "metadata": {},
     "output_type": "execute_result"
    }
   ],
   "source": [
    "hits30 = (np.abs(walks) >= 30).any(1)\n",
    "hits30"
   ]
  },
  {
   "cell_type": "code",
   "execution_count": 265,
   "metadata": {},
   "outputs": [
    {
     "data": {
      "text/plain": [
       "3410"
      ]
     },
     "execution_count": 265,
     "metadata": {},
     "output_type": "execute_result"
    }
   ],
   "source": [
    "hits30.sum() # Number that hit 30 or -30"
   ]
  },
  {
   "cell_type": "code",
   "execution_count": 298,
   "metadata": {},
   "outputs": [
    {
     "data": {
      "text/plain": [
       "array([735, 409, 253, ..., 327, 453, 447], dtype=int64)"
      ]
     },
     "execution_count": 298,
     "metadata": {},
     "output_type": "execute_result"
    }
   ],
   "source": [
    "crossing_times = (np.abs(walks[hits30]) >= 30).argmax(1)#把walks中累加步數絕對值30以上的獵，利用這個布林陣列選出來，然後呼叫argmax沿第一軸\n",
    "#得到首次穿越時間\n",
    "crossing_times"
   ]
  },
  {
   "cell_type": "code",
   "execution_count": 266,
   "metadata": {},
   "outputs": [
    {
     "data": {
      "text/plain": [
       "498.8897360703812"
      ]
     },
     "execution_count": 266,
     "metadata": {},
     "output_type": "execute_result"
    }
   ],
   "source": [
    "crossing_times.mean() #若將隨機值產生函式換成其他像是normal，就可以產生指定平均值和標準差下，常態分佈的漫步值。"
   ]
  },
  {
   "cell_type": "code",
   "execution_count": 304,
   "metadata": {},
   "outputs": [],
   "source": [
    "steps = np.random.normal(loc=0, scale=0.25, size=(nwalks, nsteps))\n",
    "walks = steps.cumsum(1)"
   ]
  },
  {
   "cell_type": "code",
   "execution_count": 305,
   "metadata": {},
   "outputs": [
    {
     "data": {
      "text/plain": [
       "[<matplotlib.lines.Line2D at 0x1d38dc554e0>,\n",
       " <matplotlib.lines.Line2D at 0x1d38dc55630>,\n",
       " <matplotlib.lines.Line2D at 0x1d38dc55780>,\n",
       " <matplotlib.lines.Line2D at 0x1d38dc558d0>,\n",
       " <matplotlib.lines.Line2D at 0x1d38dc55a20>,\n",
       " <matplotlib.lines.Line2D at 0x1d38dc55b70>,\n",
       " <matplotlib.lines.Line2D at 0x1d38dc55cc0>,\n",
       " <matplotlib.lines.Line2D at 0x1d38dc55e10>,\n",
       " <matplotlib.lines.Line2D at 0x1d38dc55f60>,\n",
       " <matplotlib.lines.Line2D at 0x1d38dc5b0f0>,\n",
       " <matplotlib.lines.Line2D at 0x1d38da7fb70>,\n",
       " <matplotlib.lines.Line2D at 0x1d38dc5b2e8>,\n",
       " <matplotlib.lines.Line2D at 0x1d38dc5b438>,\n",
       " <matplotlib.lines.Line2D at 0x1d38dc5b588>,\n",
       " <matplotlib.lines.Line2D at 0x1d38dc5b6d8>,\n",
       " <matplotlib.lines.Line2D at 0x1d38dc5b828>,\n",
       " <matplotlib.lines.Line2D at 0x1d38dc5b978>,\n",
       " <matplotlib.lines.Line2D at 0x1d38dc5bac8>,\n",
       " <matplotlib.lines.Line2D at 0x1d38dc5bc18>,\n",
       " <matplotlib.lines.Line2D at 0x1d38dc5bd68>,\n",
       " <matplotlib.lines.Line2D at 0x1d38dc5beb8>,\n",
       " <matplotlib.lines.Line2D at 0x1d38dc70048>,\n",
       " <matplotlib.lines.Line2D at 0x1d38dc70198>,\n",
       " <matplotlib.lines.Line2D at 0x1d38dc702e8>,\n",
       " <matplotlib.lines.Line2D at 0x1d38dc70438>,\n",
       " <matplotlib.lines.Line2D at 0x1d38dc70588>,\n",
       " <matplotlib.lines.Line2D at 0x1d38dc706d8>,\n",
       " <matplotlib.lines.Line2D at 0x1d38dc70828>,\n",
       " <matplotlib.lines.Line2D at 0x1d38dc70978>,\n",
       " <matplotlib.lines.Line2D at 0x1d38dc70ac8>,\n",
       " <matplotlib.lines.Line2D at 0x1d38dc70c18>,\n",
       " <matplotlib.lines.Line2D at 0x1d38dc70d68>,\n",
       " <matplotlib.lines.Line2D at 0x1d38dc70eb8>,\n",
       " <matplotlib.lines.Line2D at 0x1d38dc73048>,\n",
       " <matplotlib.lines.Line2D at 0x1d38dc73198>,\n",
       " <matplotlib.lines.Line2D at 0x1d38dc732e8>,\n",
       " <matplotlib.lines.Line2D at 0x1d38dc73438>,\n",
       " <matplotlib.lines.Line2D at 0x1d38dc73588>,\n",
       " <matplotlib.lines.Line2D at 0x1d38dc736d8>,\n",
       " <matplotlib.lines.Line2D at 0x1d38dc73828>,\n",
       " <matplotlib.lines.Line2D at 0x1d38dc73978>,\n",
       " <matplotlib.lines.Line2D at 0x1d38dc73ac8>,\n",
       " <matplotlib.lines.Line2D at 0x1d38dc73c18>,\n",
       " <matplotlib.lines.Line2D at 0x1d38dc73d68>,\n",
       " <matplotlib.lines.Line2D at 0x1d38dc73eb8>,\n",
       " <matplotlib.lines.Line2D at 0x1d38dc79048>,\n",
       " <matplotlib.lines.Line2D at 0x1d38dc79198>,\n",
       " <matplotlib.lines.Line2D at 0x1d38dc792e8>,\n",
       " <matplotlib.lines.Line2D at 0x1d38dc79438>,\n",
       " <matplotlib.lines.Line2D at 0x1d38dc79588>,\n",
       " <matplotlib.lines.Line2D at 0x1d38dc796d8>,\n",
       " <matplotlib.lines.Line2D at 0x1d38dc79828>,\n",
       " <matplotlib.lines.Line2D at 0x1d38dc79978>,\n",
       " <matplotlib.lines.Line2D at 0x1d38dc79ac8>,\n",
       " <matplotlib.lines.Line2D at 0x1d38dc79c18>,\n",
       " <matplotlib.lines.Line2D at 0x1d38dc79d68>,\n",
       " <matplotlib.lines.Line2D at 0x1d38dc79eb8>,\n",
       " <matplotlib.lines.Line2D at 0x1d38dc7f048>,\n",
       " <matplotlib.lines.Line2D at 0x1d38dc7f198>,\n",
       " <matplotlib.lines.Line2D at 0x1d38dc7f2e8>,\n",
       " <matplotlib.lines.Line2D at 0x1d38dc7f438>,\n",
       " <matplotlib.lines.Line2D at 0x1d38dc7f588>,\n",
       " <matplotlib.lines.Line2D at 0x1d38dc7f6d8>,\n",
       " <matplotlib.lines.Line2D at 0x1d38dc7f828>,\n",
       " <matplotlib.lines.Line2D at 0x1d38dc7f978>,\n",
       " <matplotlib.lines.Line2D at 0x1d38dc7fac8>,\n",
       " <matplotlib.lines.Line2D at 0x1d38dc7fc18>,\n",
       " <matplotlib.lines.Line2D at 0x1d38dc7fd68>,\n",
       " <matplotlib.lines.Line2D at 0x1d38dc7feb8>,\n",
       " <matplotlib.lines.Line2D at 0x1d38dbc8048>,\n",
       " <matplotlib.lines.Line2D at 0x1d38dbc8198>,\n",
       " <matplotlib.lines.Line2D at 0x1d38dbc82e8>,\n",
       " <matplotlib.lines.Line2D at 0x1d38dbc8438>,\n",
       " <matplotlib.lines.Line2D at 0x1d38dbc8588>,\n",
       " <matplotlib.lines.Line2D at 0x1d38dbc86d8>,\n",
       " <matplotlib.lines.Line2D at 0x1d38dbc8828>,\n",
       " <matplotlib.lines.Line2D at 0x1d38dbc8978>,\n",
       " <matplotlib.lines.Line2D at 0x1d38dbc8ac8>,\n",
       " <matplotlib.lines.Line2D at 0x1d38dbc8c18>,\n",
       " <matplotlib.lines.Line2D at 0x1d38dbc8d68>,\n",
       " <matplotlib.lines.Line2D at 0x1d38dbc8eb8>,\n",
       " <matplotlib.lines.Line2D at 0x1d38dbcb048>,\n",
       " <matplotlib.lines.Line2D at 0x1d38dbcb198>,\n",
       " <matplotlib.lines.Line2D at 0x1d38dbcb2e8>,\n",
       " <matplotlib.lines.Line2D at 0x1d38dbcb438>,\n",
       " <matplotlib.lines.Line2D at 0x1d38dbcb588>,\n",
       " <matplotlib.lines.Line2D at 0x1d38dbcb6d8>,\n",
       " <matplotlib.lines.Line2D at 0x1d38dbcb828>,\n",
       " <matplotlib.lines.Line2D at 0x1d38dbcb978>,\n",
       " <matplotlib.lines.Line2D at 0x1d38dbcbac8>,\n",
       " <matplotlib.lines.Line2D at 0x1d38dbcbc18>,\n",
       " <matplotlib.lines.Line2D at 0x1d38dbcbd68>,\n",
       " <matplotlib.lines.Line2D at 0x1d38dbcbeb8>,\n",
       " <matplotlib.lines.Line2D at 0x1d38dbd1048>,\n",
       " <matplotlib.lines.Line2D at 0x1d38dbd1198>,\n",
       " <matplotlib.lines.Line2D at 0x1d38dbd12e8>,\n",
       " <matplotlib.lines.Line2D at 0x1d38dbd1438>,\n",
       " <matplotlib.lines.Line2D at 0x1d38dbd1588>,\n",
       " <matplotlib.lines.Line2D at 0x1d38dbd16d8>,\n",
       " <matplotlib.lines.Line2D at 0x1d38dbd1828>,\n",
       " <matplotlib.lines.Line2D at 0x1d38dbd1978>,\n",
       " <matplotlib.lines.Line2D at 0x1d38dbd1ac8>,\n",
       " <matplotlib.lines.Line2D at 0x1d38dbd1c18>,\n",
       " <matplotlib.lines.Line2D at 0x1d38dbd1d68>,\n",
       " <matplotlib.lines.Line2D at 0x1d38dbd1eb8>,\n",
       " <matplotlib.lines.Line2D at 0x1d38dbd6048>,\n",
       " <matplotlib.lines.Line2D at 0x1d38dbd6198>,\n",
       " <matplotlib.lines.Line2D at 0x1d38dbd62e8>,\n",
       " <matplotlib.lines.Line2D at 0x1d38dbd6438>,\n",
       " <matplotlib.lines.Line2D at 0x1d38dbd6588>,\n",
       " <matplotlib.lines.Line2D at 0x1d38dbd66d8>,\n",
       " <matplotlib.lines.Line2D at 0x1d38dbd6828>,\n",
       " <matplotlib.lines.Line2D at 0x1d38dbd6978>,\n",
       " <matplotlib.lines.Line2D at 0x1d38dbd6ac8>,\n",
       " <matplotlib.lines.Line2D at 0x1d38dbd6c18>,\n",
       " <matplotlib.lines.Line2D at 0x1d38dbd6d68>,\n",
       " <matplotlib.lines.Line2D at 0x1d38dbd6eb8>,\n",
       " <matplotlib.lines.Line2D at 0x1d38dbdc048>,\n",
       " <matplotlib.lines.Line2D at 0x1d38dbdc198>,\n",
       " <matplotlib.lines.Line2D at 0x1d38dbdc2e8>,\n",
       " <matplotlib.lines.Line2D at 0x1d38dbdc438>,\n",
       " <matplotlib.lines.Line2D at 0x1d38dbdc588>,\n",
       " <matplotlib.lines.Line2D at 0x1d38dbdc6d8>,\n",
       " <matplotlib.lines.Line2D at 0x1d38dbdc828>,\n",
       " <matplotlib.lines.Line2D at 0x1d38dbdc978>,\n",
       " <matplotlib.lines.Line2D at 0x1d38dbdcac8>,\n",
       " <matplotlib.lines.Line2D at 0x1d38dbdcc18>,\n",
       " <matplotlib.lines.Line2D at 0x1d38dbdcd68>,\n",
       " <matplotlib.lines.Line2D at 0x1d38dbdceb8>,\n",
       " <matplotlib.lines.Line2D at 0x1d38dbdf048>,\n",
       " <matplotlib.lines.Line2D at 0x1d38dbdf198>,\n",
       " <matplotlib.lines.Line2D at 0x1d38dbdf2e8>,\n",
       " <matplotlib.lines.Line2D at 0x1d38dbdf438>,\n",
       " <matplotlib.lines.Line2D at 0x1d38dbdf588>,\n",
       " <matplotlib.lines.Line2D at 0x1d38dbdf6d8>,\n",
       " <matplotlib.lines.Line2D at 0x1d38dbdf828>,\n",
       " <matplotlib.lines.Line2D at 0x1d38dbdf978>,\n",
       " <matplotlib.lines.Line2D at 0x1d38dbdfac8>,\n",
       " <matplotlib.lines.Line2D at 0x1d38dbdfc18>,\n",
       " <matplotlib.lines.Line2D at 0x1d38dbdfd68>,\n",
       " <matplotlib.lines.Line2D at 0x1d38dbdfeb8>,\n",
       " <matplotlib.lines.Line2D at 0x1d38dbe6048>,\n",
       " <matplotlib.lines.Line2D at 0x1d38dbe6198>,\n",
       " <matplotlib.lines.Line2D at 0x1d38dbe62e8>,\n",
       " <matplotlib.lines.Line2D at 0x1d38dbe6438>,\n",
       " <matplotlib.lines.Line2D at 0x1d38dbe6588>,\n",
       " <matplotlib.lines.Line2D at 0x1d38dbe66d8>,\n",
       " <matplotlib.lines.Line2D at 0x1d38dbe6828>,\n",
       " <matplotlib.lines.Line2D at 0x1d38dbe6978>,\n",
       " <matplotlib.lines.Line2D at 0x1d38dbe6ac8>,\n",
       " <matplotlib.lines.Line2D at 0x1d38dbe6c18>,\n",
       " <matplotlib.lines.Line2D at 0x1d38dbe6d68>,\n",
       " <matplotlib.lines.Line2D at 0x1d38dbe6eb8>,\n",
       " <matplotlib.lines.Line2D at 0x1d38dbec048>,\n",
       " <matplotlib.lines.Line2D at 0x1d38dbec198>,\n",
       " <matplotlib.lines.Line2D at 0x1d38dbec2e8>,\n",
       " <matplotlib.lines.Line2D at 0x1d38dbec438>,\n",
       " <matplotlib.lines.Line2D at 0x1d38dbec588>,\n",
       " <matplotlib.lines.Line2D at 0x1d38dbec6d8>,\n",
       " <matplotlib.lines.Line2D at 0x1d38dbec828>,\n",
       " <matplotlib.lines.Line2D at 0x1d38dbec978>,\n",
       " <matplotlib.lines.Line2D at 0x1d38dbecac8>,\n",
       " <matplotlib.lines.Line2D at 0x1d38dbecc18>,\n",
       " <matplotlib.lines.Line2D at 0x1d38dbecd68>,\n",
       " <matplotlib.lines.Line2D at 0x1d38dbeceb8>,\n",
       " <matplotlib.lines.Line2D at 0x1d38dbf1048>,\n",
       " <matplotlib.lines.Line2D at 0x1d38dbf1198>,\n",
       " <matplotlib.lines.Line2D at 0x1d38dbf12e8>,\n",
       " <matplotlib.lines.Line2D at 0x1d38dbf1438>,\n",
       " <matplotlib.lines.Line2D at 0x1d38dbf1588>,\n",
       " <matplotlib.lines.Line2D at 0x1d38dbf16d8>,\n",
       " <matplotlib.lines.Line2D at 0x1d38dbf1828>,\n",
       " <matplotlib.lines.Line2D at 0x1d38dbf1978>,\n",
       " <matplotlib.lines.Line2D at 0x1d38dbf1ac8>,\n",
       " <matplotlib.lines.Line2D at 0x1d38dbf1c18>,\n",
       " <matplotlib.lines.Line2D at 0x1d38dbf1d68>,\n",
       " <matplotlib.lines.Line2D at 0x1d38dbf1eb8>,\n",
       " <matplotlib.lines.Line2D at 0x1d38dbf5048>,\n",
       " <matplotlib.lines.Line2D at 0x1d38dbf5198>,\n",
       " <matplotlib.lines.Line2D at 0x1d38dbf52e8>,\n",
       " <matplotlib.lines.Line2D at 0x1d38dbf5438>,\n",
       " <matplotlib.lines.Line2D at 0x1d38dbf5588>,\n",
       " <matplotlib.lines.Line2D at 0x1d38dbf56d8>,\n",
       " <matplotlib.lines.Line2D at 0x1d38dbf5828>,\n",
       " <matplotlib.lines.Line2D at 0x1d38dbf5978>,\n",
       " <matplotlib.lines.Line2D at 0x1d38dbf5ac8>,\n",
       " <matplotlib.lines.Line2D at 0x1d38dbf5c18>,\n",
       " <matplotlib.lines.Line2D at 0x1d38dbf5d68>,\n",
       " <matplotlib.lines.Line2D at 0x1d38dbf5eb8>,\n",
       " <matplotlib.lines.Line2D at 0x1d38dbfb048>,\n",
       " <matplotlib.lines.Line2D at 0x1d38dbfb198>,\n",
       " <matplotlib.lines.Line2D at 0x1d38dbfb2e8>,\n",
       " <matplotlib.lines.Line2D at 0x1d38dbfb438>,\n",
       " <matplotlib.lines.Line2D at 0x1d38dbfb588>,\n",
       " <matplotlib.lines.Line2D at 0x1d38dbfb6d8>,\n",
       " <matplotlib.lines.Line2D at 0x1d38dbfb828>,\n",
       " <matplotlib.lines.Line2D at 0x1d38dbfb978>,\n",
       " <matplotlib.lines.Line2D at 0x1d38dbfbac8>,\n",
       " <matplotlib.lines.Line2D at 0x1d38dbfbc18>,\n",
       " <matplotlib.lines.Line2D at 0x1d38dbfbd68>,\n",
       " <matplotlib.lines.Line2D at 0x1d38dbfbeb8>,\n",
       " <matplotlib.lines.Line2D at 0x1d38dbff048>,\n",
       " <matplotlib.lines.Line2D at 0x1d38dbff198>,\n",
       " <matplotlib.lines.Line2D at 0x1d38dbff2e8>,\n",
       " <matplotlib.lines.Line2D at 0x1d38dbff438>,\n",
       " <matplotlib.lines.Line2D at 0x1d38dbff588>,\n",
       " <matplotlib.lines.Line2D at 0x1d38dbff6d8>,\n",
       " <matplotlib.lines.Line2D at 0x1d38dbff828>,\n",
       " <matplotlib.lines.Line2D at 0x1d38dbff978>,\n",
       " <matplotlib.lines.Line2D at 0x1d38dbffac8>,\n",
       " <matplotlib.lines.Line2D at 0x1d38dbffc18>,\n",
       " <matplotlib.lines.Line2D at 0x1d38dbffd68>,\n",
       " <matplotlib.lines.Line2D at 0x1d38dbffeb8>,\n",
       " <matplotlib.lines.Line2D at 0x1d38ac05048>,\n",
       " <matplotlib.lines.Line2D at 0x1d38ac05198>,\n",
       " <matplotlib.lines.Line2D at 0x1d38ac052e8>,\n",
       " <matplotlib.lines.Line2D at 0x1d38ac05438>,\n",
       " <matplotlib.lines.Line2D at 0x1d38ac05588>,\n",
       " <matplotlib.lines.Line2D at 0x1d38ac056d8>,\n",
       " <matplotlib.lines.Line2D at 0x1d38ac05828>,\n",
       " <matplotlib.lines.Line2D at 0x1d38ac05978>,\n",
       " <matplotlib.lines.Line2D at 0x1d38ac05ac8>,\n",
       " <matplotlib.lines.Line2D at 0x1d38ac05c18>,\n",
       " <matplotlib.lines.Line2D at 0x1d38ac05d68>,\n",
       " <matplotlib.lines.Line2D at 0x1d38ac05eb8>,\n",
       " <matplotlib.lines.Line2D at 0x1d38ac0a048>,\n",
       " <matplotlib.lines.Line2D at 0x1d38ac0a198>,\n",
       " <matplotlib.lines.Line2D at 0x1d38ac0a2e8>,\n",
       " <matplotlib.lines.Line2D at 0x1d38ac0a438>,\n",
       " <matplotlib.lines.Line2D at 0x1d38ac0a588>,\n",
       " <matplotlib.lines.Line2D at 0x1d38ac0a6d8>,\n",
       " <matplotlib.lines.Line2D at 0x1d38ac0a828>,\n",
       " <matplotlib.lines.Line2D at 0x1d38ac0a978>,\n",
       " <matplotlib.lines.Line2D at 0x1d38ac0aac8>,\n",
       " <matplotlib.lines.Line2D at 0x1d38ac0ac18>,\n",
       " <matplotlib.lines.Line2D at 0x1d38ac0ad68>,\n",
       " <matplotlib.lines.Line2D at 0x1d38ac0aeb8>,\n",
       " <matplotlib.lines.Line2D at 0x1d38ac0e048>,\n",
       " <matplotlib.lines.Line2D at 0x1d38ac0e198>,\n",
       " <matplotlib.lines.Line2D at 0x1d38ac0e2e8>,\n",
       " <matplotlib.lines.Line2D at 0x1d38ac0e438>,\n",
       " <matplotlib.lines.Line2D at 0x1d38ac0e588>,\n",
       " <matplotlib.lines.Line2D at 0x1d38ac0e6d8>,\n",
       " <matplotlib.lines.Line2D at 0x1d38ac0e828>,\n",
       " <matplotlib.lines.Line2D at 0x1d38ac0e978>,\n",
       " <matplotlib.lines.Line2D at 0x1d38ac0eac8>,\n",
       " <matplotlib.lines.Line2D at 0x1d38ac0ec18>,\n",
       " <matplotlib.lines.Line2D at 0x1d38ac0ed68>,\n",
       " <matplotlib.lines.Line2D at 0x1d38ac0eeb8>,\n",
       " <matplotlib.lines.Line2D at 0x1d38ac14048>,\n",
       " <matplotlib.lines.Line2D at 0x1d38ac14198>,\n",
       " <matplotlib.lines.Line2D at 0x1d38ac142e8>,\n",
       " <matplotlib.lines.Line2D at 0x1d38ac14438>,\n",
       " <matplotlib.lines.Line2D at 0x1d38ac14588>,\n",
       " <matplotlib.lines.Line2D at 0x1d38ac146d8>,\n",
       " <matplotlib.lines.Line2D at 0x1d38ac14828>,\n",
       " <matplotlib.lines.Line2D at 0x1d38ac14978>,\n",
       " <matplotlib.lines.Line2D at 0x1d38ac14ac8>,\n",
       " <matplotlib.lines.Line2D at 0x1d38ac14c18>,\n",
       " <matplotlib.lines.Line2D at 0x1d38ac14d68>,\n",
       " <matplotlib.lines.Line2D at 0x1d38ac14eb8>,\n",
       " <matplotlib.lines.Line2D at 0x1d38ac19048>,\n",
       " <matplotlib.lines.Line2D at 0x1d38ac19198>,\n",
       " <matplotlib.lines.Line2D at 0x1d38ac192e8>,\n",
       " <matplotlib.lines.Line2D at 0x1d38ac19438>,\n",
       " <matplotlib.lines.Line2D at 0x1d38ac19588>,\n",
       " <matplotlib.lines.Line2D at 0x1d38ac196d8>,\n",
       " <matplotlib.lines.Line2D at 0x1d38ac19828>,\n",
       " <matplotlib.lines.Line2D at 0x1d38ac19978>,\n",
       " <matplotlib.lines.Line2D at 0x1d38ac19ac8>,\n",
       " <matplotlib.lines.Line2D at 0x1d38ac19c18>,\n",
       " <matplotlib.lines.Line2D at 0x1d38ac19d68>,\n",
       " <matplotlib.lines.Line2D at 0x1d38ac19eb8>,\n",
       " <matplotlib.lines.Line2D at 0x1d38ac1f048>,\n",
       " <matplotlib.lines.Line2D at 0x1d38ac1f198>,\n",
       " <matplotlib.lines.Line2D at 0x1d38ac1f2e8>,\n",
       " <matplotlib.lines.Line2D at 0x1d38ac1f438>,\n",
       " <matplotlib.lines.Line2D at 0x1d38ac1f588>,\n",
       " <matplotlib.lines.Line2D at 0x1d38ac1f6d8>,\n",
       " <matplotlib.lines.Line2D at 0x1d38ac1f828>,\n",
       " <matplotlib.lines.Line2D at 0x1d38ac1f978>,\n",
       " <matplotlib.lines.Line2D at 0x1d38ac1fac8>,\n",
       " <matplotlib.lines.Line2D at 0x1d38ac1fc18>,\n",
       " <matplotlib.lines.Line2D at 0x1d38ac1fd68>,\n",
       " <matplotlib.lines.Line2D at 0x1d38ac1feb8>,\n",
       " <matplotlib.lines.Line2D at 0x1d38ac23048>,\n",
       " <matplotlib.lines.Line2D at 0x1d38ac23198>,\n",
       " <matplotlib.lines.Line2D at 0x1d38ac232e8>,\n",
       " <matplotlib.lines.Line2D at 0x1d38ac23438>,\n",
       " <matplotlib.lines.Line2D at 0x1d38ac23588>,\n",
       " <matplotlib.lines.Line2D at 0x1d38ac236d8>,\n",
       " <matplotlib.lines.Line2D at 0x1d38ac23828>,\n",
       " <matplotlib.lines.Line2D at 0x1d38ac23978>,\n",
       " <matplotlib.lines.Line2D at 0x1d38ac23ac8>,\n",
       " <matplotlib.lines.Line2D at 0x1d38ac23c18>,\n",
       " <matplotlib.lines.Line2D at 0x1d38ac23d68>,\n",
       " <matplotlib.lines.Line2D at 0x1d38ac23eb8>,\n",
       " <matplotlib.lines.Line2D at 0x1d38ac28048>,\n",
       " <matplotlib.lines.Line2D at 0x1d38ac28198>,\n",
       " <matplotlib.lines.Line2D at 0x1d38ac282e8>,\n",
       " <matplotlib.lines.Line2D at 0x1d38ac28438>,\n",
       " <matplotlib.lines.Line2D at 0x1d38ac28588>,\n",
       " <matplotlib.lines.Line2D at 0x1d38ac286d8>,\n",
       " <matplotlib.lines.Line2D at 0x1d38ac28828>,\n",
       " <matplotlib.lines.Line2D at 0x1d38ac28978>,\n",
       " <matplotlib.lines.Line2D at 0x1d38ac28ac8>,\n",
       " <matplotlib.lines.Line2D at 0x1d38ac28c18>,\n",
       " <matplotlib.lines.Line2D at 0x1d38ac28d68>,\n",
       " <matplotlib.lines.Line2D at 0x1d38ac28eb8>,\n",
       " <matplotlib.lines.Line2D at 0x1d38ac2e048>,\n",
       " <matplotlib.lines.Line2D at 0x1d38ac2e198>,\n",
       " <matplotlib.lines.Line2D at 0x1d38ac2e2e8>,\n",
       " <matplotlib.lines.Line2D at 0x1d38ac2e438>,\n",
       " <matplotlib.lines.Line2D at 0x1d38ac2e588>,\n",
       " <matplotlib.lines.Line2D at 0x1d38ac2e6d8>,\n",
       " <matplotlib.lines.Line2D at 0x1d38ac2e828>,\n",
       " <matplotlib.lines.Line2D at 0x1d38ac2e978>,\n",
       " <matplotlib.lines.Line2D at 0x1d38ac2eac8>,\n",
       " <matplotlib.lines.Line2D at 0x1d38ac2ec18>,\n",
       " <matplotlib.lines.Line2D at 0x1d38ac2ed68>,\n",
       " <matplotlib.lines.Line2D at 0x1d38ac2eeb8>,\n",
       " <matplotlib.lines.Line2D at 0x1d38ac33048>,\n",
       " <matplotlib.lines.Line2D at 0x1d38ac33198>,\n",
       " <matplotlib.lines.Line2D at 0x1d38ac332e8>,\n",
       " <matplotlib.lines.Line2D at 0x1d38ac33438>,\n",
       " <matplotlib.lines.Line2D at 0x1d38ac33588>,\n",
       " <matplotlib.lines.Line2D at 0x1d38ac336d8>,\n",
       " <matplotlib.lines.Line2D at 0x1d38ac33828>,\n",
       " <matplotlib.lines.Line2D at 0x1d38ac33978>,\n",
       " <matplotlib.lines.Line2D at 0x1d38ac33ac8>,\n",
       " <matplotlib.lines.Line2D at 0x1d38ac33c18>,\n",
       " <matplotlib.lines.Line2D at 0x1d38ac33d68>,\n",
       " <matplotlib.lines.Line2D at 0x1d38ac33eb8>,\n",
       " <matplotlib.lines.Line2D at 0x1d38ac37048>,\n",
       " <matplotlib.lines.Line2D at 0x1d38ac37198>,\n",
       " <matplotlib.lines.Line2D at 0x1d38ac372e8>,\n",
       " <matplotlib.lines.Line2D at 0x1d38ac37438>,\n",
       " <matplotlib.lines.Line2D at 0x1d38ac37588>,\n",
       " <matplotlib.lines.Line2D at 0x1d38ac376d8>,\n",
       " <matplotlib.lines.Line2D at 0x1d38ac37828>,\n",
       " <matplotlib.lines.Line2D at 0x1d38ac37978>,\n",
       " <matplotlib.lines.Line2D at 0x1d38ac37ac8>,\n",
       " <matplotlib.lines.Line2D at 0x1d38ac37c18>,\n",
       " <matplotlib.lines.Line2D at 0x1d38ac37d68>,\n",
       " <matplotlib.lines.Line2D at 0x1d38ac37eb8>,\n",
       " <matplotlib.lines.Line2D at 0x1d38ac3c048>,\n",
       " <matplotlib.lines.Line2D at 0x1d38ac3c198>,\n",
       " <matplotlib.lines.Line2D at 0x1d38ac3c2e8>,\n",
       " <matplotlib.lines.Line2D at 0x1d38ac3c438>,\n",
       " <matplotlib.lines.Line2D at 0x1d38ac3c588>,\n",
       " <matplotlib.lines.Line2D at 0x1d38ac3c6d8>,\n",
       " <matplotlib.lines.Line2D at 0x1d38ac3c828>,\n",
       " <matplotlib.lines.Line2D at 0x1d38ac3c978>,\n",
       " <matplotlib.lines.Line2D at 0x1d38ac3cac8>,\n",
       " <matplotlib.lines.Line2D at 0x1d38ac3cc18>,\n",
       " <matplotlib.lines.Line2D at 0x1d38ac3cd68>,\n",
       " <matplotlib.lines.Line2D at 0x1d38ac3ceb8>,\n",
       " <matplotlib.lines.Line2D at 0x1d38ac43048>,\n",
       " <matplotlib.lines.Line2D at 0x1d38ac43198>,\n",
       " <matplotlib.lines.Line2D at 0x1d38ac432e8>,\n",
       " <matplotlib.lines.Line2D at 0x1d38ac43438>,\n",
       " <matplotlib.lines.Line2D at 0x1d38ac43588>,\n",
       " <matplotlib.lines.Line2D at 0x1d38ac436d8>,\n",
       " <matplotlib.lines.Line2D at 0x1d38ac43828>,\n",
       " <matplotlib.lines.Line2D at 0x1d38ac43978>,\n",
       " <matplotlib.lines.Line2D at 0x1d38ac43ac8>,\n",
       " <matplotlib.lines.Line2D at 0x1d38ac43c18>,\n",
       " <matplotlib.lines.Line2D at 0x1d38ac43d68>,\n",
       " <matplotlib.lines.Line2D at 0x1d38ac43eb8>,\n",
       " <matplotlib.lines.Line2D at 0x1d38ac48048>,\n",
       " <matplotlib.lines.Line2D at 0x1d38ac48198>,\n",
       " <matplotlib.lines.Line2D at 0x1d38ac482e8>,\n",
       " <matplotlib.lines.Line2D at 0x1d38ac48438>,\n",
       " <matplotlib.lines.Line2D at 0x1d38ac48588>,\n",
       " <matplotlib.lines.Line2D at 0x1d38ac486d8>,\n",
       " <matplotlib.lines.Line2D at 0x1d38ac48828>,\n",
       " <matplotlib.lines.Line2D at 0x1d38ac48978>,\n",
       " <matplotlib.lines.Line2D at 0x1d38ac48ac8>,\n",
       " <matplotlib.lines.Line2D at 0x1d38ac48c18>,\n",
       " <matplotlib.lines.Line2D at 0x1d38ac48d68>,\n",
       " <matplotlib.lines.Line2D at 0x1d38ac48eb8>,\n",
       " <matplotlib.lines.Line2D at 0x1d38ac4c048>,\n",
       " <matplotlib.lines.Line2D at 0x1d38ac4c198>,\n",
       " <matplotlib.lines.Line2D at 0x1d38ac4c2e8>,\n",
       " <matplotlib.lines.Line2D at 0x1d38ac4c438>,\n",
       " <matplotlib.lines.Line2D at 0x1d38ac4c588>,\n",
       " <matplotlib.lines.Line2D at 0x1d38ac4c6d8>,\n",
       " <matplotlib.lines.Line2D at 0x1d38ac4c828>,\n",
       " <matplotlib.lines.Line2D at 0x1d38ac4c978>,\n",
       " <matplotlib.lines.Line2D at 0x1d38ac4cac8>,\n",
       " <matplotlib.lines.Line2D at 0x1d38ac4cc18>,\n",
       " <matplotlib.lines.Line2D at 0x1d38ac4cd68>,\n",
       " <matplotlib.lines.Line2D at 0x1d38ac4ceb8>,\n",
       " <matplotlib.lines.Line2D at 0x1d38ac52048>,\n",
       " <matplotlib.lines.Line2D at 0x1d38ac52198>,\n",
       " <matplotlib.lines.Line2D at 0x1d38ac522e8>,\n",
       " <matplotlib.lines.Line2D at 0x1d38ac52438>,\n",
       " <matplotlib.lines.Line2D at 0x1d38ac52588>,\n",
       " <matplotlib.lines.Line2D at 0x1d38ac526d8>,\n",
       " <matplotlib.lines.Line2D at 0x1d38ac52828>,\n",
       " <matplotlib.lines.Line2D at 0x1d38ac52978>,\n",
       " <matplotlib.lines.Line2D at 0x1d38ac52ac8>,\n",
       " <matplotlib.lines.Line2D at 0x1d38ac52c18>,\n",
       " <matplotlib.lines.Line2D at 0x1d38ac52d68>,\n",
       " <matplotlib.lines.Line2D at 0x1d38ac52eb8>,\n",
       " <matplotlib.lines.Line2D at 0x1d38ac57048>,\n",
       " <matplotlib.lines.Line2D at 0x1d38ac57198>,\n",
       " <matplotlib.lines.Line2D at 0x1d38ac572e8>,\n",
       " <matplotlib.lines.Line2D at 0x1d38ac57438>,\n",
       " <matplotlib.lines.Line2D at 0x1d38ac57588>,\n",
       " <matplotlib.lines.Line2D at 0x1d38ac576d8>,\n",
       " <matplotlib.lines.Line2D at 0x1d38ac57828>,\n",
       " <matplotlib.lines.Line2D at 0x1d38ac57978>,\n",
       " <matplotlib.lines.Line2D at 0x1d38ac57ac8>,\n",
       " <matplotlib.lines.Line2D at 0x1d38ac57c18>,\n",
       " <matplotlib.lines.Line2D at 0x1d38ac57d68>,\n",
       " <matplotlib.lines.Line2D at 0x1d38ac57eb8>,\n",
       " <matplotlib.lines.Line2D at 0x1d38ac5c048>,\n",
       " <matplotlib.lines.Line2D at 0x1d38ac5c198>,\n",
       " <matplotlib.lines.Line2D at 0x1d38ac5c2e8>,\n",
       " <matplotlib.lines.Line2D at 0x1d38ac5c438>,\n",
       " <matplotlib.lines.Line2D at 0x1d38ac5c588>,\n",
       " <matplotlib.lines.Line2D at 0x1d38ac5c6d8>,\n",
       " <matplotlib.lines.Line2D at 0x1d38ac5c828>,\n",
       " <matplotlib.lines.Line2D at 0x1d38ac5c978>,\n",
       " <matplotlib.lines.Line2D at 0x1d38ac5cac8>,\n",
       " <matplotlib.lines.Line2D at 0x1d38ac5cc18>,\n",
       " <matplotlib.lines.Line2D at 0x1d38ac5cd68>,\n",
       " <matplotlib.lines.Line2D at 0x1d38ac5ceb8>,\n",
       " <matplotlib.lines.Line2D at 0x1d38ac61048>,\n",
       " <matplotlib.lines.Line2D at 0x1d38ac61198>,\n",
       " <matplotlib.lines.Line2D at 0x1d38ac612e8>,\n",
       " <matplotlib.lines.Line2D at 0x1d38ac61438>,\n",
       " <matplotlib.lines.Line2D at 0x1d38ac61588>,\n",
       " <matplotlib.lines.Line2D at 0x1d38ac616d8>,\n",
       " <matplotlib.lines.Line2D at 0x1d38ac61828>,\n",
       " <matplotlib.lines.Line2D at 0x1d38ac61978>,\n",
       " <matplotlib.lines.Line2D at 0x1d38ac61ac8>,\n",
       " <matplotlib.lines.Line2D at 0x1d38ac61c18>,\n",
       " <matplotlib.lines.Line2D at 0x1d38ac61d68>,\n",
       " <matplotlib.lines.Line2D at 0x1d38ac61eb8>,\n",
       " <matplotlib.lines.Line2D at 0x1d38ac66048>,\n",
       " <matplotlib.lines.Line2D at 0x1d38ac66198>,\n",
       " <matplotlib.lines.Line2D at 0x1d38ac662e8>,\n",
       " <matplotlib.lines.Line2D at 0x1d38ac66438>,\n",
       " <matplotlib.lines.Line2D at 0x1d38ac66588>,\n",
       " <matplotlib.lines.Line2D at 0x1d38ac666d8>,\n",
       " <matplotlib.lines.Line2D at 0x1d38ac66828>,\n",
       " <matplotlib.lines.Line2D at 0x1d38ac66978>,\n",
       " <matplotlib.lines.Line2D at 0x1d38ac66ac8>,\n",
       " <matplotlib.lines.Line2D at 0x1d38ac66c18>,\n",
       " <matplotlib.lines.Line2D at 0x1d38ac66d68>,\n",
       " <matplotlib.lines.Line2D at 0x1d38ac66eb8>,\n",
       " <matplotlib.lines.Line2D at 0x1d38ac6c048>,\n",
       " <matplotlib.lines.Line2D at 0x1d38ac6c198>,\n",
       " <matplotlib.lines.Line2D at 0x1d38ac6c2e8>,\n",
       " <matplotlib.lines.Line2D at 0x1d38ac6c438>,\n",
       " <matplotlib.lines.Line2D at 0x1d38ac6c588>,\n",
       " <matplotlib.lines.Line2D at 0x1d38ac6c6d8>,\n",
       " <matplotlib.lines.Line2D at 0x1d38ac6c828>,\n",
       " <matplotlib.lines.Line2D at 0x1d38ac6c978>,\n",
       " <matplotlib.lines.Line2D at 0x1d38ac6cac8>,\n",
       " <matplotlib.lines.Line2D at 0x1d38ac6cc18>,\n",
       " <matplotlib.lines.Line2D at 0x1d38ac6cd68>,\n",
       " <matplotlib.lines.Line2D at 0x1d38ac6ceb8>,\n",
       " <matplotlib.lines.Line2D at 0x1d38ac71048>,\n",
       " <matplotlib.lines.Line2D at 0x1d38ac71198>,\n",
       " <matplotlib.lines.Line2D at 0x1d38ac712e8>,\n",
       " <matplotlib.lines.Line2D at 0x1d38ac71438>,\n",
       " <matplotlib.lines.Line2D at 0x1d38ac71588>,\n",
       " <matplotlib.lines.Line2D at 0x1d38ac716d8>,\n",
       " <matplotlib.lines.Line2D at 0x1d38ac71828>,\n",
       " <matplotlib.lines.Line2D at 0x1d38ac71978>,\n",
       " <matplotlib.lines.Line2D at 0x1d38ac71ac8>,\n",
       " <matplotlib.lines.Line2D at 0x1d38ac71c18>,\n",
       " <matplotlib.lines.Line2D at 0x1d38ac71d68>,\n",
       " <matplotlib.lines.Line2D at 0x1d38ac71eb8>,\n",
       " <matplotlib.lines.Line2D at 0x1d38ac77048>,\n",
       " <matplotlib.lines.Line2D at 0x1d38ac77198>,\n",
       " <matplotlib.lines.Line2D at 0x1d38ac772e8>,\n",
       " <matplotlib.lines.Line2D at 0x1d38ac77438>,\n",
       " <matplotlib.lines.Line2D at 0x1d38ac77588>,\n",
       " <matplotlib.lines.Line2D at 0x1d38ac776d8>,\n",
       " <matplotlib.lines.Line2D at 0x1d38ac77828>,\n",
       " <matplotlib.lines.Line2D at 0x1d38ac77978>,\n",
       " <matplotlib.lines.Line2D at 0x1d38ac77ac8>,\n",
       " <matplotlib.lines.Line2D at 0x1d38ac77c18>,\n",
       " <matplotlib.lines.Line2D at 0x1d38ac77d68>,\n",
       " <matplotlib.lines.Line2D at 0x1d38ac77eb8>,\n",
       " <matplotlib.lines.Line2D at 0x1d38ac7b048>,\n",
       " <matplotlib.lines.Line2D at 0x1d38ac7b198>,\n",
       " <matplotlib.lines.Line2D at 0x1d38ac7b2e8>,\n",
       " <matplotlib.lines.Line2D at 0x1d38ac7b438>,\n",
       " <matplotlib.lines.Line2D at 0x1d38ac7b588>,\n",
       " <matplotlib.lines.Line2D at 0x1d38ac7b6d8>,\n",
       " <matplotlib.lines.Line2D at 0x1d38ac7b828>,\n",
       " <matplotlib.lines.Line2D at 0x1d38ac7b978>,\n",
       " <matplotlib.lines.Line2D at 0x1d38ac7bac8>,\n",
       " <matplotlib.lines.Line2D at 0x1d38ac7bc18>,\n",
       " <matplotlib.lines.Line2D at 0x1d38ac7bd68>,\n",
       " <matplotlib.lines.Line2D at 0x1d38ac7beb8>,\n",
       " <matplotlib.lines.Line2D at 0x1d38ac80048>,\n",
       " <matplotlib.lines.Line2D at 0x1d38ac80198>,\n",
       " <matplotlib.lines.Line2D at 0x1d38ac802e8>,\n",
       " <matplotlib.lines.Line2D at 0x1d38ac80438>,\n",
       " <matplotlib.lines.Line2D at 0x1d38ac80588>,\n",
       " <matplotlib.lines.Line2D at 0x1d38ac806d8>,\n",
       " <matplotlib.lines.Line2D at 0x1d38ac80828>,\n",
       " <matplotlib.lines.Line2D at 0x1d38ac80978>,\n",
       " <matplotlib.lines.Line2D at 0x1d38ac80ac8>,\n",
       " <matplotlib.lines.Line2D at 0x1d38ac80c18>,\n",
       " <matplotlib.lines.Line2D at 0x1d38ac80d68>,\n",
       " <matplotlib.lines.Line2D at 0x1d38ac80eb8>,\n",
       " <matplotlib.lines.Line2D at 0x1d38ac85048>,\n",
       " <matplotlib.lines.Line2D at 0x1d38ac85198>,\n",
       " <matplotlib.lines.Line2D at 0x1d38ac852e8>,\n",
       " <matplotlib.lines.Line2D at 0x1d38ac85438>,\n",
       " <matplotlib.lines.Line2D at 0x1d38ac85588>,\n",
       " <matplotlib.lines.Line2D at 0x1d38ac856d8>,\n",
       " <matplotlib.lines.Line2D at 0x1d38ac85828>,\n",
       " <matplotlib.lines.Line2D at 0x1d38ac85978>,\n",
       " <matplotlib.lines.Line2D at 0x1d38ac85ac8>,\n",
       " <matplotlib.lines.Line2D at 0x1d38ac85c18>,\n",
       " <matplotlib.lines.Line2D at 0x1d38ac85d68>,\n",
       " <matplotlib.lines.Line2D at 0x1d38ac85eb8>,\n",
       " <matplotlib.lines.Line2D at 0x1d38ac8b048>,\n",
       " <matplotlib.lines.Line2D at 0x1d38ac8b198>,\n",
       " <matplotlib.lines.Line2D at 0x1d38ac8b2e8>,\n",
       " <matplotlib.lines.Line2D at 0x1d38ac8b438>,\n",
       " <matplotlib.lines.Line2D at 0x1d38ac8b588>,\n",
       " <matplotlib.lines.Line2D at 0x1d38ac8b6d8>,\n",
       " <matplotlib.lines.Line2D at 0x1d38ac8b828>,\n",
       " <matplotlib.lines.Line2D at 0x1d38ac8b978>,\n",
       " <matplotlib.lines.Line2D at 0x1d38ac8bac8>,\n",
       " <matplotlib.lines.Line2D at 0x1d38ac8bc18>,\n",
       " <matplotlib.lines.Line2D at 0x1d38ac8bd68>,\n",
       " <matplotlib.lines.Line2D at 0x1d38ac8beb8>,\n",
       " <matplotlib.lines.Line2D at 0x1d38ac8e048>,\n",
       " <matplotlib.lines.Line2D at 0x1d38ac8e198>,\n",
       " <matplotlib.lines.Line2D at 0x1d38ac8e2e8>,\n",
       " <matplotlib.lines.Line2D at 0x1d38ac8e438>,\n",
       " <matplotlib.lines.Line2D at 0x1d38ac8e588>,\n",
       " <matplotlib.lines.Line2D at 0x1d38ac8e6d8>,\n",
       " <matplotlib.lines.Line2D at 0x1d38ac8e828>,\n",
       " <matplotlib.lines.Line2D at 0x1d38ac8e978>,\n",
       " <matplotlib.lines.Line2D at 0x1d38ac8eac8>,\n",
       " <matplotlib.lines.Line2D at 0x1d38ac8ec18>,\n",
       " <matplotlib.lines.Line2D at 0x1d38ac8ed68>,\n",
       " <matplotlib.lines.Line2D at 0x1d38ac8eeb8>,\n",
       " <matplotlib.lines.Line2D at 0x1d38ac94048>,\n",
       " <matplotlib.lines.Line2D at 0x1d38ac94198>,\n",
       " <matplotlib.lines.Line2D at 0x1d38ac942e8>,\n",
       " <matplotlib.lines.Line2D at 0x1d38ac94438>,\n",
       " <matplotlib.lines.Line2D at 0x1d38ac94588>,\n",
       " <matplotlib.lines.Line2D at 0x1d38ac946d8>,\n",
       " <matplotlib.lines.Line2D at 0x1d38ac94828>,\n",
       " <matplotlib.lines.Line2D at 0x1d38ac94978>,\n",
       " <matplotlib.lines.Line2D at 0x1d38ac94ac8>,\n",
       " <matplotlib.lines.Line2D at 0x1d38ac94c18>,\n",
       " <matplotlib.lines.Line2D at 0x1d38ac94d68>,\n",
       " <matplotlib.lines.Line2D at 0x1d38ac94eb8>,\n",
       " <matplotlib.lines.Line2D at 0x1d38ac9a048>,\n",
       " <matplotlib.lines.Line2D at 0x1d38ac9a198>,\n",
       " <matplotlib.lines.Line2D at 0x1d38ac9a2e8>,\n",
       " <matplotlib.lines.Line2D at 0x1d38ac9a438>,\n",
       " <matplotlib.lines.Line2D at 0x1d38ac9a588>,\n",
       " <matplotlib.lines.Line2D at 0x1d38ac9a6d8>,\n",
       " <matplotlib.lines.Line2D at 0x1d38ac9a828>,\n",
       " <matplotlib.lines.Line2D at 0x1d38ac9a978>,\n",
       " <matplotlib.lines.Line2D at 0x1d38ac9aac8>,\n",
       " <matplotlib.lines.Line2D at 0x1d38ac9ac18>,\n",
       " <matplotlib.lines.Line2D at 0x1d38ac9ad68>,\n",
       " <matplotlib.lines.Line2D at 0x1d38ac9aeb8>,\n",
       " <matplotlib.lines.Line2D at 0x1d38aca0048>,\n",
       " <matplotlib.lines.Line2D at 0x1d38aca0198>,\n",
       " <matplotlib.lines.Line2D at 0x1d38aca02e8>,\n",
       " <matplotlib.lines.Line2D at 0x1d38aca0438>,\n",
       " <matplotlib.lines.Line2D at 0x1d38aca0588>,\n",
       " <matplotlib.lines.Line2D at 0x1d38aca06d8>,\n",
       " <matplotlib.lines.Line2D at 0x1d38aca0828>,\n",
       " <matplotlib.lines.Line2D at 0x1d38aca0978>,\n",
       " <matplotlib.lines.Line2D at 0x1d38aca0ac8>,\n",
       " <matplotlib.lines.Line2D at 0x1d38aca0c18>,\n",
       " <matplotlib.lines.Line2D at 0x1d38aca0d68>,\n",
       " <matplotlib.lines.Line2D at 0x1d38aca0eb8>,\n",
       " <matplotlib.lines.Line2D at 0x1d38aca3048>,\n",
       " <matplotlib.lines.Line2D at 0x1d38aca3198>,\n",
       " <matplotlib.lines.Line2D at 0x1d38aca32e8>,\n",
       " <matplotlib.lines.Line2D at 0x1d38aca3438>,\n",
       " <matplotlib.lines.Line2D at 0x1d38aca3588>,\n",
       " <matplotlib.lines.Line2D at 0x1d38aca36d8>,\n",
       " <matplotlib.lines.Line2D at 0x1d38aca3828>,\n",
       " <matplotlib.lines.Line2D at 0x1d38aca3978>,\n",
       " <matplotlib.lines.Line2D at 0x1d38aca3ac8>,\n",
       " <matplotlib.lines.Line2D at 0x1d38aca3c18>,\n",
       " <matplotlib.lines.Line2D at 0x1d38aca3d68>,\n",
       " <matplotlib.lines.Line2D at 0x1d38aca3eb8>,\n",
       " <matplotlib.lines.Line2D at 0x1d38aca9048>,\n",
       " <matplotlib.lines.Line2D at 0x1d38aca9198>,\n",
       " <matplotlib.lines.Line2D at 0x1d38aca92e8>,\n",
       " <matplotlib.lines.Line2D at 0x1d38aca9438>,\n",
       " <matplotlib.lines.Line2D at 0x1d38aca9588>,\n",
       " <matplotlib.lines.Line2D at 0x1d38aca96d8>,\n",
       " <matplotlib.lines.Line2D at 0x1d38aca9828>,\n",
       " <matplotlib.lines.Line2D at 0x1d38aca9978>,\n",
       " <matplotlib.lines.Line2D at 0x1d38aca9ac8>,\n",
       " <matplotlib.lines.Line2D at 0x1d38aca9c18>,\n",
       " <matplotlib.lines.Line2D at 0x1d38aca9d68>,\n",
       " <matplotlib.lines.Line2D at 0x1d38aca9eb8>,\n",
       " <matplotlib.lines.Line2D at 0x1d38acae048>,\n",
       " <matplotlib.lines.Line2D at 0x1d38acae198>,\n",
       " <matplotlib.lines.Line2D at 0x1d38acae2e8>,\n",
       " <matplotlib.lines.Line2D at 0x1d38acae438>,\n",
       " <matplotlib.lines.Line2D at 0x1d38acae588>,\n",
       " <matplotlib.lines.Line2D at 0x1d38acae6d8>,\n",
       " <matplotlib.lines.Line2D at 0x1d38acae828>,\n",
       " <matplotlib.lines.Line2D at 0x1d38acae978>,\n",
       " <matplotlib.lines.Line2D at 0x1d38acaeac8>,\n",
       " <matplotlib.lines.Line2D at 0x1d38acaec18>,\n",
       " <matplotlib.lines.Line2D at 0x1d38acaed68>,\n",
       " <matplotlib.lines.Line2D at 0x1d38acaeeb8>,\n",
       " <matplotlib.lines.Line2D at 0x1d38acb4048>,\n",
       " <matplotlib.lines.Line2D at 0x1d38acb4198>,\n",
       " <matplotlib.lines.Line2D at 0x1d38acb42e8>,\n",
       " <matplotlib.lines.Line2D at 0x1d38acb4438>,\n",
       " <matplotlib.lines.Line2D at 0x1d38acb4588>,\n",
       " <matplotlib.lines.Line2D at 0x1d38acb46d8>,\n",
       " <matplotlib.lines.Line2D at 0x1d38acb4828>,\n",
       " <matplotlib.lines.Line2D at 0x1d38acb4978>,\n",
       " <matplotlib.lines.Line2D at 0x1d38acb4ac8>,\n",
       " <matplotlib.lines.Line2D at 0x1d38acb4c18>,\n",
       " <matplotlib.lines.Line2D at 0x1d38acb4d68>,\n",
       " <matplotlib.lines.Line2D at 0x1d38acb4eb8>,\n",
       " <matplotlib.lines.Line2D at 0x1d38acb7048>,\n",
       " <matplotlib.lines.Line2D at 0x1d38acb7198>,\n",
       " <matplotlib.lines.Line2D at 0x1d38acb72e8>,\n",
       " <matplotlib.lines.Line2D at 0x1d38acb7438>,\n",
       " <matplotlib.lines.Line2D at 0x1d38acb7588>,\n",
       " <matplotlib.lines.Line2D at 0x1d38acb76d8>,\n",
       " <matplotlib.lines.Line2D at 0x1d38acb7828>,\n",
       " <matplotlib.lines.Line2D at 0x1d38acb7978>,\n",
       " <matplotlib.lines.Line2D at 0x1d38acb7ac8>,\n",
       " <matplotlib.lines.Line2D at 0x1d38acb7c18>,\n",
       " <matplotlib.lines.Line2D at 0x1d38acb7d68>,\n",
       " <matplotlib.lines.Line2D at 0x1d38acb7eb8>,\n",
       " <matplotlib.lines.Line2D at 0x1d38acbe048>,\n",
       " <matplotlib.lines.Line2D at 0x1d38acbe198>,\n",
       " <matplotlib.lines.Line2D at 0x1d38acbe2e8>,\n",
       " <matplotlib.lines.Line2D at 0x1d38acbe438>,\n",
       " <matplotlib.lines.Line2D at 0x1d38acbe588>,\n",
       " <matplotlib.lines.Line2D at 0x1d38acbe6d8>,\n",
       " <matplotlib.lines.Line2D at 0x1d38acbe828>,\n",
       " <matplotlib.lines.Line2D at 0x1d38acbe978>,\n",
       " <matplotlib.lines.Line2D at 0x1d38acbeac8>,\n",
       " <matplotlib.lines.Line2D at 0x1d38acbec18>,\n",
       " <matplotlib.lines.Line2D at 0x1d38acbed68>,\n",
       " <matplotlib.lines.Line2D at 0x1d38acbeeb8>,\n",
       " <matplotlib.lines.Line2D at 0x1d38acc3048>,\n",
       " <matplotlib.lines.Line2D at 0x1d38acc3198>,\n",
       " <matplotlib.lines.Line2D at 0x1d38acc32e8>,\n",
       " <matplotlib.lines.Line2D at 0x1d38acc3438>,\n",
       " <matplotlib.lines.Line2D at 0x1d38acc3588>,\n",
       " <matplotlib.lines.Line2D at 0x1d38acc36d8>,\n",
       " <matplotlib.lines.Line2D at 0x1d38acc3828>,\n",
       " <matplotlib.lines.Line2D at 0x1d38acc3978>,\n",
       " <matplotlib.lines.Line2D at 0x1d38acc3ac8>,\n",
       " <matplotlib.lines.Line2D at 0x1d38acc3c18>,\n",
       " <matplotlib.lines.Line2D at 0x1d38acc3d68>,\n",
       " <matplotlib.lines.Line2D at 0x1d38acc3eb8>,\n",
       " <matplotlib.lines.Line2D at 0x1d38acc9048>,\n",
       " <matplotlib.lines.Line2D at 0x1d38acc9198>,\n",
       " <matplotlib.lines.Line2D at 0x1d38acc92e8>,\n",
       " <matplotlib.lines.Line2D at 0x1d38acc9438>,\n",
       " <matplotlib.lines.Line2D at 0x1d38acc9588>,\n",
       " <matplotlib.lines.Line2D at 0x1d38acc96d8>,\n",
       " <matplotlib.lines.Line2D at 0x1d38acc9828>,\n",
       " <matplotlib.lines.Line2D at 0x1d38acc9978>,\n",
       " <matplotlib.lines.Line2D at 0x1d38acc9ac8>,\n",
       " <matplotlib.lines.Line2D at 0x1d38acc9c18>,\n",
       " <matplotlib.lines.Line2D at 0x1d38acc9d68>,\n",
       " <matplotlib.lines.Line2D at 0x1d38acc9eb8>,\n",
       " <matplotlib.lines.Line2D at 0x1d38accd048>,\n",
       " <matplotlib.lines.Line2D at 0x1d38accd198>,\n",
       " <matplotlib.lines.Line2D at 0x1d38accd2e8>,\n",
       " <matplotlib.lines.Line2D at 0x1d38accd438>,\n",
       " <matplotlib.lines.Line2D at 0x1d38accd588>,\n",
       " <matplotlib.lines.Line2D at 0x1d38accd6d8>,\n",
       " <matplotlib.lines.Line2D at 0x1d38accd828>,\n",
       " <matplotlib.lines.Line2D at 0x1d38accd978>,\n",
       " <matplotlib.lines.Line2D at 0x1d38accdac8>,\n",
       " <matplotlib.lines.Line2D at 0x1d38accdc18>,\n",
       " <matplotlib.lines.Line2D at 0x1d38accdd68>,\n",
       " <matplotlib.lines.Line2D at 0x1d38accdeb8>,\n",
       " <matplotlib.lines.Line2D at 0x1d38acd3048>,\n",
       " <matplotlib.lines.Line2D at 0x1d38acd3198>,\n",
       " <matplotlib.lines.Line2D at 0x1d38acd32e8>,\n",
       " <matplotlib.lines.Line2D at 0x1d38acd3438>,\n",
       " <matplotlib.lines.Line2D at 0x1d38acd3588>,\n",
       " <matplotlib.lines.Line2D at 0x1d38acd36d8>,\n",
       " <matplotlib.lines.Line2D at 0x1d38acd3828>,\n",
       " <matplotlib.lines.Line2D at 0x1d38acd3978>,\n",
       " <matplotlib.lines.Line2D at 0x1d38acd3ac8>,\n",
       " <matplotlib.lines.Line2D at 0x1d38acd3c18>,\n",
       " <matplotlib.lines.Line2D at 0x1d38acd3d68>,\n",
       " <matplotlib.lines.Line2D at 0x1d38acd3eb8>,\n",
       " <matplotlib.lines.Line2D at 0x1d38acd7048>,\n",
       " <matplotlib.lines.Line2D at 0x1d38acd7198>,\n",
       " <matplotlib.lines.Line2D at 0x1d38acd72e8>,\n",
       " <matplotlib.lines.Line2D at 0x1d38acd7438>,\n",
       " <matplotlib.lines.Line2D at 0x1d38acd7588>,\n",
       " <matplotlib.lines.Line2D at 0x1d38acd76d8>,\n",
       " <matplotlib.lines.Line2D at 0x1d38acd7828>,\n",
       " <matplotlib.lines.Line2D at 0x1d38acd7978>,\n",
       " <matplotlib.lines.Line2D at 0x1d38acd7ac8>,\n",
       " <matplotlib.lines.Line2D at 0x1d38acd7c18>,\n",
       " <matplotlib.lines.Line2D at 0x1d38acd7d68>,\n",
       " <matplotlib.lines.Line2D at 0x1d38acd7eb8>,\n",
       " <matplotlib.lines.Line2D at 0x1d38acdd048>,\n",
       " <matplotlib.lines.Line2D at 0x1d38acdd198>,\n",
       " <matplotlib.lines.Line2D at 0x1d38acdd2e8>,\n",
       " <matplotlib.lines.Line2D at 0x1d38acdd438>,\n",
       " <matplotlib.lines.Line2D at 0x1d38acdd588>,\n",
       " <matplotlib.lines.Line2D at 0x1d38acdd6d8>,\n",
       " <matplotlib.lines.Line2D at 0x1d38acdd828>,\n",
       " <matplotlib.lines.Line2D at 0x1d38acdd978>,\n",
       " <matplotlib.lines.Line2D at 0x1d38acddac8>,\n",
       " <matplotlib.lines.Line2D at 0x1d38acddc18>,\n",
       " <matplotlib.lines.Line2D at 0x1d38acddd68>,\n",
       " <matplotlib.lines.Line2D at 0x1d38acddeb8>,\n",
       " <matplotlib.lines.Line2D at 0x1d38ace2048>,\n",
       " <matplotlib.lines.Line2D at 0x1d38ace2198>,\n",
       " <matplotlib.lines.Line2D at 0x1d38ace22e8>,\n",
       " <matplotlib.lines.Line2D at 0x1d38ace2438>,\n",
       " <matplotlib.lines.Line2D at 0x1d38ace2588>,\n",
       " <matplotlib.lines.Line2D at 0x1d38ace26d8>,\n",
       " <matplotlib.lines.Line2D at 0x1d38ace2828>,\n",
       " <matplotlib.lines.Line2D at 0x1d38ace2978>,\n",
       " <matplotlib.lines.Line2D at 0x1d38ace2ac8>,\n",
       " <matplotlib.lines.Line2D at 0x1d38ace2c18>,\n",
       " <matplotlib.lines.Line2D at 0x1d38ace2d68>,\n",
       " <matplotlib.lines.Line2D at 0x1d38ace2eb8>,\n",
       " <matplotlib.lines.Line2D at 0x1d38ace7048>,\n",
       " <matplotlib.lines.Line2D at 0x1d38ace7198>,\n",
       " <matplotlib.lines.Line2D at 0x1d38ace72e8>,\n",
       " <matplotlib.lines.Line2D at 0x1d38ace7438>,\n",
       " <matplotlib.lines.Line2D at 0x1d38ace7588>,\n",
       " <matplotlib.lines.Line2D at 0x1d38ace76d8>,\n",
       " <matplotlib.lines.Line2D at 0x1d38ace7828>,\n",
       " <matplotlib.lines.Line2D at 0x1d38ace7978>,\n",
       " <matplotlib.lines.Line2D at 0x1d38ace7ac8>,\n",
       " <matplotlib.lines.Line2D at 0x1d38ace7c18>,\n",
       " <matplotlib.lines.Line2D at 0x1d38ace7d68>,\n",
       " <matplotlib.lines.Line2D at 0x1d38ace7eb8>,\n",
       " <matplotlib.lines.Line2D at 0x1d38aceb048>,\n",
       " <matplotlib.lines.Line2D at 0x1d38aceb198>,\n",
       " <matplotlib.lines.Line2D at 0x1d38aceb2e8>,\n",
       " <matplotlib.lines.Line2D at 0x1d38aceb438>,\n",
       " <matplotlib.lines.Line2D at 0x1d38aceb588>,\n",
       " <matplotlib.lines.Line2D at 0x1d38aceb6d8>,\n",
       " <matplotlib.lines.Line2D at 0x1d38aceb828>,\n",
       " <matplotlib.lines.Line2D at 0x1d38aceb978>,\n",
       " <matplotlib.lines.Line2D at 0x1d38acebac8>,\n",
       " <matplotlib.lines.Line2D at 0x1d38acebc18>,\n",
       " <matplotlib.lines.Line2D at 0x1d38acebd68>,\n",
       " <matplotlib.lines.Line2D at 0x1d38acebeb8>,\n",
       " <matplotlib.lines.Line2D at 0x1d38acf2048>,\n",
       " <matplotlib.lines.Line2D at 0x1d38acf2198>,\n",
       " <matplotlib.lines.Line2D at 0x1d38acf22e8>,\n",
       " <matplotlib.lines.Line2D at 0x1d38acf2438>,\n",
       " <matplotlib.lines.Line2D at 0x1d38acf2588>,\n",
       " <matplotlib.lines.Line2D at 0x1d38acf26d8>,\n",
       " <matplotlib.lines.Line2D at 0x1d38acf2828>,\n",
       " <matplotlib.lines.Line2D at 0x1d38acf2978>,\n",
       " <matplotlib.lines.Line2D at 0x1d38acf2ac8>,\n",
       " <matplotlib.lines.Line2D at 0x1d38acf2c18>,\n",
       " <matplotlib.lines.Line2D at 0x1d38acf2d68>,\n",
       " <matplotlib.lines.Line2D at 0x1d38acf2eb8>,\n",
       " <matplotlib.lines.Line2D at 0x1d38acf7048>,\n",
       " <matplotlib.lines.Line2D at 0x1d38acf7198>,\n",
       " <matplotlib.lines.Line2D at 0x1d38acf72e8>,\n",
       " <matplotlib.lines.Line2D at 0x1d38acf7438>,\n",
       " <matplotlib.lines.Line2D at 0x1d38acf7588>,\n",
       " <matplotlib.lines.Line2D at 0x1d38acf76d8>,\n",
       " <matplotlib.lines.Line2D at 0x1d38acf7828>,\n",
       " <matplotlib.lines.Line2D at 0x1d38acf7978>,\n",
       " <matplotlib.lines.Line2D at 0x1d38acf7ac8>,\n",
       " <matplotlib.lines.Line2D at 0x1d38acf7c18>,\n",
       " <matplotlib.lines.Line2D at 0x1d38acf7d68>,\n",
       " <matplotlib.lines.Line2D at 0x1d38acf7eb8>,\n",
       " <matplotlib.lines.Line2D at 0x1d38acfc048>,\n",
       " <matplotlib.lines.Line2D at 0x1d38acfc198>,\n",
       " <matplotlib.lines.Line2D at 0x1d38acfc2e8>,\n",
       " <matplotlib.lines.Line2D at 0x1d38acfc438>,\n",
       " <matplotlib.lines.Line2D at 0x1d38acfc588>,\n",
       " <matplotlib.lines.Line2D at 0x1d38acfc6d8>,\n",
       " <matplotlib.lines.Line2D at 0x1d38acfc828>,\n",
       " <matplotlib.lines.Line2D at 0x1d38acfc978>,\n",
       " <matplotlib.lines.Line2D at 0x1d38acfcac8>,\n",
       " <matplotlib.lines.Line2D at 0x1d38acfcc18>,\n",
       " <matplotlib.lines.Line2D at 0x1d38acfcd68>,\n",
       " <matplotlib.lines.Line2D at 0x1d38acfceb8>,\n",
       " <matplotlib.lines.Line2D at 0x1d38ad00048>,\n",
       " <matplotlib.lines.Line2D at 0x1d38ad00198>,\n",
       " <matplotlib.lines.Line2D at 0x1d38ad002e8>,\n",
       " <matplotlib.lines.Line2D at 0x1d38ad00438>,\n",
       " <matplotlib.lines.Line2D at 0x1d38ad00588>,\n",
       " <matplotlib.lines.Line2D at 0x1d38ad006d8>,\n",
       " <matplotlib.lines.Line2D at 0x1d38ad00828>,\n",
       " <matplotlib.lines.Line2D at 0x1d38ad00978>,\n",
       " <matplotlib.lines.Line2D at 0x1d38ad00ac8>,\n",
       " <matplotlib.lines.Line2D at 0x1d38ad00c18>,\n",
       " <matplotlib.lines.Line2D at 0x1d38ad00d68>,\n",
       " <matplotlib.lines.Line2D at 0x1d38ad00eb8>,\n",
       " <matplotlib.lines.Line2D at 0x1d38ad07048>,\n",
       " <matplotlib.lines.Line2D at 0x1d38ad07198>,\n",
       " <matplotlib.lines.Line2D at 0x1d38ad072e8>,\n",
       " <matplotlib.lines.Line2D at 0x1d38ad07438>,\n",
       " <matplotlib.lines.Line2D at 0x1d38ad07588>,\n",
       " <matplotlib.lines.Line2D at 0x1d38ad076d8>,\n",
       " <matplotlib.lines.Line2D at 0x1d38ad07828>,\n",
       " <matplotlib.lines.Line2D at 0x1d38ad07978>,\n",
       " <matplotlib.lines.Line2D at 0x1d38ad07ac8>,\n",
       " <matplotlib.lines.Line2D at 0x1d38ad07c18>,\n",
       " <matplotlib.lines.Line2D at 0x1d38ad07d68>,\n",
       " <matplotlib.lines.Line2D at 0x1d38ad07eb8>,\n",
       " <matplotlib.lines.Line2D at 0x1d38ad0b048>,\n",
       " <matplotlib.lines.Line2D at 0x1d38ad0b198>,\n",
       " <matplotlib.lines.Line2D at 0x1d38ad0b2e8>,\n",
       " <matplotlib.lines.Line2D at 0x1d38ad0b438>,\n",
       " <matplotlib.lines.Line2D at 0x1d38ad0b588>,\n",
       " <matplotlib.lines.Line2D at 0x1d38ad0b6d8>,\n",
       " <matplotlib.lines.Line2D at 0x1d38ad0b828>,\n",
       " <matplotlib.lines.Line2D at 0x1d38ad0b978>,\n",
       " <matplotlib.lines.Line2D at 0x1d38ad0bac8>,\n",
       " <matplotlib.lines.Line2D at 0x1d38ad0bc18>,\n",
       " <matplotlib.lines.Line2D at 0x1d38ad0bd68>,\n",
       " <matplotlib.lines.Line2D at 0x1d38ad0beb8>,\n",
       " <matplotlib.lines.Line2D at 0x1d38ad0f048>,\n",
       " <matplotlib.lines.Line2D at 0x1d38ad0f198>,\n",
       " <matplotlib.lines.Line2D at 0x1d38ad0f2e8>,\n",
       " <matplotlib.lines.Line2D at 0x1d38ad0f438>,\n",
       " <matplotlib.lines.Line2D at 0x1d38ad0f588>,\n",
       " <matplotlib.lines.Line2D at 0x1d38ad0f6d8>,\n",
       " <matplotlib.lines.Line2D at 0x1d38ad0f828>,\n",
       " <matplotlib.lines.Line2D at 0x1d38ad0f978>,\n",
       " <matplotlib.lines.Line2D at 0x1d38ad0fac8>,\n",
       " <matplotlib.lines.Line2D at 0x1d38ad0fc18>,\n",
       " <matplotlib.lines.Line2D at 0x1d38ad0fd68>,\n",
       " <matplotlib.lines.Line2D at 0x1d38ad0feb8>,\n",
       " <matplotlib.lines.Line2D at 0x1d38ad14048>,\n",
       " <matplotlib.lines.Line2D at 0x1d38ad14198>,\n",
       " <matplotlib.lines.Line2D at 0x1d38ad142e8>,\n",
       " <matplotlib.lines.Line2D at 0x1d38ad14438>,\n",
       " <matplotlib.lines.Line2D at 0x1d38ad14588>,\n",
       " <matplotlib.lines.Line2D at 0x1d38ad146d8>,\n",
       " <matplotlib.lines.Line2D at 0x1d38ad14828>,\n",
       " <matplotlib.lines.Line2D at 0x1d38ad14978>,\n",
       " <matplotlib.lines.Line2D at 0x1d38ad14ac8>,\n",
       " <matplotlib.lines.Line2D at 0x1d38ad14c18>,\n",
       " <matplotlib.lines.Line2D at 0x1d38ad14d68>,\n",
       " <matplotlib.lines.Line2D at 0x1d38ad14eb8>,\n",
       " <matplotlib.lines.Line2D at 0x1d38ad1b048>,\n",
       " <matplotlib.lines.Line2D at 0x1d38ad1b198>,\n",
       " <matplotlib.lines.Line2D at 0x1d38ad1b2e8>,\n",
       " <matplotlib.lines.Line2D at 0x1d38ad1b438>,\n",
       " <matplotlib.lines.Line2D at 0x1d38ad1b588>,\n",
       " <matplotlib.lines.Line2D at 0x1d38ad1b6d8>,\n",
       " <matplotlib.lines.Line2D at 0x1d38ad1b828>,\n",
       " <matplotlib.lines.Line2D at 0x1d38ad1b978>,\n",
       " <matplotlib.lines.Line2D at 0x1d38ad1bac8>,\n",
       " <matplotlib.lines.Line2D at 0x1d38ad1bc18>,\n",
       " <matplotlib.lines.Line2D at 0x1d38ad1bd68>,\n",
       " <matplotlib.lines.Line2D at 0x1d38ad1beb8>,\n",
       " <matplotlib.lines.Line2D at 0x1d38ad20048>,\n",
       " <matplotlib.lines.Line2D at 0x1d38ad20198>,\n",
       " <matplotlib.lines.Line2D at 0x1d38ad202e8>,\n",
       " <matplotlib.lines.Line2D at 0x1d38ad20438>,\n",
       " <matplotlib.lines.Line2D at 0x1d38ad20588>,\n",
       " <matplotlib.lines.Line2D at 0x1d38ad206d8>,\n",
       " <matplotlib.lines.Line2D at 0x1d38ad20828>,\n",
       " <matplotlib.lines.Line2D at 0x1d38ad20978>,\n",
       " <matplotlib.lines.Line2D at 0x1d38ad20ac8>,\n",
       " <matplotlib.lines.Line2D at 0x1d38ad20c18>,\n",
       " <matplotlib.lines.Line2D at 0x1d38ad20d68>,\n",
       " <matplotlib.lines.Line2D at 0x1d38ad20eb8>,\n",
       " <matplotlib.lines.Line2D at 0x1d38ad24048>,\n",
       " <matplotlib.lines.Line2D at 0x1d38ad24198>,\n",
       " <matplotlib.lines.Line2D at 0x1d38ad242e8>,\n",
       " <matplotlib.lines.Line2D at 0x1d38ad24438>,\n",
       " <matplotlib.lines.Line2D at 0x1d38ad24588>,\n",
       " <matplotlib.lines.Line2D at 0x1d38ad246d8>,\n",
       " <matplotlib.lines.Line2D at 0x1d38ad24828>,\n",
       " <matplotlib.lines.Line2D at 0x1d38ad24978>,\n",
       " <matplotlib.lines.Line2D at 0x1d38ad24ac8>,\n",
       " <matplotlib.lines.Line2D at 0x1d38ad24c18>,\n",
       " <matplotlib.lines.Line2D at 0x1d38ad24d68>,\n",
       " <matplotlib.lines.Line2D at 0x1d38ad24eb8>,\n",
       " <matplotlib.lines.Line2D at 0x1d38ad2a048>,\n",
       " <matplotlib.lines.Line2D at 0x1d38ad2a198>,\n",
       " <matplotlib.lines.Line2D at 0x1d38ad2a2e8>,\n",
       " <matplotlib.lines.Line2D at 0x1d38ad2a438>,\n",
       " <matplotlib.lines.Line2D at 0x1d38ad2a588>,\n",
       " <matplotlib.lines.Line2D at 0x1d38ad2a6d8>,\n",
       " <matplotlib.lines.Line2D at 0x1d38ad2a828>,\n",
       " <matplotlib.lines.Line2D at 0x1d38ad2a978>,\n",
       " <matplotlib.lines.Line2D at 0x1d38ad2aac8>,\n",
       " <matplotlib.lines.Line2D at 0x1d38ad2ac18>,\n",
       " <matplotlib.lines.Line2D at 0x1d38ad2ad68>,\n",
       " <matplotlib.lines.Line2D at 0x1d38ad2aeb8>,\n",
       " <matplotlib.lines.Line2D at 0x1d38ad2f048>,\n",
       " <matplotlib.lines.Line2D at 0x1d38ad2f198>,\n",
       " <matplotlib.lines.Line2D at 0x1d38ad2f2e8>,\n",
       " <matplotlib.lines.Line2D at 0x1d38ad2f438>,\n",
       " <matplotlib.lines.Line2D at 0x1d38ad2f588>,\n",
       " <matplotlib.lines.Line2D at 0x1d38ad2f6d8>,\n",
       " <matplotlib.lines.Line2D at 0x1d38ad2f828>,\n",
       " <matplotlib.lines.Line2D at 0x1d38ad2f978>,\n",
       " <matplotlib.lines.Line2D at 0x1d38ad2fac8>,\n",
       " <matplotlib.lines.Line2D at 0x1d38ad2fc18>,\n",
       " <matplotlib.lines.Line2D at 0x1d38ad2fd68>,\n",
       " <matplotlib.lines.Line2D at 0x1d38ad2feb8>,\n",
       " <matplotlib.lines.Line2D at 0x1d38ad34048>,\n",
       " <matplotlib.lines.Line2D at 0x1d38ad34198>,\n",
       " <matplotlib.lines.Line2D at 0x1d38ad342e8>,\n",
       " <matplotlib.lines.Line2D at 0x1d38ad34438>,\n",
       " <matplotlib.lines.Line2D at 0x1d38ad34588>,\n",
       " <matplotlib.lines.Line2D at 0x1d38ad346d8>,\n",
       " <matplotlib.lines.Line2D at 0x1d38ad34828>,\n",
       " <matplotlib.lines.Line2D at 0x1d38ad34978>,\n",
       " <matplotlib.lines.Line2D at 0x1d38ad34ac8>,\n",
       " <matplotlib.lines.Line2D at 0x1d38ad34c18>,\n",
       " <matplotlib.lines.Line2D at 0x1d38ad34d68>,\n",
       " <matplotlib.lines.Line2D at 0x1d38ad34eb8>,\n",
       " <matplotlib.lines.Line2D at 0x1d38ad39048>,\n",
       " <matplotlib.lines.Line2D at 0x1d38ad39198>,\n",
       " <matplotlib.lines.Line2D at 0x1d38ad392e8>,\n",
       " <matplotlib.lines.Line2D at 0x1d38ad39438>,\n",
       " <matplotlib.lines.Line2D at 0x1d38ad39588>,\n",
       " <matplotlib.lines.Line2D at 0x1d38ad396d8>,\n",
       " <matplotlib.lines.Line2D at 0x1d38ad39828>,\n",
       " <matplotlib.lines.Line2D at 0x1d38ad39978>,\n",
       " <matplotlib.lines.Line2D at 0x1d38ad39ac8>,\n",
       " <matplotlib.lines.Line2D at 0x1d38ad39c18>,\n",
       " <matplotlib.lines.Line2D at 0x1d38ad39d68>,\n",
       " <matplotlib.lines.Line2D at 0x1d38ad39eb8>,\n",
       " <matplotlib.lines.Line2D at 0x1d38ad3e048>,\n",
       " <matplotlib.lines.Line2D at 0x1d38ad3e198>,\n",
       " <matplotlib.lines.Line2D at 0x1d38ad3e2e8>,\n",
       " <matplotlib.lines.Line2D at 0x1d38ad3e438>,\n",
       " <matplotlib.lines.Line2D at 0x1d38ad3e588>,\n",
       " <matplotlib.lines.Line2D at 0x1d38ad3e6d8>,\n",
       " <matplotlib.lines.Line2D at 0x1d38ad3e828>,\n",
       " <matplotlib.lines.Line2D at 0x1d38ad3e978>,\n",
       " <matplotlib.lines.Line2D at 0x1d38ad3eac8>,\n",
       " <matplotlib.lines.Line2D at 0x1d38ad3ec18>,\n",
       " <matplotlib.lines.Line2D at 0x1d38ad3ed68>,\n",
       " <matplotlib.lines.Line2D at 0x1d38ad3eeb8>,\n",
       " <matplotlib.lines.Line2D at 0x1d38ad44048>,\n",
       " <matplotlib.lines.Line2D at 0x1d38ad44198>,\n",
       " <matplotlib.lines.Line2D at 0x1d38ad442e8>,\n",
       " <matplotlib.lines.Line2D at 0x1d38ad44438>,\n",
       " <matplotlib.lines.Line2D at 0x1d38ad44588>,\n",
       " <matplotlib.lines.Line2D at 0x1d38ad446d8>,\n",
       " <matplotlib.lines.Line2D at 0x1d38ad44828>,\n",
       " <matplotlib.lines.Line2D at 0x1d38ad44978>,\n",
       " <matplotlib.lines.Line2D at 0x1d38ad44ac8>,\n",
       " <matplotlib.lines.Line2D at 0x1d38ad44c18>,\n",
       " <matplotlib.lines.Line2D at 0x1d38ad44d68>,\n",
       " <matplotlib.lines.Line2D at 0x1d38ad44eb8>,\n",
       " <matplotlib.lines.Line2D at 0x1d38ad49048>,\n",
       " <matplotlib.lines.Line2D at 0x1d38ad49198>,\n",
       " <matplotlib.lines.Line2D at 0x1d38ad492e8>,\n",
       " <matplotlib.lines.Line2D at 0x1d38ad49438>,\n",
       " <matplotlib.lines.Line2D at 0x1d38ad49588>,\n",
       " <matplotlib.lines.Line2D at 0x1d38ad496d8>,\n",
       " <matplotlib.lines.Line2D at 0x1d38ad49828>,\n",
       " <matplotlib.lines.Line2D at 0x1d38ad49978>,\n",
       " <matplotlib.lines.Line2D at 0x1d38ad49ac8>,\n",
       " <matplotlib.lines.Line2D at 0x1d38ad49c18>,\n",
       " <matplotlib.lines.Line2D at 0x1d38ad49d68>,\n",
       " <matplotlib.lines.Line2D at 0x1d38ad49eb8>,\n",
       " <matplotlib.lines.Line2D at 0x1d38ad4f048>,\n",
       " <matplotlib.lines.Line2D at 0x1d38ad4f198>,\n",
       " <matplotlib.lines.Line2D at 0x1d38ad4f2e8>,\n",
       " <matplotlib.lines.Line2D at 0x1d38ad4f438>,\n",
       " <matplotlib.lines.Line2D at 0x1d38ad4f588>,\n",
       " <matplotlib.lines.Line2D at 0x1d38ad4f6d8>,\n",
       " <matplotlib.lines.Line2D at 0x1d38ad4f828>,\n",
       " <matplotlib.lines.Line2D at 0x1d38ad4f978>,\n",
       " <matplotlib.lines.Line2D at 0x1d38ad4fac8>,\n",
       " <matplotlib.lines.Line2D at 0x1d38ad4fc18>,\n",
       " <matplotlib.lines.Line2D at 0x1d38ad4fd68>,\n",
       " <matplotlib.lines.Line2D at 0x1d38ad4feb8>,\n",
       " <matplotlib.lines.Line2D at 0x1d38ad53048>,\n",
       " <matplotlib.lines.Line2D at 0x1d38ad53198>,\n",
       " <matplotlib.lines.Line2D at 0x1d38ad532e8>,\n",
       " <matplotlib.lines.Line2D at 0x1d38ad53438>,\n",
       " <matplotlib.lines.Line2D at 0x1d38ad53588>,\n",
       " <matplotlib.lines.Line2D at 0x1d38ad536d8>,\n",
       " <matplotlib.lines.Line2D at 0x1d38ad53828>]"
      ]
     },
     "execution_count": 305,
     "metadata": {},
     "output_type": "execute_result"
    },
    {
     "data": {
      "image/png": "[encoded data removed]",
      "text/plain": [
       "<Figure size 432x288 with 1 Axes>"
      ]
     },
     "metadata": {
      "needs_background": "light"
     },
     "output_type": "display_data"
    }
   ],
   "source": [
    "plt.plot(walks[:10])"
   ]
  },
  {
   "cell_type": "markdown",
   "metadata": {},
   "source": [
    "## Conclusion結論"
   ]
  }
 ],
 "metadata": {
  "kernelspec": {
   "display_name": "Python 3",
   "language": "python",
   "name": "python3"
  },
  "language_info": {
   "codemirror_mode": {
    "name": "ipython",
    "version": 3
   },
   "file_extension": ".py",
   "mimetype": "text/x-python",
   "name": "python",
   "nbconvert_exporter": "python",
   "pygments_lexer": "ipython3",
   "version": "3.7.0"
  }
 },
 "nbformat": 4,
 "nbformat_minor": 1
}
